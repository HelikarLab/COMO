{
 "cells": [
  {
   "cell_type": "markdown",
   "metadata": {},
   "source": [
    "# Pre-Process the data\n",
    "Throw data of each gene to "
   ]
  },
  {
   "cell_type": "code",
   "execution_count": 60,
   "metadata": {},
   "outputs": [],
   "source": [
    "import GEOparse\n",
    "import re\n",
    "import os"
   ]
  },
  {
   "cell_type": "markdown",
   "metadata": {},
   "source": [
    "## Extract Gene Info from GEO DataSets"
   ]
  },
  {
   "cell_type": "code",
   "execution_count": 1,
   "metadata": {},
   "outputs": [
    {
     "name": "stderr",
     "output_type": "stream",
     "text": [
      "02-Aug-2019 15:17:13 DEBUG utils - Directory ./ already exists. Skipping.\n",
      "02-Aug-2019 15:17:13 INFO GEOparse - File already exist: using local version.\n",
      "02-Aug-2019 15:17:13 INFO GEOparse - Parsing ./GSE2770_family.soft.gz: \n",
      "02-Aug-2019 15:17:13 DEBUG GEOparse - DATABASE: GeoMiame\n",
      "02-Aug-2019 15:17:13 DEBUG GEOparse - SERIES: GSE2770\n",
      "02-Aug-2019 15:17:13 DEBUG GEOparse - PLATFORM: GPL96\n",
      "02-Aug-2019 15:17:15 DEBUG GEOparse - PLATFORM: GPL97\n",
      "02-Aug-2019 15:17:16 DEBUG GEOparse - PLATFORM: GPL8300\n",
      "02-Aug-2019 15:17:16 DEBUG GEOparse - SAMPLE: GSM60348\n",
      "02-Aug-2019 15:17:17 DEBUG GEOparse - SAMPLE: GSM60349\n",
      "02-Aug-2019 15:17:17 DEBUG GEOparse - SAMPLE: GSM60350\n",
      "02-Aug-2019 15:17:17 DEBUG GEOparse - SAMPLE: GSM60351\n",
      "02-Aug-2019 15:17:17 DEBUG GEOparse - SAMPLE: GSM60352\n",
      "02-Aug-2019 15:17:17 DEBUG GEOparse - SAMPLE: GSM60353\n",
      "02-Aug-2019 15:17:17 DEBUG GEOparse - SAMPLE: GSM60354\n",
      "02-Aug-2019 15:17:17 DEBUG GEOparse - SAMPLE: GSM60355\n",
      "02-Aug-2019 15:17:17 DEBUG GEOparse - SAMPLE: GSM60356\n",
      "02-Aug-2019 15:17:17 DEBUG GEOparse - SAMPLE: GSM60357\n",
      "02-Aug-2019 15:17:17 DEBUG GEOparse - SAMPLE: GSM60358\n",
      "02-Aug-2019 15:17:17 DEBUG GEOparse - SAMPLE: GSM60359\n",
      "02-Aug-2019 15:17:17 DEBUG GEOparse - SAMPLE: GSM60360\n",
      "02-Aug-2019 15:17:17 DEBUG GEOparse - SAMPLE: GSM60361\n",
      "02-Aug-2019 15:17:17 DEBUG GEOparse - SAMPLE: GSM60362\n",
      "02-Aug-2019 15:17:17 DEBUG GEOparse - SAMPLE: GSM60363\n",
      "02-Aug-2019 15:17:17 DEBUG GEOparse - SAMPLE: GSM60364\n",
      "02-Aug-2019 15:17:17 DEBUG GEOparse - SAMPLE: GSM60365\n",
      "02-Aug-2019 15:17:18 DEBUG GEOparse - SAMPLE: GSM60366\n",
      "02-Aug-2019 15:17:18 DEBUG GEOparse - SAMPLE: GSM60367\n",
      "02-Aug-2019 15:17:18 DEBUG GEOparse - SAMPLE: GSM60368\n",
      "02-Aug-2019 15:17:18 DEBUG GEOparse - SAMPLE: GSM60369\n",
      "02-Aug-2019 15:17:18 DEBUG GEOparse - SAMPLE: GSM60370\n",
      "02-Aug-2019 15:17:18 DEBUG GEOparse - SAMPLE: GSM60371\n",
      "02-Aug-2019 15:17:18 DEBUG GEOparse - SAMPLE: GSM60372\n",
      "02-Aug-2019 15:17:18 DEBUG GEOparse - SAMPLE: GSM60373\n",
      "02-Aug-2019 15:17:18 DEBUG GEOparse - SAMPLE: GSM60374\n",
      "02-Aug-2019 15:17:18 DEBUG GEOparse - SAMPLE: GSM60375\n",
      "02-Aug-2019 15:17:18 DEBUG GEOparse - SAMPLE: GSM60376\n",
      "02-Aug-2019 15:17:18 DEBUG GEOparse - SAMPLE: GSM60377\n",
      "02-Aug-2019 15:17:18 DEBUG GEOparse - SAMPLE: GSM60378\n",
      "02-Aug-2019 15:17:18 DEBUG GEOparse - SAMPLE: GSM60379\n",
      "02-Aug-2019 15:17:18 DEBUG GEOparse - SAMPLE: GSM60380\n",
      "02-Aug-2019 15:17:18 DEBUG GEOparse - SAMPLE: GSM60381\n",
      "02-Aug-2019 15:17:18 DEBUG GEOparse - SAMPLE: GSM60699\n",
      "02-Aug-2019 15:17:18 DEBUG GEOparse - SAMPLE: GSM60700\n",
      "02-Aug-2019 15:17:18 DEBUG GEOparse - SAMPLE: GSM60701\n",
      "02-Aug-2019 15:17:19 DEBUG GEOparse - SAMPLE: GSM60702\n",
      "02-Aug-2019 15:17:19 DEBUG GEOparse - SAMPLE: GSM60703\n",
      "02-Aug-2019 15:17:19 DEBUG GEOparse - SAMPLE: GSM60704\n",
      "02-Aug-2019 15:17:19 DEBUG GEOparse - SAMPLE: GSM60705\n",
      "02-Aug-2019 15:17:19 DEBUG GEOparse - SAMPLE: GSM60706\n",
      "02-Aug-2019 15:17:19 DEBUG GEOparse - SAMPLE: GSM60707\n",
      "02-Aug-2019 15:17:19 DEBUG GEOparse - SAMPLE: GSM60708\n",
      "02-Aug-2019 15:17:19 DEBUG GEOparse - SAMPLE: GSM60709\n",
      "02-Aug-2019 15:17:19 DEBUG GEOparse - SAMPLE: GSM60710\n",
      "02-Aug-2019 15:17:19 DEBUG GEOparse - SAMPLE: GSM60711\n",
      "02-Aug-2019 15:17:19 DEBUG GEOparse - SAMPLE: GSM60712\n",
      "02-Aug-2019 15:17:19 DEBUG GEOparse - SAMPLE: GSM60713\n",
      "02-Aug-2019 15:17:20 DEBUG GEOparse - SAMPLE: GSM60714\n",
      "02-Aug-2019 15:17:20 DEBUG GEOparse - SAMPLE: GSM60715\n",
      "02-Aug-2019 15:17:20 DEBUG GEOparse - SAMPLE: GSM60716\n",
      "02-Aug-2019 15:17:20 DEBUG GEOparse - SAMPLE: GSM60717\n",
      "02-Aug-2019 15:17:20 DEBUG GEOparse - SAMPLE: GSM60718\n",
      "02-Aug-2019 15:17:20 DEBUG GEOparse - SAMPLE: GSM60719\n",
      "02-Aug-2019 15:17:20 DEBUG GEOparse - SAMPLE: GSM60720\n",
      "02-Aug-2019 15:17:20 DEBUG GEOparse - SAMPLE: GSM60721\n",
      "02-Aug-2019 15:17:20 DEBUG GEOparse - SAMPLE: GSM60722\n",
      "02-Aug-2019 15:17:20 DEBUG GEOparse - SAMPLE: GSM60723\n",
      "02-Aug-2019 15:17:20 DEBUG GEOparse - SAMPLE: GSM60724\n",
      "02-Aug-2019 15:17:20 DEBUG GEOparse - SAMPLE: GSM60725\n",
      "02-Aug-2019 15:17:20 DEBUG GEOparse - SAMPLE: GSM60726\n",
      "02-Aug-2019 15:17:20 DEBUG GEOparse - SAMPLE: GSM60727\n",
      "02-Aug-2019 15:17:21 DEBUG GEOparse - SAMPLE: GSM60728\n",
      "02-Aug-2019 15:17:21 DEBUG GEOparse - SAMPLE: GSM60729\n",
      "02-Aug-2019 15:17:21 DEBUG GEOparse - SAMPLE: GSM60730\n",
      "02-Aug-2019 15:17:21 DEBUG GEOparse - SAMPLE: GSM60731\n",
      "02-Aug-2019 15:17:21 DEBUG GEOparse - SAMPLE: GSM60732\n",
      "02-Aug-2019 15:17:21 DEBUG GEOparse - SAMPLE: GSM60733\n",
      "02-Aug-2019 15:17:21 DEBUG GEOparse - SAMPLE: GSM60734\n",
      "02-Aug-2019 15:17:21 DEBUG GEOparse - SAMPLE: GSM60735\n",
      "02-Aug-2019 15:17:21 DEBUG GEOparse - SAMPLE: GSM60736\n",
      "02-Aug-2019 15:17:21 DEBUG GEOparse - SAMPLE: GSM60737\n",
      "02-Aug-2019 15:17:21 DEBUG GEOparse - SAMPLE: GSM60738\n",
      "02-Aug-2019 15:17:21 DEBUG GEOparse - SAMPLE: GSM60739\n",
      "02-Aug-2019 15:17:21 DEBUG GEOparse - SAMPLE: GSM60740\n",
      "02-Aug-2019 15:17:22 DEBUG GEOparse - SAMPLE: GSM60741\n",
      "02-Aug-2019 15:17:22 DEBUG GEOparse - SAMPLE: GSM60742\n",
      "02-Aug-2019 15:17:22 DEBUG GEOparse - SAMPLE: GSM60743\n",
      "02-Aug-2019 15:17:22 DEBUG GEOparse - SAMPLE: GSM60744\n",
      "02-Aug-2019 15:17:22 DEBUG GEOparse - SAMPLE: GSM60745\n",
      "02-Aug-2019 15:17:22 DEBUG GEOparse - SAMPLE: GSM60746\n",
      "02-Aug-2019 15:17:22 DEBUG GEOparse - SAMPLE: GSM60747\n",
      "02-Aug-2019 15:17:22 DEBUG GEOparse - SAMPLE: GSM60748\n",
      "02-Aug-2019 15:17:22 DEBUG GEOparse - SAMPLE: GSM60749\n",
      "02-Aug-2019 15:17:22 DEBUG GEOparse - SAMPLE: GSM60750\n",
      "02-Aug-2019 15:17:22 DEBUG GEOparse - SAMPLE: GSM60751\n",
      "02-Aug-2019 15:17:22 DEBUG GEOparse - SAMPLE: GSM60752\n",
      "02-Aug-2019 15:17:22 DEBUG GEOparse - SAMPLE: GSM60753\n",
      "02-Aug-2019 15:17:23 DEBUG GEOparse - SAMPLE: GSM60754\n",
      "02-Aug-2019 15:17:23 DEBUG GEOparse - SAMPLE: GSM60755\n",
      "02-Aug-2019 15:17:23 DEBUG GEOparse - SAMPLE: GSM60756\n",
      "02-Aug-2019 15:17:23 DEBUG GEOparse - SAMPLE: GSM60757\n",
      "02-Aug-2019 15:17:23 DEBUG GEOparse - SAMPLE: GSM60758\n",
      "02-Aug-2019 15:17:23 DEBUG GEOparse - SAMPLE: GSM60759\n",
      "02-Aug-2019 15:17:23 DEBUG GEOparse - SAMPLE: GSM60760\n",
      "02-Aug-2019 15:17:23 DEBUG GEOparse - SAMPLE: GSM60761\n",
      "02-Aug-2019 15:17:23 DEBUG GEOparse - SAMPLE: GSM60762\n",
      "02-Aug-2019 15:17:23 DEBUG GEOparse - SAMPLE: GSM60763\n",
      "02-Aug-2019 15:17:23 DEBUG GEOparse - SAMPLE: GSM60764\n",
      "02-Aug-2019 15:17:23 DEBUG GEOparse - SAMPLE: GSM60765\n",
      "02-Aug-2019 15:17:23 DEBUG GEOparse - SAMPLE: GSM60766\n"
     ]
    }
   ],
   "source": [
    "gse = GEOparse.get_GEO(geo=\"GSE2770\", destdir=\"./\")"
   ]
  },
  {
   "cell_type": "markdown",
   "metadata": {},
   "source": [
    "## Extract Platform Information"
   ]
  },
  {
   "cell_type": "code",
   "execution_count": 36,
   "metadata": {},
   "outputs": [
    {
     "name": "stdout",
     "output_type": "stream",
     "text": [
      "GPL96\n",
      "[HG-U133A] Affymetrix Human Genome U133A Array\n",
      "GPL97\n",
      "[HG-U133B] Affymetrix Human Genome U133B Array\n",
      "GPL8300\n",
      "[HG_U95Av2] Affymetrix Human Genome U95 Version 2 Array\n"
     ]
    }
   ],
   "source": [
    "keys = []\n",
    "values = []\n",
    "for gpl in gse.gpls:\n",
    "    keys.append(gse.gpls[gpl].name)\n",
    "    r1 = re.findall(r\"\\[.*?\\]\",gse.gpls[gpl].metadata['title'][0])\n",
    "    values.append(r1[0][4:-1])\n",
    "    #values.append(gse.gpls[gpl].metadata['title'][0])\n",
    "    print(gse.gpls[gpl].name)\n",
    "    print(gse.gpls[gpl].metadata['title'][0])\n",
    "    \n",
    "celformat = dict(zip(keys, values))"
   ]
  },
  {
   "cell_type": "markdown",
   "metadata": {},
   "source": [
    "## Classify the Samples by Platform"
   ]
  },
  {
   "cell_type": "code",
   "execution_count": 59,
   "metadata": {
    "scrolled": true
   },
   "outputs": [
    {
     "data": {
      "text/plain": [
       "{'GSM60348': 'GPL8300',\n",
       " 'GSM60349': 'GPL8300',\n",
       " 'GSM60350': 'GPL8300',\n",
       " 'GSM60351': 'GPL8300',\n",
       " 'GSM60352': 'GPL8300',\n",
       " 'GSM60353': 'GPL8300',\n",
       " 'GSM60354': 'GPL8300',\n",
       " 'GSM60355': 'GPL8300',\n",
       " 'GSM60356': 'GPL8300',\n",
       " 'GSM60357': 'GPL8300',\n",
       " 'GSM60358': 'GPL8300',\n",
       " 'GSM60359': 'GPL8300',\n",
       " 'GSM60360': 'GPL8300',\n",
       " 'GSM60361': 'GPL8300',\n",
       " 'GSM60362': 'GPL8300',\n",
       " 'GSM60363': 'GPL8300',\n",
       " 'GSM60364': 'GPL8300',\n",
       " 'GSM60365': 'GPL8300',\n",
       " 'GSM60366': 'GPL8300',\n",
       " 'GSM60367': 'GPL8300',\n",
       " 'GSM60368': 'GPL8300',\n",
       " 'GSM60369': 'GPL8300',\n",
       " 'GSM60370': 'GPL8300',\n",
       " 'GSM60371': 'GPL8300',\n",
       " 'GSM60372': 'GPL8300',\n",
       " 'GSM60373': 'GPL8300',\n",
       " 'GSM60374': 'GPL8300',\n",
       " 'GSM60375': 'GPL8300',\n",
       " 'GSM60376': 'GPL8300',\n",
       " 'GSM60377': 'GPL8300',\n",
       " 'GSM60378': 'GPL8300',\n",
       " 'GSM60379': 'GPL8300',\n",
       " 'GSM60380': 'GPL8300',\n",
       " 'GSM60381': 'GPL8300',\n",
       " 'GSM60699': 'GPL96',\n",
       " 'GSM60700': 'GPL96',\n",
       " 'GSM60701': 'GPL96',\n",
       " 'GSM60702': 'GPL96',\n",
       " 'GSM60703': 'GPL96',\n",
       " 'GSM60704': 'GPL96',\n",
       " 'GSM60705': 'GPL96',\n",
       " 'GSM60706': 'GPL96',\n",
       " 'GSM60707': 'GPL96',\n",
       " 'GSM60708': 'GPL96',\n",
       " 'GSM60709': 'GPL96',\n",
       " 'GSM60710': 'GPL96',\n",
       " 'GSM60711': 'GPL96',\n",
       " 'GSM60712': 'GPL96',\n",
       " 'GSM60713': 'GPL96',\n",
       " 'GSM60714': 'GPL96',\n",
       " 'GSM60715': 'GPL96',\n",
       " 'GSM60716': 'GPL96',\n",
       " 'GSM60717': 'GPL96',\n",
       " 'GSM60718': 'GPL96',\n",
       " 'GSM60719': 'GPL96',\n",
       " 'GSM60720': 'GPL96',\n",
       " 'GSM60721': 'GPL96',\n",
       " 'GSM60722': 'GPL96',\n",
       " 'GSM60723': 'GPL96',\n",
       " 'GSM60724': 'GPL96',\n",
       " 'GSM60725': 'GPL96',\n",
       " 'GSM60726': 'GPL96',\n",
       " 'GSM60727': 'GPL96',\n",
       " 'GSM60728': 'GPL96',\n",
       " 'GSM60729': 'GPL96',\n",
       " 'GSM60730': 'GPL96',\n",
       " 'GSM60731': 'GPL96',\n",
       " 'GSM60732': 'GPL96',\n",
       " 'GSM60733': 'GPL97',\n",
       " 'GSM60734': 'GPL97',\n",
       " 'GSM60735': 'GPL97',\n",
       " 'GSM60736': 'GPL97',\n",
       " 'GSM60737': 'GPL97',\n",
       " 'GSM60738': 'GPL97',\n",
       " 'GSM60739': 'GPL97',\n",
       " 'GSM60740': 'GPL97',\n",
       " 'GSM60741': 'GPL97',\n",
       " 'GSM60742': 'GPL97',\n",
       " 'GSM60743': 'GPL97',\n",
       " 'GSM60744': 'GPL97',\n",
       " 'GSM60745': 'GPL97',\n",
       " 'GSM60746': 'GPL97',\n",
       " 'GSM60747': 'GPL97',\n",
       " 'GSM60748': 'GPL97',\n",
       " 'GSM60749': 'GPL97',\n",
       " 'GSM60750': 'GPL97',\n",
       " 'GSM60751': 'GPL97',\n",
       " 'GSM60752': 'GPL97',\n",
       " 'GSM60753': 'GPL97',\n",
       " 'GSM60754': 'GPL97',\n",
       " 'GSM60755': 'GPL97',\n",
       " 'GSM60756': 'GPL97',\n",
       " 'GSM60757': 'GPL97',\n",
       " 'GSM60758': 'GPL97',\n",
       " 'GSM60759': 'GPL97',\n",
       " 'GSM60760': 'GPL97',\n",
       " 'GSM60761': 'GPL97',\n",
       " 'GSM60762': 'GPL97',\n",
       " 'GSM60763': 'GPL97',\n",
       " 'GSM60764': 'GPL97',\n",
       " 'GSM60765': 'GPL97',\n",
       " 'GSM60766': 'GPL97'}"
      ]
     },
     "execution_count": 59,
     "metadata": {},
     "output_type": "execute_result"
    }
   ],
   "source": [
    "keys = []\n",
    "values = []\n",
    "for gsm in gse.gsms:\n",
    "    #print(gse.gsms[gsm].name)\n",
    "    keys.append(gse.gsms[gsm].name)\n",
    "    for key,val in celformat.items():\n",
    "        r1 = re.findall(r\"{}\".format(val),gse.gsms[gsm].columns.loc['ID_REF','description'])\n",
    "        if not r1:\n",
    "            pass\n",
    "        else:\n",
    "            values.append(key)\n",
    "    #r1 = re.findall(r\"\\(.*?\\)\",gse.gsms[gsm].columns.loc['ID_REF','description'])\n",
    "    #values.append(r1[0][1:-1])\n",
    "    #values.append(gse.gsms[gsm].columns.loc['ID_REF','description'])\n",
    "\n",
    "gsm_platform = dict(zip(keys, values))\n",
    "gsm_platform"
   ]
  },
  {
   "cell_type": "markdown",
   "metadata": {},
   "source": [
    "## Create Folders if not exist, Move files to corresponding folders"
   ]
  },
  {
   "cell_type": "code",
   "execution_count": 80,
   "metadata": {},
   "outputs": [],
   "source": [
    "# Setup paths\n",
    "currentdir = os.getcwd()\n",
    "dirlist = currentdir.split('/')\n",
    "projectdir = '/'.join(dirlist[0:-1])\n",
    "datadir = os.path.join(projectdir,'data')\n",
    "outputdir = os.path.join(projectdir,'output')\n",
    "gene = 'GSE2770'\n",
    "genedir = os.path.join(datadir,gene + '_RAW')"
   ]
  },
  {
   "cell_type": "code",
   "execution_count": 81,
   "metadata": {},
   "outputs": [
    {
     "name": "stdout",
     "output_type": "stream",
     "text": [
      "Path created: /Users/zhzhao/Dropbox/Helikar/pipelines/data/GSE2770_RAW/GPL96\n",
      "Path created: /Users/zhzhao/Dropbox/Helikar/pipelines/data/GSE2770_RAW/GPL97\n",
      "Path created: /Users/zhzhao/Dropbox/Helikar/pipelines/data/GSE2770_RAW/GPL8300\n"
     ]
    }
   ],
   "source": [
    "# create a folder for each platform\n",
    "for key in celformat.keys():\n",
    "    platformdir = os.path.join(genedir,key)\n",
    "    if not os.path.exists(platformdir):\n",
    "        os.makedirs(platformdir)\n",
    "        print('Path created: {}'.format(platformdir))\n",
    "    else:\n",
    "        print('Path already exist: {}'.format(platformdir))\n"
   ]
  },
  {
   "cell_type": "code",
   "execution_count": 91,
   "metadata": {},
   "outputs": [
    {
     "name": "stdout",
     "output_type": "stream",
     "text": [
      "Move /Users/zhzhao/Dropbox/Helikar/pipelines/data/GSE2770_RAW/GSM60739.CEL.gz to /Users/zhzhao/Dropbox/Helikar/pipelines/data/GSE2770_RAW/GPL97/GSM60739.CEL.gz\n",
      "Move /Users/zhzhao/Dropbox/Helikar/pipelines/data/GSE2770_RAW/GSM60744.CEL.gz to /Users/zhzhao/Dropbox/Helikar/pipelines/data/GSE2770_RAW/GPL97/GSM60744.CEL.gz\n",
      "Move /Users/zhzhao/Dropbox/Helikar/pipelines/data/GSE2770_RAW/GSM60727.CEL.gz to /Users/zhzhao/Dropbox/Helikar/pipelines/data/GSE2770_RAW/GPL96/GSM60727.CEL.gz\n",
      "Move /Users/zhzhao/Dropbox/Helikar/pipelines/data/GSE2770_RAW/GSM60756.CEL.gz to /Users/zhzhao/Dropbox/Helikar/pipelines/data/GSE2770_RAW/GPL97/GSM60756.CEL.gz\n",
      "Move /Users/zhzhao/Dropbox/Helikar/pipelines/data/GSE2770_RAW/GSM60735.CEL.gz to /Users/zhzhao/Dropbox/Helikar/pipelines/data/GSE2770_RAW/GPL97/GSM60735.CEL.gz\n",
      "Move /Users/zhzhao/Dropbox/Helikar/pipelines/data/GSE2770_RAW/GSM60748.CEL.gz to /Users/zhzhao/Dropbox/Helikar/pipelines/data/GSE2770_RAW/GPL97/GSM60748.CEL.gz\n",
      "Move /Users/zhzhao/Dropbox/Helikar/pipelines/data/GSE2770_RAW/GSM60760.CEL.gz to /Users/zhzhao/Dropbox/Helikar/pipelines/data/GSE2770_RAW/GPL97/GSM60760.CEL.gz\n",
      "Move /Users/zhzhao/Dropbox/Helikar/pipelines/data/GSE2770_RAW/GSM60703.CEL.gz to /Users/zhzhao/Dropbox/Helikar/pipelines/data/GSE2770_RAW/GPL96/GSM60703.CEL.gz\n",
      "Move /Users/zhzhao/Dropbox/Helikar/pipelines/data/GSE2770_RAW/GSM60711.CEL.gz to /Users/zhzhao/Dropbox/Helikar/pipelines/data/GSE2770_RAW/GPL96/GSM60711.CEL.gz\n",
      "Move /Users/zhzhao/Dropbox/Helikar/pipelines/data/GSE2770_RAW/GSM60351.cel.gz to /Users/zhzhao/Dropbox/Helikar/pipelines/data/GSE2770_RAW/GPL8300/GSM60351.cel.gz\n",
      "Move /Users/zhzhao/Dropbox/Helikar/pipelines/data/GSE2770_RAW/GSM60379.CEL.gz to /Users/zhzhao/Dropbox/Helikar/pipelines/data/GSE2770_RAW/GPL8300/GSM60379.CEL.gz\n",
      "Move /Users/zhzhao/Dropbox/Helikar/pipelines/data/GSE2770_RAW/GSM60367.CEL.gz to /Users/zhzhao/Dropbox/Helikar/pipelines/data/GSE2770_RAW/GPL8300/GSM60367.CEL.gz\n",
      "Move /Users/zhzhao/Dropbox/Helikar/pipelines/data/GSE2770_RAW/GSM60375.CEL.gz to /Users/zhzhao/Dropbox/Helikar/pipelines/data/GSE2770_RAW/GPL8300/GSM60375.CEL.gz\n",
      "Move /Users/zhzhao/Dropbox/Helikar/pipelines/data/GSE2770_RAW/GSM60353.cel.gz to /Users/zhzhao/Dropbox/Helikar/pipelines/data/GSE2770_RAW/GPL8300/GSM60353.cel.gz\n",
      "Move /Users/zhzhao/Dropbox/Helikar/pipelines/data/GSE2770_RAW/GSM60377.CEL.gz to /Users/zhzhao/Dropbox/Helikar/pipelines/data/GSE2770_RAW/GPL8300/GSM60377.CEL.gz\n",
      "Move /Users/zhzhao/Dropbox/Helikar/pipelines/data/GSE2770_RAW/GSM60369.CEL.gz to /Users/zhzhao/Dropbox/Helikar/pipelines/data/GSE2770_RAW/GPL8300/GSM60369.CEL.gz\n",
      "Move /Users/zhzhao/Dropbox/Helikar/pipelines/data/GSE2770_RAW/GSM60365.CEL.gz to /Users/zhzhao/Dropbox/Helikar/pipelines/data/GSE2770_RAW/GPL8300/GSM60365.CEL.gz\n",
      "Move /Users/zhzhao/Dropbox/Helikar/pipelines/data/GSE2770_RAW/GSM60737.CEL.gz to /Users/zhzhao/Dropbox/Helikar/pipelines/data/GSE2770_RAW/GPL97/GSM60737.CEL.gz\n",
      "Move /Users/zhzhao/Dropbox/Helikar/pipelines/data/GSE2770_RAW/GSM60729.CEL.gz to /Users/zhzhao/Dropbox/Helikar/pipelines/data/GSE2770_RAW/GPL96/GSM60729.CEL.gz\n",
      "Move /Users/zhzhao/Dropbox/Helikar/pipelines/data/GSE2770_RAW/GSM60754.CEL.gz to /Users/zhzhao/Dropbox/Helikar/pipelines/data/GSE2770_RAW/GPL97/GSM60754.CEL.gz\n",
      "Move /Users/zhzhao/Dropbox/Helikar/pipelines/data/GSE2770_RAW/GSM60725.CEL.gz to /Users/zhzhao/Dropbox/Helikar/pipelines/data/GSE2770_RAW/GPL96/GSM60725.CEL.gz\n",
      "Move /Users/zhzhao/Dropbox/Helikar/pipelines/data/GSE2770_RAW/GSM60758.CEL.gz to /Users/zhzhao/Dropbox/Helikar/pipelines/data/GSE2770_RAW/GPL97/GSM60758.CEL.gz\n",
      "Move /Users/zhzhao/Dropbox/Helikar/pipelines/data/GSE2770_RAW/GSM60746.CEL.gz to /Users/zhzhao/Dropbox/Helikar/pipelines/data/GSE2770_RAW/GPL97/GSM60746.CEL.gz\n",
      "Move /Users/zhzhao/Dropbox/Helikar/pipelines/data/GSE2770_RAW/GSM60713.CEL.gz to /Users/zhzhao/Dropbox/Helikar/pipelines/data/GSE2770_RAW/GPL96/GSM60713.CEL.gz\n",
      "Move /Users/zhzhao/Dropbox/Helikar/pipelines/data/GSE2770_RAW/GSM60701.CEL.gz to /Users/zhzhao/Dropbox/Helikar/pipelines/data/GSE2770_RAW/GPL96/GSM60701.CEL.gz\n",
      "Move /Users/zhzhao/Dropbox/Helikar/pipelines/data/GSE2770_RAW/GSM60762.CEL.gz to /Users/zhzhao/Dropbox/Helikar/pipelines/data/GSE2770_RAW/GPL97/GSM60762.CEL.gz\n",
      "Move /Users/zhzhao/Dropbox/Helikar/pipelines/data/GSE2770_RAW/GSM60361.CEL.gz to /Users/zhzhao/Dropbox/Helikar/pipelines/data/GSE2770_RAW/GPL8300/GSM60361.CEL.gz\n",
      "Move /Users/zhzhao/Dropbox/Helikar/pipelines/data/GSE2770_RAW/GSM60699.CEL.gz to /Users/zhzhao/Dropbox/Helikar/pipelines/data/GSE2770_RAW/GPL96/GSM60699.CEL.gz\n",
      "Move /Users/zhzhao/Dropbox/Helikar/pipelines/data/GSE2770_RAW/GSM60373.CEL.gz to /Users/zhzhao/Dropbox/Helikar/pipelines/data/GSE2770_RAW/GPL8300/GSM60373.CEL.gz\n",
      "Move /Users/zhzhao/Dropbox/Helikar/pipelines/data/GSE2770_RAW/GSM60357.CEL.gz to /Users/zhzhao/Dropbox/Helikar/pipelines/data/GSE2770_RAW/GPL8300/GSM60357.CEL.gz\n",
      "Move /Users/zhzhao/Dropbox/Helikar/pipelines/data/GSE2770_RAW/GSM60349.CEL.gz to /Users/zhzhao/Dropbox/Helikar/pipelines/data/GSE2770_RAW/GPL8300/GSM60349.CEL.gz\n",
      "Move /Users/zhzhao/Dropbox/Helikar/pipelines/data/GSE2770_RAW/GSM60705.CEL.gz to /Users/zhzhao/Dropbox/Helikar/pipelines/data/GSE2770_RAW/GPL96/GSM60705.CEL.gz\n",
      "Move /Users/zhzhao/Dropbox/Helikar/pipelines/data/GSE2770_RAW/GSM60766.CEL.gz to /Users/zhzhao/Dropbox/Helikar/pipelines/data/GSE2770_RAW/GPL97/GSM60766.CEL.gz\n",
      "Move /Users/zhzhao/Dropbox/Helikar/pipelines/data/GSE2770_RAW/GSM60380.CEL.gz to /Users/zhzhao/Dropbox/Helikar/pipelines/data/GSE2770_RAW/GPL8300/GSM60380.CEL.gz\n",
      "Move /Users/zhzhao/Dropbox/Helikar/pipelines/data/GSE2770_RAW/GSM60717.CEL.gz to /Users/zhzhao/Dropbox/Helikar/pipelines/data/GSE2770_RAW/GPL96/GSM60717.CEL.gz\n",
      "Move /Users/zhzhao/Dropbox/Helikar/pipelines/data/GSE2770_RAW/GSM60709.CEL.gz to /Users/zhzhao/Dropbox/Helikar/pipelines/data/GSE2770_RAW/GPL96/GSM60709.CEL.gz\n",
      "Move /Users/zhzhao/Dropbox/Helikar/pipelines/data/GSE2770_RAW/GSM60721.CEL.gz to /Users/zhzhao/Dropbox/Helikar/pipelines/data/GSE2770_RAW/GPL96/GSM60721.CEL.gz\n",
      "Move /Users/zhzhao/Dropbox/Helikar/pipelines/data/GSE2770_RAW/GSM60742.CEL.gz to /Users/zhzhao/Dropbox/Helikar/pipelines/data/GSE2770_RAW/GPL97/GSM60742.CEL.gz\n",
      "Move /Users/zhzhao/Dropbox/Helikar/pipelines/data/GSE2770_RAW/GSM60733.CEL.gz to /Users/zhzhao/Dropbox/Helikar/pipelines/data/GSE2770_RAW/GPL97/GSM60733.CEL.gz\n",
      "Move /Users/zhzhao/Dropbox/Helikar/pipelines/data/GSE2770_RAW/GSM60750.CEL.gz to /Users/zhzhao/Dropbox/Helikar/pipelines/data/GSE2770_RAW/GPL97/GSM60750.CEL.gz\n",
      "Move /Users/zhzhao/Dropbox/Helikar/pipelines/data/GSE2770_RAW/GSM60715.CEL.gz to /Users/zhzhao/Dropbox/Helikar/pipelines/data/GSE2770_RAW/GPL96/GSM60715.CEL.gz\n",
      "Move /Users/zhzhao/Dropbox/Helikar/pipelines/data/GSE2770_RAW/GSM60764.CEL.gz to /Users/zhzhao/Dropbox/Helikar/pipelines/data/GSE2770_RAW/GPL97/GSM60764.CEL.gz\n",
      "Move /Users/zhzhao/Dropbox/Helikar/pipelines/data/GSE2770_RAW/GSM60719.CEL.gz to /Users/zhzhao/Dropbox/Helikar/pipelines/data/GSE2770_RAW/GPL96/GSM60719.CEL.gz\n",
      "Move /Users/zhzhao/Dropbox/Helikar/pipelines/data/GSE2770_RAW/GSM60707.CEL.gz to /Users/zhzhao/Dropbox/Helikar/pipelines/data/GSE2770_RAW/GPL96/GSM60707.CEL.gz\n",
      "Move /Users/zhzhao/Dropbox/Helikar/pipelines/data/GSE2770_RAW/GSM60752.CEL.gz to /Users/zhzhao/Dropbox/Helikar/pipelines/data/GSE2770_RAW/GPL97/GSM60752.CEL.gz\n",
      "Move /Users/zhzhao/Dropbox/Helikar/pipelines/data/GSE2770_RAW/GSM60731.CEL.gz to /Users/zhzhao/Dropbox/Helikar/pipelines/data/GSE2770_RAW/GPL96/GSM60731.CEL.gz\n",
      "Move /Users/zhzhao/Dropbox/Helikar/pipelines/data/GSE2770_RAW/GSM60740.CEL.gz to /Users/zhzhao/Dropbox/Helikar/pipelines/data/GSE2770_RAW/GPL97/GSM60740.CEL.gz\n",
      "Move /Users/zhzhao/Dropbox/Helikar/pipelines/data/GSE2770_RAW/GSM60723.CEL.gz to /Users/zhzhao/Dropbox/Helikar/pipelines/data/GSE2770_RAW/GPL96/GSM60723.CEL.gz\n",
      "Move /Users/zhzhao/Dropbox/Helikar/pipelines/data/GSE2770_RAW/GSM60371.CEL.gz to /Users/zhzhao/Dropbox/Helikar/pipelines/data/GSE2770_RAW/GPL8300/GSM60371.CEL.gz\n",
      "Move /Users/zhzhao/Dropbox/Helikar/pipelines/data/GSE2770_RAW/GSM60363.CEL.gz to /Users/zhzhao/Dropbox/Helikar/pipelines/data/GSE2770_RAW/GPL8300/GSM60363.CEL.gz\n",
      "Move /Users/zhzhao/Dropbox/Helikar/pipelines/data/GSE2770_RAW/GSM60355.CEL.gz to /Users/zhzhao/Dropbox/Helikar/pipelines/data/GSE2770_RAW/GPL8300/GSM60355.CEL.gz\n",
      "Move /Users/zhzhao/Dropbox/Helikar/pipelines/data/GSE2770_RAW/GSM60359.CEL.gz to /Users/zhzhao/Dropbox/Helikar/pipelines/data/GSE2770_RAW/GPL8300/GSM60359.CEL.gz\n",
      "Move /Users/zhzhao/Dropbox/Helikar/pipelines/data/GSE2770_RAW/GSM60366.CEL.gz to /Users/zhzhao/Dropbox/Helikar/pipelines/data/GSE2770_RAW/GPL8300/GSM60366.CEL.gz\n",
      "Move /Users/zhzhao/Dropbox/Helikar/pipelines/data/GSE2770_RAW/GSM60378.CEL.gz to /Users/zhzhao/Dropbox/Helikar/pipelines/data/GSE2770_RAW/GPL8300/GSM60378.CEL.gz\n",
      "Move /Users/zhzhao/Dropbox/Helikar/pipelines/data/GSE2770_RAW/GSM60374.CEL.gz to /Users/zhzhao/Dropbox/Helikar/pipelines/data/GSE2770_RAW/GPL8300/GSM60374.CEL.gz\n",
      "Move /Users/zhzhao/Dropbox/Helikar/pipelines/data/GSE2770_RAW/GSM60350.CEL.gz to /Users/zhzhao/Dropbox/Helikar/pipelines/data/GSE2770_RAW/GPL8300/GSM60350.CEL.gz\n",
      "Move /Users/zhzhao/Dropbox/Helikar/pipelines/data/GSE2770_RAW/GSM60702.CEL.gz to /Users/zhzhao/Dropbox/Helikar/pipelines/data/GSE2770_RAW/GPL96/GSM60702.CEL.gz\n",
      "Move /Users/zhzhao/Dropbox/Helikar/pipelines/data/GSE2770_RAW/GSM60761.CEL.gz to /Users/zhzhao/Dropbox/Helikar/pipelines/data/GSE2770_RAW/GPL97/GSM60761.CEL.gz\n",
      "Move /Users/zhzhao/Dropbox/Helikar/pipelines/data/GSE2770_RAW/GSM60710.CEL.gz to /Users/zhzhao/Dropbox/Helikar/pipelines/data/GSE2770_RAW/GPL96/GSM60710.CEL.gz\n",
      "Move /Users/zhzhao/Dropbox/Helikar/pipelines/data/GSE2770_RAW/GSM60726.CEL.gz to /Users/zhzhao/Dropbox/Helikar/pipelines/data/GSE2770_RAW/GPL96/GSM60726.CEL.gz\n",
      "Move /Users/zhzhao/Dropbox/Helikar/pipelines/data/GSE2770_RAW/GSM60745.CEL.gz to /Users/zhzhao/Dropbox/Helikar/pipelines/data/GSE2770_RAW/GPL97/GSM60745.CEL.gz\n",
      "Move /Users/zhzhao/Dropbox/Helikar/pipelines/data/GSE2770_RAW/GSM60738.CEL.gz to /Users/zhzhao/Dropbox/Helikar/pipelines/data/GSE2770_RAW/GPL97/GSM60738.CEL.gz\n",
      "Move /Users/zhzhao/Dropbox/Helikar/pipelines/data/GSE2770_RAW/GSM60749.CEL.gz to /Users/zhzhao/Dropbox/Helikar/pipelines/data/GSE2770_RAW/GPL97/GSM60749.CEL.gz\n",
      "Move /Users/zhzhao/Dropbox/Helikar/pipelines/data/GSE2770_RAW/GSM60734.CEL.gz to /Users/zhzhao/Dropbox/Helikar/pipelines/data/GSE2770_RAW/GPL97/GSM60734.CEL.gz\n",
      "Move /Users/zhzhao/Dropbox/Helikar/pipelines/data/GSE2770_RAW/GSM60757.CEL.gz to /Users/zhzhao/Dropbox/Helikar/pipelines/data/GSE2770_RAW/GPL97/GSM60757.CEL.gz\n",
      "Move /Users/zhzhao/Dropbox/Helikar/pipelines/data/GSE2770_RAW/GSM60712.CEL.gz to /Users/zhzhao/Dropbox/Helikar/pipelines/data/GSE2770_RAW/GPL96/GSM60712.CEL.gz\n",
      "Move /Users/zhzhao/Dropbox/Helikar/pipelines/data/GSE2770_RAW/GSM60763.CEL.gz to /Users/zhzhao/Dropbox/Helikar/pipelines/data/GSE2770_RAW/GPL97/GSM60763.CEL.gz\n",
      "Move /Users/zhzhao/Dropbox/Helikar/pipelines/data/GSE2770_RAW/GSM60700.CEL.gz to /Users/zhzhao/Dropbox/Helikar/pipelines/data/GSE2770_RAW/GPL96/GSM60700.CEL.gz\n",
      "Move /Users/zhzhao/Dropbox/Helikar/pipelines/data/GSE2770_RAW/GSM60755.CEL.gz to /Users/zhzhao/Dropbox/Helikar/pipelines/data/GSE2770_RAW/GPL97/GSM60755.CEL.gz\n",
      "Move /Users/zhzhao/Dropbox/Helikar/pipelines/data/GSE2770_RAW/GSM60728.CEL.gz to /Users/zhzhao/Dropbox/Helikar/pipelines/data/GSE2770_RAW/GPL96/GSM60728.CEL.gz\n",
      "Move /Users/zhzhao/Dropbox/Helikar/pipelines/data/GSE2770_RAW/GSM60736.CEL.gz to /Users/zhzhao/Dropbox/Helikar/pipelines/data/GSE2770_RAW/GPL97/GSM60736.CEL.gz\n",
      "Move /Users/zhzhao/Dropbox/Helikar/pipelines/data/GSE2770_RAW/GSM60747.CEL.gz to /Users/zhzhao/Dropbox/Helikar/pipelines/data/GSE2770_RAW/GPL97/GSM60747.CEL.gz\n",
      "Move /Users/zhzhao/Dropbox/Helikar/pipelines/data/GSE2770_RAW/GSM60759.CEL.gz to /Users/zhzhao/Dropbox/Helikar/pipelines/data/GSE2770_RAW/GPL97/GSM60759.CEL.gz\n",
      "Move /Users/zhzhao/Dropbox/Helikar/pipelines/data/GSE2770_RAW/GSM60724.CEL.gz to /Users/zhzhao/Dropbox/Helikar/pipelines/data/GSE2770_RAW/GPL96/GSM60724.CEL.gz\n",
      "Move /Users/zhzhao/Dropbox/Helikar/pipelines/data/GSE2770_RAW/GSM60368.CEL.gz to /Users/zhzhao/Dropbox/Helikar/pipelines/data/GSE2770_RAW/GPL8300/GSM60368.CEL.gz\n",
      "Move /Users/zhzhao/Dropbox/Helikar/pipelines/data/GSE2770_RAW/GSM60376.CEL.gz to /Users/zhzhao/Dropbox/Helikar/pipelines/data/GSE2770_RAW/GPL8300/GSM60376.CEL.gz\n",
      "Move /Users/zhzhao/Dropbox/Helikar/pipelines/data/GSE2770_RAW/GSM60364.CEL.gz to /Users/zhzhao/Dropbox/Helikar/pipelines/data/GSE2770_RAW/GPL8300/GSM60364.CEL.gz\n",
      "Move /Users/zhzhao/Dropbox/Helikar/pipelines/data/GSE2770_RAW/GSM60352.cel.gz to /Users/zhzhao/Dropbox/Helikar/pipelines/data/GSE2770_RAW/GPL8300/GSM60352.cel.gz\n",
      "Move /Users/zhzhao/Dropbox/Helikar/pipelines/data/GSE2770_RAW/GSM60743.CEL.gz to /Users/zhzhao/Dropbox/Helikar/pipelines/data/GSE2770_RAW/GPL97/GSM60743.CEL.gz\n",
      "Move /Users/zhzhao/Dropbox/Helikar/pipelines/data/GSE2770_RAW/GSM60720.CEL.gz to /Users/zhzhao/Dropbox/Helikar/pipelines/data/GSE2770_RAW/GPL96/GSM60720.CEL.gz\n",
      "Move /Users/zhzhao/Dropbox/Helikar/pipelines/data/GSE2770_RAW/GSM60751.CEL.gz to /Users/zhzhao/Dropbox/Helikar/pipelines/data/GSE2770_RAW/GPL97/GSM60751.CEL.gz\n",
      "Move /Users/zhzhao/Dropbox/Helikar/pipelines/data/GSE2770_RAW/GSM60732.CEL.gz to /Users/zhzhao/Dropbox/Helikar/pipelines/data/GSE2770_RAW/GPL96/GSM60732.CEL.gz\n",
      "Move /Users/zhzhao/Dropbox/Helikar/pipelines/data/GSE2770_RAW/GSM60381.CEL.gz to /Users/zhzhao/Dropbox/Helikar/pipelines/data/GSE2770_RAW/GPL8300/GSM60381.CEL.gz\n",
      "Move /Users/zhzhao/Dropbox/Helikar/pipelines/data/GSE2770_RAW/GSM60704.CEL.gz to /Users/zhzhao/Dropbox/Helikar/pipelines/data/GSE2770_RAW/GPL96/GSM60704.CEL.gz\n",
      "Move /Users/zhzhao/Dropbox/Helikar/pipelines/data/GSE2770_RAW/GSM60708.CEL.gz to /Users/zhzhao/Dropbox/Helikar/pipelines/data/GSE2770_RAW/GPL96/GSM60708.CEL.gz\n",
      "Move /Users/zhzhao/Dropbox/Helikar/pipelines/data/GSE2770_RAW/GSM60716.CEL.gz to /Users/zhzhao/Dropbox/Helikar/pipelines/data/GSE2770_RAW/GPL96/GSM60716.CEL.gz\n",
      "Move /Users/zhzhao/Dropbox/Helikar/pipelines/data/GSE2770_RAW/GSM60356.CEL.gz to /Users/zhzhao/Dropbox/Helikar/pipelines/data/GSE2770_RAW/GPL8300/GSM60356.CEL.gz\n",
      "Move /Users/zhzhao/Dropbox/Helikar/pipelines/data/GSE2770_RAW/GSM60360.CEL.gz to /Users/zhzhao/Dropbox/Helikar/pipelines/data/GSE2770_RAW/GPL8300/GSM60360.CEL.gz\n",
      "Move /Users/zhzhao/Dropbox/Helikar/pipelines/data/GSE2770_RAW/GSM60372.CEL.gz to /Users/zhzhao/Dropbox/Helikar/pipelines/data/GSE2770_RAW/GPL8300/GSM60372.CEL.gz\n",
      "Move /Users/zhzhao/Dropbox/Helikar/pipelines/data/GSE2770_RAW/GSM60354.CEL.gz to /Users/zhzhao/Dropbox/Helikar/pipelines/data/GSE2770_RAW/GPL8300/GSM60354.CEL.gz\n",
      "Move /Users/zhzhao/Dropbox/Helikar/pipelines/data/GSE2770_RAW/GSM60358.CEL.gz to /Users/zhzhao/Dropbox/Helikar/pipelines/data/GSE2770_RAW/GPL8300/GSM60358.CEL.gz\n",
      "Move /Users/zhzhao/Dropbox/Helikar/pipelines/data/GSE2770_RAW/GSM60370.CEL.gz to /Users/zhzhao/Dropbox/Helikar/pipelines/data/GSE2770_RAW/GPL8300/GSM60370.CEL.gz\n",
      "Move /Users/zhzhao/Dropbox/Helikar/pipelines/data/GSE2770_RAW/GSM60362.CEL.gz to /Users/zhzhao/Dropbox/Helikar/pipelines/data/GSE2770_RAW/GPL8300/GSM60362.CEL.gz\n",
      "Move /Users/zhzhao/Dropbox/Helikar/pipelines/data/GSE2770_RAW/GSM60730.CEL.gz to /Users/zhzhao/Dropbox/Helikar/pipelines/data/GSE2770_RAW/GPL96/GSM60730.CEL.gz\n",
      "Move /Users/zhzhao/Dropbox/Helikar/pipelines/data/GSE2770_RAW/GSM60753.CEL.gz to /Users/zhzhao/Dropbox/Helikar/pipelines/data/GSE2770_RAW/GPL97/GSM60753.CEL.gz\n",
      "Move /Users/zhzhao/Dropbox/Helikar/pipelines/data/GSE2770_RAW/GSM60722.CEL.gz to /Users/zhzhao/Dropbox/Helikar/pipelines/data/GSE2770_RAW/GPL96/GSM60722.CEL.gz\n",
      "Move /Users/zhzhao/Dropbox/Helikar/pipelines/data/GSE2770_RAW/GSM60741.CEL.gz to /Users/zhzhao/Dropbox/Helikar/pipelines/data/GSE2770_RAW/GPL97/GSM60741.CEL.gz\n",
      "Move /Users/zhzhao/Dropbox/Helikar/pipelines/data/GSE2770_RAW/GSM60714.CEL.gz to /Users/zhzhao/Dropbox/Helikar/pipelines/data/GSE2770_RAW/GPL96/GSM60714.CEL.gz\n",
      "Move /Users/zhzhao/Dropbox/Helikar/pipelines/data/GSE2770_RAW/GSM60706.CEL.gz to /Users/zhzhao/Dropbox/Helikar/pipelines/data/GSE2770_RAW/GPL96/GSM60706.CEL.gz\n",
      "Move /Users/zhzhao/Dropbox/Helikar/pipelines/data/GSE2770_RAW/GSM60718.CEL.gz to /Users/zhzhao/Dropbox/Helikar/pipelines/data/GSE2770_RAW/GPL96/GSM60718.CEL.gz\n",
      "Move /Users/zhzhao/Dropbox/Helikar/pipelines/data/GSE2770_RAW/GSM60765.CEL.gz to /Users/zhzhao/Dropbox/Helikar/pipelines/data/GSE2770_RAW/GPL97/GSM60765.CEL.gz\n"
     ]
    }
   ],
   "source": [
    "# Move Corresponding Cel files to Folders\n",
    "#onlyfiles = [f for f in os.listdir(genedir) if os.path.isfile(os.path.join(genedir, f))]\n",
    "onlyfiles = [f for f in os.listdir(genedir) if f.endswith('.gz')]\n",
    "\n",
    "for file in onlyfiles:\n",
    "    filelist = file.split('.')\n",
    "    prefix = filelist[0]\n",
    "    if prefix in gsm_platform:\n",
    "        platform = gsm_platform[prefix]\n",
    "        platformdir = os.path.join(genedir,platform)\n",
    "        src_path = os.path.join(genedir, file)\n",
    "        dst_path = os.path.join(platformdir, file)\n",
    "        os.rename(src_path,dst_path)\n",
    "        print('Move {} to {}'.format(src_path,dst_path))\n",
    "        \n"
   ]
  },
  {
   "cell_type": "code",
   "execution_count": 90,
   "metadata": {},
   "outputs": [
    {
     "data": {
      "text/plain": [
       "['GSM60739.CEL.gz',\n",
       " 'GSM60744.CEL.gz',\n",
       " 'GSM60727.CEL.gz',\n",
       " 'GSM60756.CEL.gz',\n",
       " 'GSM60735.CEL.gz',\n",
       " 'GSM60748.CEL.gz',\n",
       " 'GSM60760.CEL.gz',\n",
       " 'GSM60703.CEL.gz',\n",
       " 'GSM60711.CEL.gz',\n",
       " 'GSM60351.cel.gz',\n",
       " 'GSM60379.CEL.gz',\n",
       " 'GSM60367.CEL.gz',\n",
       " 'GSM60375.CEL.gz',\n",
       " 'GSM60353.cel.gz',\n",
       " 'GSM60377.CEL.gz',\n",
       " 'GSM60369.CEL.gz',\n",
       " 'GSM60365.CEL.gz',\n",
       " 'GSM60737.CEL.gz',\n",
       " 'GSM60729.CEL.gz',\n",
       " 'GSM60754.CEL.gz',\n",
       " 'GSM60725.CEL.gz',\n",
       " 'GSM60758.CEL.gz',\n",
       " 'GSM60746.CEL.gz',\n",
       " 'GSM60713.CEL.gz',\n",
       " 'GSM60701.CEL.gz',\n",
       " 'GSM60762.CEL.gz',\n",
       " 'GSM60361.CEL.gz',\n",
       " 'GSM60699.CEL.gz',\n",
       " 'GSM60373.CEL.gz',\n",
       " 'GSM60357.CEL.gz',\n",
       " 'GSM60349.CEL.gz',\n",
       " 'GSM60705.CEL.gz',\n",
       " 'GSM60766.CEL.gz',\n",
       " 'GSM60380.CEL.gz',\n",
       " 'GSM60717.CEL.gz',\n",
       " 'GSM60709.CEL.gz',\n",
       " 'GSM60721.CEL.gz',\n",
       " 'GSM60742.CEL.gz',\n",
       " 'GSM60733.CEL.gz',\n",
       " 'GSM60750.CEL.gz',\n",
       " 'GSM60715.CEL.gz',\n",
       " 'GSM60764.CEL.gz',\n",
       " 'GSM60719.CEL.gz',\n",
       " 'GSM60707.CEL.gz',\n",
       " 'GSM60752.CEL.gz',\n",
       " 'GSM60731.CEL.gz',\n",
       " 'GSM60740.CEL.gz',\n",
       " 'GSM60723.CEL.gz',\n",
       " 'GSM60371.CEL.gz',\n",
       " 'GSM60363.CEL.gz',\n",
       " 'GSM60355.CEL.gz',\n",
       " 'GSM60359.CEL.gz',\n",
       " 'GSM60366.CEL.gz',\n",
       " 'GSM60378.CEL.gz',\n",
       " 'GSM60374.CEL.gz',\n",
       " 'GSM60350.CEL.gz',\n",
       " 'GSM60702.CEL.gz',\n",
       " 'GSM60761.CEL.gz',\n",
       " 'GSM60710.CEL.gz',\n",
       " 'GSM60726.CEL.gz',\n",
       " 'GSM60745.CEL.gz',\n",
       " 'GSM60738.CEL.gz',\n",
       " 'GSM60749.CEL.gz',\n",
       " 'GSM60734.CEL.gz',\n",
       " 'GSM60757.CEL.gz',\n",
       " 'GSM60712.CEL.gz',\n",
       " 'GSM60763.CEL.gz',\n",
       " 'GSM60700.CEL.gz',\n",
       " 'GSM60755.CEL.gz',\n",
       " 'GSM60728.CEL.gz',\n",
       " 'GSM60736.CEL.gz',\n",
       " 'GSM60747.CEL.gz',\n",
       " 'GSM60759.CEL.gz',\n",
       " 'GSM60724.CEL.gz',\n",
       " 'GSM60368.CEL.gz',\n",
       " 'GSM60376.CEL.gz',\n",
       " 'GSM60364.CEL.gz',\n",
       " 'GSM60352.cel.gz',\n",
       " 'GSM60743.CEL.gz',\n",
       " 'GSM60720.CEL.gz',\n",
       " 'GSM60751.CEL.gz',\n",
       " 'GSM60732.CEL.gz',\n",
       " 'GSM60381.CEL.gz',\n",
       " 'GSM60704.CEL.gz',\n",
       " 'GSM60708.CEL.gz',\n",
       " 'GSM60716.CEL.gz',\n",
       " 'GSM60356.CEL.gz',\n",
       " 'GSM60360.CEL.gz',\n",
       " 'GSM60372.CEL.gz',\n",
       " 'GSM60354.CEL.gz',\n",
       " 'GSM60358.CEL.gz',\n",
       " 'GSM60370.CEL.gz',\n",
       " 'GSM60362.CEL.gz',\n",
       " 'GSM60730.CEL.gz',\n",
       " 'GSM60753.CEL.gz',\n",
       " 'GSM60722.CEL.gz',\n",
       " 'GSM60741.CEL.gz',\n",
       " 'GSM60714.CEL.gz',\n",
       " 'GSM60706.CEL.gz',\n",
       " 'GSM60718.CEL.gz',\n",
       " 'GSM60765.CEL.gz']"
      ]
     },
     "execution_count": 90,
     "metadata": {},
     "output_type": "execute_result"
    }
   ],
   "source": [
    "# onlyfiles = [f for f in os.listdir(genedir) if os.path.isfile(os.path.join(genedir, f))]\n",
    "# onlyfiles\n",
    "# os.listdir(genedir)\n",
    "onlyfiles = [f for f in os.listdir(genedir) if f.endswith('.gz')]\n",
    "onlyfiles"
   ]
  },
  {
   "cell_type": "code",
   "execution_count": 55,
   "metadata": {},
   "outputs": [
    {
     "name": "stdout",
     "output_type": "stream",
     "text": [
      "Affymetrix U95Av2 probe ID\n"
     ]
    },
    {
     "data": {
      "text/plain": [
       "[]"
      ]
     },
     "execution_count": 55,
     "metadata": {},
     "output_type": "execute_result"
    }
   ],
   "source": [
    "# dir(gse.gsms[gsm])\n",
    "# print(gse.gsms[gsm].metadata['title'])\n",
    "print(gse.gsms[gsm].columns.loc['ID_REF','description'])\n",
    "r1 = re.findall(r\"U133B\",gse.gsms[gsm].columns.loc['ID_REF','description'])\n",
    "r1"
   ]
  },
  {
   "cell_type": "code",
   "execution_count": 68,
   "metadata": {},
   "outputs": [],
   "source": [
    "currentdir = os.getcwd()\n",
    "dirlist = currentdir.split('/')\n",
    "projectdir = '/'.join(dirlist[0:-1])"
   ]
  },
  {
   "cell_type": "code",
   "execution_count": 71,
   "metadata": {},
   "outputs": [
    {
     "data": {
      "text/plain": [
       "'/Users/zhzhao/Dropbox/Helikar/pipelines/GSE2770_RAW'"
      ]
     },
     "execution_count": 71,
     "metadata": {},
     "output_type": "execute_result"
    }
   ],
   "source": [
    "gene = 'GSE2770'\n",
    "genedir = os.path.join(projectdir,gene + '_RAW')\n",
    "genedir"
   ]
  },
  {
   "cell_type": "code",
   "execution_count": 37,
   "metadata": {},
   "outputs": [
    {
     "data": {
      "text/plain": [
       "{'GPL96': 'U133A', 'GPL97': 'U133B', 'GPL8300': 'U95Av2'}"
      ]
     },
     "execution_count": 37,
     "metadata": {},
     "output_type": "execute_result"
    }
   ],
   "source": [
    "celformat"
   ]
  },
  {
   "cell_type": "code",
   "execution_count": 30,
   "metadata": {},
   "outputs": [],
   "source": [
    "r1 = re.findall(r\"\\[.*?\\]\",celformat['GPL96'])"
   ]
  },
  {
   "cell_type": "code",
   "execution_count": 35,
   "metadata": {},
   "outputs": [
    {
     "data": {
      "text/plain": [
       "'U133A'"
      ]
     },
     "execution_count": 35,
     "metadata": {},
     "output_type": "execute_result"
    }
   ],
   "source": [
    "r1[0][4:-1]"
   ]
  },
  {
   "cell_type": "code",
   "execution_count": null,
   "metadata": {},
   "outputs": [],
   "source": []
  }
 ],
 "metadata": {
  "kernelspec": {
   "display_name": "Python 3",
   "language": "python",
   "name": "python3"
  },
  "language_info": {
   "codemirror_mode": {
    "name": "ipython",
    "version": 3
   },
   "file_extension": ".py",
   "mimetype": "text/x-python",
   "name": "python",
   "nbconvert_exporter": "python",
   "pygments_lexer": "ipython3",
   "version": "3.7.3"
  }
 },
 "nbformat": 4,
 "nbformat_minor": 2
}
