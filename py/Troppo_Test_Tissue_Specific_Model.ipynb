{
 "cells": [
  {
   "cell_type": "markdown",
   "metadata": {},
   "source": [
    "Test of this jupyter notebook\n",
    "\n",
    "https://github.com/BioSystemsUM/troppo/blob/master/tests/validation/TROPPO%20usage%20and%20benchmark%20notebook.ipynb"
   ]
  },
  {
   "cell_type": "code",
   "execution_count": 1,
   "metadata": {},
   "outputs": [],
   "source": [
    "import sys;\n",
    "# sys.path.extend(['E:\\\\reconstruction', 'E:\\\\cobamp', 'E:\\\\reconstruction\\\\src', 'E:\\\\cobamp\\\\src', 'E:/reconstruction'])\n",
    "import cobra\n",
    "import framed\n",
    "import cobamp\n",
    "import pandas as pd\n",
    "import numpy as np\n",
    "import pickle\n",
    "import scipy as sci\n",
    "\n",
    "# for testing the algorithms\n",
    "from cobamp.wrappers import MatFormatReader\n",
    "from cobamp.wrappers import COBRAModelObjectReader\n",
    "from troppo.methods.imat import IMAT\n",
    "from troppo.methods.gimme import GIMME\n",
    "from troppo.methods.tINIT import tINIT\n",
    "from troppo.methods.fastcore import FASTcore\n",
    "from troppo.reconstruction_properties import FastcoreProperties, tINITProperties, GIMMEProperties, IMATProperties\n",
    "from troppo.utilities.statistics import normalize, z_score"
   ]
  },
  {
   "cell_type": "code",
   "execution_count": 2,
   "metadata": {},
   "outputs": [],
   "source": [
    "def load_glial_data(path):\n",
    "    data = pd.read_csv(path, index_col=0)\n",
    "    normalized_data = normalize(data)\n",
    "    z = None\n",
    "\n",
    "    return normalized_data, z\n",
    "\n",
    "def get_index_core(reactions_ids, data, threshold):\n",
    "    rx_names = data.index[data['0'] > threshold].tolist()\n",
    "    index_core = [np.where(reactions_ids == r)[0][0] for r in rx_names]\n",
    "    return index_core, rx_names\n",
    "\n",
    "def get_index_values():\n",
    "    pass"
   ]
  },
  {
   "cell_type": "code",
   "execution_count": 3,
   "metadata": {},
   "outputs": [],
   "source": [
    "from project import configs\n",
    "import os\n",
    "generalmodelmat = os.path.join(configs.datadir,'GeneralModel.mat')"
   ]
  },
  {
   "cell_type": "code",
   "execution_count": 4,
   "metadata": {},
   "outputs": [],
   "source": [
    "# mat = sci.io.loadmat('./tests/FastCoreTest.mat')['ConsistentRecon2']\n",
    "model_cobra = cobra.io.load_matlab_model(generalmodelmat)"
   ]
  },
  {
   "cell_type": "code",
   "execution_count": 7,
   "metadata": {},
   "outputs": [
    {
     "data": {
      "text/plain": [
       "10610"
      ]
     },
     "execution_count": 7,
     "metadata": {},
     "output_type": "execute_result"
    }
   ],
   "source": [
    "len(model_cobra.reactions)"
   ]
  },
  {
   "cell_type": "code",
   "execution_count": 7,
   "metadata": {},
   "outputs": [],
   "source": [
    "mat = sci.io.loadmat(generalmodelmat)['Teff']\n",
    "#['ConsistentRecon2']"
   ]
  },
  {
   "cell_type": "code",
   "execution_count": 18,
   "metadata": {},
   "outputs": [
    {
     "data": {
      "text/plain": [
       "array([[(array([[array(['AGTim'], dtype='<U5')],\n",
       "       [array(['AGTix'], dtype='<U5')],\n",
       "       [array(['ALAR'], dtype='<U4')],\n",
       "       ...,\n",
       "       [array(['biomass_reaction_Mphage'], dtype='<U23')],\n",
       "       [array(['RTOT_3'], dtype='<U6')],\n",
       "       [array(['ARTFR13'], dtype='<U7')]], dtype=object), <5837x10610 sparse matrix of type '<class 'numpy.float64'>'\n",
       "\twith 40537 stored elements in Compressed Sparse Column format>, array([[    0],\n",
       "       [    0],\n",
       "       [-1000],\n",
       "       ...,\n",
       "       [    0],\n",
       "       [    0],\n",
       "       [    0]], dtype=int16), array([[1000],\n",
       "       [1000],\n",
       "       [1000],\n",
       "       ...,\n",
       "       [1000],\n",
       "       [1000],\n",
       "       [1000]], dtype=uint16), array([[0],\n",
       "       [0],\n",
       "       [0],\n",
       "       ...,\n",
       "       [1],\n",
       "       [0],\n",
       "       [0]], dtype=uint8), array([[array(['10fthf5glu[c]'], dtype='<U13')],\n",
       "       [array(['10fthf5glu[e]'], dtype='<U13')],\n",
       "       [array(['10fthf5glu[l]'], dtype='<U13')],\n",
       "       ...,\n",
       "       [array(['zymst[r]'], dtype='<U8')],\n",
       "       [array(['zymstnl[c]'], dtype='<U10')],\n",
       "       [array(['zymstnl[r]'], dtype='<U10')]], dtype=object), array([[0],\n",
       "       [0],\n",
       "       [0],\n",
       "       ...,\n",
       "       [0],\n",
       "       [0],\n",
       "       [0]], dtype=uint8), array([[array(['x(2) | x(1)'], dtype='<U11')],\n",
       "       [array(['x(3)'], dtype='<U4')],\n",
       "       [array(['x(4)'], dtype='<U4')],\n",
       "       ...,\n",
       "       [array([], dtype='<U1')],\n",
       "       [array([], dtype='<U1')],\n",
       "       [array([], dtype='<U1')]], dtype=object), array([[array(['64850'], dtype='<U5')],\n",
       "       [array(['64902'], dtype='<U5')],\n",
       "       [array(['189'], dtype='<U3')],\n",
       "       ...,\n",
       "       [array(['51022'], dtype='<U5')],\n",
       "       [array(['1591'], dtype='<U4')],\n",
       "       [array(['1594'], dtype='<U4')]], dtype=object), array(['max'], dtype='<U3'), array(['E', 'E', 'E', ..., 'E', 'E', 'E'], dtype='<U1'), <10610x1892 sparse matrix of type '<class 'numpy.float64'>'\n",
       "\twith 13536 stored elements in Compressed Sparse Column format>, array([[array(['10-Formyltetrahydrofolate-[Glu](5)'], dtype='<U34')],\n",
       "       [array(['10-Formyltetrahydrofolate-[Glu](5)'], dtype='<U34')],\n",
       "       [array(['10-Formyltetrahydrofolate-[Glu](5)'], dtype='<U34')],\n",
       "       ...,\n",
       "       [array(['Zymosterol'], dtype='<U10')],\n",
       "       [array(['Cholesta-8(9)-En-3Beta-Ol'], dtype='<U25')],\n",
       "       [array(['Cholesta-8(9)-En-3Beta-Ol'], dtype='<U25')]], dtype=object), array([[array([[array(['Alanine and aspartate metabolism'], dtype='<U32')]],\n",
       "      dtype=object)],\n",
       "       [array([[array(['Alanine and aspartate metabolism'], dtype='<U32')]],\n",
       "      dtype=object)],\n",
       "       [array([[array(['Alanine and aspartate metabolism'], dtype='<U32')]],\n",
       "      dtype=object)],\n",
       "       ...,\n",
       "       [array([[array([], dtype='<U1')]], dtype=object)],\n",
       "       [array([[array(['R group synthesis'], dtype='<U17')]], dtype=object)],\n",
       "       [array([[array(['R group synthesis'], dtype='<U17')]], dtype=object)]],\n",
       "      dtype=object), array([[array(['64902 or 64850'], dtype='<U14')],\n",
       "       [array(['189'], dtype='<U3')],\n",
       "       [array(['11212'], dtype='<U5')],\n",
       "       ...,\n",
       "       [array([], dtype='<U1')],\n",
       "       [array([], dtype='<U1')],\n",
       "       [array([], dtype='<U1')]], dtype=object), array([[array(['AGTim'], dtype='<U5')],\n",
       "       [array(['AGTix'], dtype='<U5')],\n",
       "       [array(['ALAR'], dtype='<U4')],\n",
       "       ...,\n",
       "       [array(['biomass_reaction_Mphage'], dtype='<U23')],\n",
       "       [array(['RTOT_3'], dtype='<U6')],\n",
       "       [array(['ARTFR13'], dtype='<U7')]], dtype=object), array([[array(['2.6.1.44'], dtype='<U8')],\n",
       "       [array(['2.6.1.44'], dtype='<U8')],\n",
       "       [array(['5.1.1.1'], dtype='<U7')],\n",
       "       ...,\n",
       "       [array([], dtype='<U1')],\n",
       "       [array([], dtype='<U1')],\n",
       "       [array([], dtype='<U1')]], dtype=object), array([[array(['NCD'], dtype='<U3')],\n",
       "       [array(['NCD'], dtype='<U3')],\n",
       "       [array([], dtype='<U1')],\n",
       "       ...,\n",
       "       [array([], dtype='<U1')],\n",
       "       [array([], dtype='<U1')],\n",
       "       [array([], dtype='<U1')]], dtype=object), array([[array(['15240345,9038835,9783918'], dtype='<U24')],\n",
       "       [array(['1703535,9038835,9783918'], dtype='<U23')],\n",
       "       [array([], dtype='<U1')],\n",
       "       ...,\n",
       "       [array([], dtype='<U1')],\n",
       "       [array([], dtype='<U1')],\n",
       "       [array([], dtype='<U1')]], dtype=object), array([[array(['c'], dtype='<U1')],\n",
       "       [array(['e'], dtype='<U1')],\n",
       "       [array(['g'], dtype='<U1')],\n",
       "       [array(['i'], dtype='<U1')],\n",
       "       [array(['l'], dtype='<U1')],\n",
       "       [array(['m'], dtype='<U1')],\n",
       "       [array(['n'], dtype='<U1')],\n",
       "       [array(['r'], dtype='<U1')],\n",
       "       [array(['x'], dtype='<U1')]], dtype=object), array([[array(['Cytoplasm'], dtype='<U9')],\n",
       "       [array(['Extracellular'], dtype='<U13')],\n",
       "       [array(['Golgi'], dtype='<U5')],\n",
       "       [array([], dtype='<U1')],\n",
       "       [array(['Lysosome'], dtype='<U8')],\n",
       "       [array(['Mitochondrion'], dtype='<U13')],\n",
       "       [array(['Nucleus'], dtype='<U7')],\n",
       "       [array(['Endoplasmic_reticulum'], dtype='<U21')],\n",
       "       [array(['Peroxisome'], dtype='<U10')]], dtype=object), array([[array(['C40H45N11O19'], dtype='<U12')],\n",
       "       [array(['C40H45N11O19'], dtype='<U12')],\n",
       "       [array(['C40H45N11O19'], dtype='<U12')],\n",
       "       ...,\n",
       "       [array(['C27H44O'], dtype='<U7')],\n",
       "       [array(['C27H46O'], dtype='<U7')],\n",
       "       [array(['C27H46O'], dtype='<U7')]], dtype=object), array([[-6],\n",
       "       [-6],\n",
       "       [-6],\n",
       "       ...,\n",
       "       [ 0],\n",
       "       [ 0],\n",
       "       [ 0]], dtype=int16), array([[array(['[H]OC1=NC(=N[H])N([H])C2=C1N([H])C([H])(C([H])([H])N(C([H])=O)C1=C([H])C([H])=C(C([H])=C1[H])C(=O)N([H])C([H])(C([O-])=O)C([H])([H])C([H])([H])C(=O)N([H])C([H])(C(=O)N([H])C([H])(C(=O)N([H])C([H])(C(=O)N([H])C([H])(C([O-])=O)C([H])([H])C([H])([H])C([O-])=O)C([H])([H])C([H])([H])C([O-])=O)C([H])([H])C([H])([H])C([O-])=O)C([H])([H])C([H])([H])C([O-])=O)C([H])([H])N2[H]'],\n",
       "      dtype='<U369')],\n",
       "       [array(['[H]OC1=NC(=N[H])N([H])C2=C1N([H])C([H])(C([H])([H])N(C([H])=O)C1=C([H])C([H])=C(C([H])=C1[H])C(=O)N([H])C([H])(C([O-])=O)C([H])([H])C([H])([H])C(=O)N([H])C([H])(C(=O)N([H])C([H])(C(=O)N([H])C([H])(C(=O)N([H])C([H])(C([O-])=O)C([H])([H])C([H])([H])C([O-])=O)C([H])([H])C([H])([H])C([O-])=O)C([H])([H])C([H])([H])C([O-])=O)C([H])([H])C([H])([H])C([O-])=O)C([H])([H])N2[H]'],\n",
       "      dtype='<U369')],\n",
       "       [array(['[H]OC1=NC(=N[H])N([H])C2=C1N([H])C([H])(C([H])([H])N(C([H])=O)C1=C([H])C([H])=C(C([H])=C1[H])C(=O)N([H])C([H])(C([O-])=O)C([H])([H])C([H])([H])C(=O)N([H])C([H])(C(=O)N([H])C([H])(C(=O)N([H])C([H])(C(=O)N([H])C([H])(C([O-])=O)C([H])([H])C([H])([H])C([O-])=O)C([H])([H])C([H])([H])C([O-])=O)C([H])([H])C([H])([H])C([O-])=O)C([H])([H])C([H])([H])C([O-])=O)C([H])([H])N2[H]'],\n",
       "      dtype='<U369')],\n",
       "       ...,\n",
       "       [array(['[H]O[C@@]1([H])C([H])([H])C([H])([H])[C@@]2(C3=C(C([H])([H])C([H])([H])[C@@]2([H])C1([H])[H])[C@]1([H])C([H])([H])C([H])([H])[C@]([H])([C@]([H])(C([H])([H])[H])C([H])([H])C([H])([H])C([H])=C(C([H])([H])[H])C([H])([H])[H])[C@@]1(C([H])([H])[H])C([H])([H])C3([H])[H])C([H])([H])[H]'],\n",
       "      dtype='<U279')],\n",
       "       [array(['[H]O[C@@]1([H])C([H])([H])C([H])([H])[C@@]2(C3=C(C([H])([H])C([H])([H])[C@@]2([H])C1([H])[H])[C@]1([H])C([H])([H])C([H])([H])[C@]([H])([C@]([H])(C([H])([H])[H])C([H])([H])C([H])([H])C([H])([H])C([H])(C([H])([H])[H])C([H])([H])[H])[C@@]1(C([H])([H])[H])C([H])([H])C3([H])[H])C([H])([H])[H]'],\n",
       "      dtype='<U288')],\n",
       "       [array(['[H]O[C@@]1([H])C([H])([H])C([H])([H])[C@@]2(C3=C(C([H])([H])C([H])([H])[C@@]2([H])C1([H])[H])[C@]1([H])C([H])([H])C([H])([H])[C@]([H])([C@]([H])(C([H])([H])[H])C([H])([H])C([H])([H])C([H])([H])C([H])(C([H])([H])[H])C([H])([H])[H])[C@@]1(C([H])([H])[H])C([H])([H])C3([H])[H])C([H])([H])[H]'],\n",
       "      dtype='<U288')]], dtype=object), array([[array([], dtype='<U1')],\n",
       "       [array([], dtype='<U1')],\n",
       "       [array([], dtype='<U1')],\n",
       "       ...,\n",
       "       [array(['C05437'], dtype='<U6')],\n",
       "       [array(['C03845'], dtype='<U6')],\n",
       "       [array(['C03845'], dtype='<U6')]], dtype=object), array([[array([], dtype='<U1')],\n",
       "       [array([], dtype='<U1')],\n",
       "       [array([], dtype='<U1')],\n",
       "       ...,\n",
       "       [array([], dtype='<U1')],\n",
       "       [array(['HMDB06841'], dtype='<U9')],\n",
       "       [array(['HMDB06841'], dtype='<U9')]], dtype=object), array([[array([], dtype='<U1')],\n",
       "       [array([], dtype='<U1')],\n",
       "       [array([], dtype='<U1')],\n",
       "       ...,\n",
       "       [array(['92746'], dtype='<U5')],\n",
       "       [array(['101770'], dtype='<U6')],\n",
       "       [array(['101770'], dtype='<U6')]], dtype=object), array(['Recon3D_Teff_ver2_BF_g6p.xlsx'], dtype='<U29'), array([[0],\n",
       "       [0],\n",
       "       [1],\n",
       "       ...,\n",
       "       [0],\n",
       "       [0],\n",
       "       [0]], dtype=uint8))]],\n",
       "      dtype=[('rxns', 'O'), ('S', 'O'), ('lb', 'O'), ('ub', 'O'), ('c', 'O'), ('mets', 'O'), ('b', 'O'), ('rules', 'O'), ('genes', 'O'), ('osenseStr', 'O'), ('csense', 'O'), ('rxnGeneMat', 'O'), ('metNames', 'O'), ('subSystems', 'O'), ('grRules', 'O'), ('rxnNames', 'O'), ('rxnECNumbers', 'O'), ('rxnNotes', 'O'), ('rxnReferences', 'O'), ('comps', 'O'), ('compNames', 'O'), ('metFormulas', 'O'), ('metCharges', 'O'), ('metSmiles', 'O'), ('metKEGGID', 'O'), ('metHMDBID', 'O'), ('metPubChemID', 'O'), ('description', 'O'), ('rev', 'O')])"
      ]
     },
     "execution_count": 18,
     "metadata": {},
     "output_type": "execute_result"
    }
   ],
   "source": [
    "# dir(model_cobra)\n",
    "# dir(mat)"
   ]
  },
  {
   "cell_type": "code",
   "execution_count": 8,
   "metadata": {},
   "outputs": [],
   "source": [
    "model = MatFormatReader(mat)\n",
    "S = model.S\n",
    "lb, ub = model.get_model_bounds(False, True)\n",
    "rx_names = model.get_reaction_and_metabolite_ids()[0]"
   ]
  },
  {
   "cell_type": "code",
   "execution_count": 14,
   "metadata": {},
   "outputs": [
    {
     "name": "stdout",
     "output_type": "stream",
     "text": [
      "10610\n",
      "10610\n"
     ]
    }
   ],
   "source": [
    "print(len(rx_names))\n",
    "print(len(model_cobra.reactions))\n",
    "exp_vector = np.random.random(len(rx_names))\n",
    "# exp_vector"
   ]
  },
  {
   "cell_type": "code",
   "execution_count": 15,
   "metadata": {},
   "outputs": [
    {
     "data": {
      "text/plain": [
       "10607"
      ]
     },
     "execution_count": 15,
     "metadata": {},
     "output_type": "execute_result"
    }
   ],
   "source": [
    "idx_objective"
   ]
  },
  {
   "cell_type": "code",
   "execution_count": 16,
   "metadata": {},
   "outputs": [],
   "source": [
    "# code for the GIMME test\n",
    "idx_objective = rx_names.index('biomass_reaction_Mphage')\n",
    "properties = GIMMEProperties(\n",
    "    exp_vector=exp_vector,#np.array(gimme_data['0']),\n",
    "    obj_frac=0.9,\n",
    "    objectives= [{idx_objective:1}],\n",
    "    preprocess=True,\n",
    "    flux_threshold=0.9\n",
    ")\n",
    "algorithm = GIMME(S, lb.astype(float), ub.astype(float), properties)\n",
    "model_GIMME = algorithm.run()"
   ]
  },
  {
   "cell_type": "code",
   "execution_count": 17,
   "metadata": {},
   "outputs": [],
   "source": [
    "model_GIMME_final = model_cobra.copy() # this is done since it alters the original model_cobra; this way is to guarantee that a new model is changed instead of the original model\n",
    "r_ids = [r.id for r in model_GIMME_final.reactions]\n",
    "to_remove_ids = [r_ids[r] for r in np.where(model_GIMME==0)[0]]\n",
    "model_GIMME_final.remove_reactions(to_remove_ids,True) # this is to get the ids of the reactions to be removed in the model; True is to remove the pending genes/metabolites that with the removal of the reaction can no longer be connected in the network"
   ]
  },
  {
   "cell_type": "code",
   "execution_count": 18,
   "metadata": {},
   "outputs": [
    {
     "name": "stdout",
     "output_type": "stream",
     "text": [
      "1's: 1115\n",
      "2's: 124\n",
      "Genes: 658\n",
      "Metabolites: 1857\n",
      "Reactions: 1239\n",
      "1.0*biomass_reaction_Mphage - 1.0*biomass_reaction_Mphage_reverse_6cff5\n",
      "<Solution 0.000 at 0x1ecd55208>\n"
     ]
    }
   ],
   "source": [
    "print('1\\'s: ' + str(len(np.where(model_GIMME==1)[0])))\n",
    "print('2\\'s: ' + str(len(np.where(model_GIMME==2)[0])))\n",
    "print('Genes: ' + str(len(model_GIMME_final.genes)))\n",
    "print('Metabolites: ' + str(len(model_GIMME_final.metabolites)))\n",
    "print('Reactions: ' + str(len(model_GIMME_final.reactions)))\n",
    "print(model_GIMME_final.objective._get_expression())\n",
    "print(model_GIMME_final.optimize())"
   ]
  },
  {
   "cell_type": "code",
   "execution_count": 20,
   "metadata": {},
   "outputs": [
    {
     "data": {
      "text/plain": [
       "1363.0"
      ]
     },
     "execution_count": 20,
     "metadata": {},
     "output_type": "execute_result"
    }
   ],
   "source": [
    "sum(model_GIMME)"
   ]
  },
  {
   "cell_type": "code",
   "execution_count": 35,
   "metadata": {},
   "outputs": [
    {
     "ename": "AttributeError",
     "evalue": "'numpy.ndarray' object has no attribute 'items'",
     "output_type": "error",
     "traceback": [
      "\u001b[0;31m---------------------------------------------------------------------------\u001b[0m",
      "\u001b[0;31mAttributeError\u001b[0m                            Traceback (most recent call last)",
      "\u001b[0;32m<ipython-input-35-e94ddcc922d0>\u001b[0m in \u001b[0;36m<module>\u001b[0;34m\u001b[0m\n\u001b[1;32m     28\u001b[0m \u001b[0malgorithm\u001b[0m \u001b[0;34m=\u001b[0m \u001b[0mGIMME\u001b[0m\u001b[0;34m(\u001b[0m\u001b[0mS\u001b[0m\u001b[0;34m,\u001b[0m \u001b[0mlb\u001b[0m\u001b[0;34m,\u001b[0m \u001b[0mub\u001b[0m\u001b[0;34m,\u001b[0m \u001b[0mproperties\u001b[0m\u001b[0;34m)\u001b[0m\u001b[0;34m\u001b[0m\u001b[0;34m\u001b[0m\u001b[0m\n\u001b[1;32m     29\u001b[0m \u001b[0;34m\u001b[0m\u001b[0m\n\u001b[0;32m---> 30\u001b[0;31m \u001b[0msolution\u001b[0m \u001b[0;34m=\u001b[0m \u001b[0malgorithm\u001b[0m\u001b[0;34m.\u001b[0m\u001b[0mrun\u001b[0m\u001b[0;34m(\u001b[0m\u001b[0;34m)\u001b[0m\u001b[0;34m\u001b[0m\u001b[0;34m\u001b[0m\u001b[0m\n\u001b[0m\u001b[1;32m     31\u001b[0m \u001b[0mprint\u001b[0m\u001b[0;34m(\u001b[0m\u001b[0mexp_vector\u001b[0m\u001b[0;34m.\u001b[0m\u001b[0mround\u001b[0m\u001b[0;34m(\u001b[0m\u001b[0;36m1\u001b[0m\u001b[0;34m)\u001b[0m\u001b[0;34m)\u001b[0m\u001b[0;34m\u001b[0m\u001b[0;34m\u001b[0m\u001b[0m\n\u001b[1;32m     32\u001b[0m \u001b[0mprint\u001b[0m\u001b[0;34m(\u001b[0m\u001b[0mexp_vector\u001b[0m \u001b[0;34m>\u001b[0m \u001b[0;36m0.5\u001b[0m\u001b[0;34m)\u001b[0m\u001b[0;34m\u001b[0m\u001b[0;34m\u001b[0m\u001b[0m\n",
      "\u001b[0;32m/usr/local/lib/python3.7/site-packages/troppo/methods/gimme.py\u001b[0m in \u001b[0;36mrun\u001b[0;34m(self)\u001b[0m\n\u001b[1;32m     22\u001b[0m                         \u001b[0mobjectives\u001b[0m\u001b[0;34m=\u001b[0m\u001b[0mself\u001b[0m\u001b[0;34m.\u001b[0m\u001b[0mproperties\u001b[0m\u001b[0;34m[\u001b[0m\u001b[0;34m'objectives'\u001b[0m\u001b[0;34m]\u001b[0m\u001b[0;34m,\u001b[0m\u001b[0;34m\u001b[0m\u001b[0;34m\u001b[0m\u001b[0m\n\u001b[1;32m     23\u001b[0m                         \u001b[0mobj_frac\u001b[0m\u001b[0;34m=\u001b[0m\u001b[0mself\u001b[0m\u001b[0;34m.\u001b[0m\u001b[0mproperties\u001b[0m\u001b[0;34m[\u001b[0m\u001b[0;34m'obj_frac'\u001b[0m\u001b[0;34m]\u001b[0m\u001b[0;34m,\u001b[0m\u001b[0;34m\u001b[0m\u001b[0;34m\u001b[0m\u001b[0m\n\u001b[0;32m---> 24\u001b[0;31m                         \u001b[0mflux_thres\u001b[0m\u001b[0;34m=\u001b[0m\u001b[0mself\u001b[0m\u001b[0;34m.\u001b[0m\u001b[0mproperties\u001b[0m\u001b[0;34m[\u001b[0m\u001b[0;34m'flux_threshold'\u001b[0m\u001b[0;34m]\u001b[0m\u001b[0;34m\u001b[0m\u001b[0;34m\u001b[0m\u001b[0m\n\u001b[0m\u001b[1;32m     25\u001b[0m \t\t)\n\u001b[1;32m     26\u001b[0m \u001b[0;34m\u001b[0m\u001b[0m\n",
      "\u001b[0;32m/usr/local/lib/python3.7/site-packages/cobamp/core/models.py\u001b[0m in \u001b[0;36moptimize_gimme\u001b[0;34m(self, exp_vector, objectives, obj_frac, flux_thres)\u001b[0m\n\u001b[1;32m    478\u001b[0m         \u001b[0;32mdef\u001b[0m \u001b[0moptimize_gimme\u001b[0m\u001b[0;34m(\u001b[0m\u001b[0mself\u001b[0m\u001b[0;34m,\u001b[0m \u001b[0mexp_vector\u001b[0m\u001b[0;34m,\u001b[0m \u001b[0mobjectives\u001b[0m\u001b[0;34m,\u001b[0m \u001b[0mobj_frac\u001b[0m\u001b[0;34m,\u001b[0m \u001b[0mflux_thres\u001b[0m\u001b[0;34m)\u001b[0m\u001b[0;34m:\u001b[0m\u001b[0;34m\u001b[0m\u001b[0;34m\u001b[0m\u001b[0m\n\u001b[1;32m    479\u001b[0m                 \u001b[0mN\u001b[0m \u001b[0;34m=\u001b[0m \u001b[0mlen\u001b[0m\u001b[0;34m(\u001b[0m\u001b[0mself\u001b[0m\u001b[0;34m.\u001b[0m\u001b[0mcbmodel\u001b[0m\u001b[0;34m.\u001b[0m\u001b[0mreaction_names\u001b[0m\u001b[0;34m)\u001b[0m\u001b[0;34m\u001b[0m\u001b[0;34m\u001b[0m\u001b[0m\n\u001b[0;32m--> 480\u001b[0;31m                 \u001b[0mobjectives_irr\u001b[0m \u001b[0;34m=\u001b[0m \u001b[0;34m[\u001b[0m\u001b[0mself\u001b[0m\u001b[0;34m.\u001b[0m\u001b[0m__adjust_objective_to_irreversible\u001b[0m\u001b[0;34m(\u001b[0m\u001b[0mobj\u001b[0m\u001b[0;34m)\u001b[0m \u001b[0;32mfor\u001b[0m \u001b[0mobj\u001b[0m \u001b[0;32min\u001b[0m \u001b[0mobjectives\u001b[0m\u001b[0;34m]\u001b[0m\u001b[0;34m\u001b[0m\u001b[0;34m\u001b[0m\u001b[0m\n\u001b[0m\u001b[1;32m    481\u001b[0m                 \u001b[0mexp_vector_irr\u001b[0m \u001b[0;34m=\u001b[0m \u001b[0mself\u001b[0m\u001b[0;34m.\u001b[0m\u001b[0m__adjust_expression_vector_to_irreversible\u001b[0m\u001b[0;34m(\u001b[0m\u001b[0mexp_vector\u001b[0m\u001b[0;34m)\u001b[0m\u001b[0;34m\u001b[0m\u001b[0;34m\u001b[0m\u001b[0m\n\u001b[1;32m    482\u001b[0m \u001b[0;34m\u001b[0m\u001b[0m\n",
      "\u001b[0;32m/usr/local/lib/python3.7/site-packages/cobamp/core/models.py\u001b[0m in \u001b[0;36m<listcomp>\u001b[0;34m(.0)\u001b[0m\n\u001b[1;32m    478\u001b[0m         \u001b[0;32mdef\u001b[0m \u001b[0moptimize_gimme\u001b[0m\u001b[0;34m(\u001b[0m\u001b[0mself\u001b[0m\u001b[0;34m,\u001b[0m \u001b[0mexp_vector\u001b[0m\u001b[0;34m,\u001b[0m \u001b[0mobjectives\u001b[0m\u001b[0;34m,\u001b[0m \u001b[0mobj_frac\u001b[0m\u001b[0;34m,\u001b[0m \u001b[0mflux_thres\u001b[0m\u001b[0;34m)\u001b[0m\u001b[0;34m:\u001b[0m\u001b[0;34m\u001b[0m\u001b[0;34m\u001b[0m\u001b[0m\n\u001b[1;32m    479\u001b[0m                 \u001b[0mN\u001b[0m \u001b[0;34m=\u001b[0m \u001b[0mlen\u001b[0m\u001b[0;34m(\u001b[0m\u001b[0mself\u001b[0m\u001b[0;34m.\u001b[0m\u001b[0mcbmodel\u001b[0m\u001b[0;34m.\u001b[0m\u001b[0mreaction_names\u001b[0m\u001b[0;34m)\u001b[0m\u001b[0;34m\u001b[0m\u001b[0;34m\u001b[0m\u001b[0m\n\u001b[0;32m--> 480\u001b[0;31m                 \u001b[0mobjectives_irr\u001b[0m \u001b[0;34m=\u001b[0m \u001b[0;34m[\u001b[0m\u001b[0mself\u001b[0m\u001b[0;34m.\u001b[0m\u001b[0m__adjust_objective_to_irreversible\u001b[0m\u001b[0;34m(\u001b[0m\u001b[0mobj\u001b[0m\u001b[0;34m)\u001b[0m \u001b[0;32mfor\u001b[0m \u001b[0mobj\u001b[0m \u001b[0;32min\u001b[0m \u001b[0mobjectives\u001b[0m\u001b[0;34m]\u001b[0m\u001b[0;34m\u001b[0m\u001b[0;34m\u001b[0m\u001b[0m\n\u001b[0m\u001b[1;32m    481\u001b[0m                 \u001b[0mexp_vector_irr\u001b[0m \u001b[0;34m=\u001b[0m \u001b[0mself\u001b[0m\u001b[0;34m.\u001b[0m\u001b[0m__adjust_expression_vector_to_irreversible\u001b[0m\u001b[0;34m(\u001b[0m\u001b[0mexp_vector\u001b[0m\u001b[0;34m)\u001b[0m\u001b[0;34m\u001b[0m\u001b[0;34m\u001b[0m\u001b[0m\n\u001b[1;32m    482\u001b[0m \u001b[0;34m\u001b[0m\u001b[0m\n",
      "\u001b[0;32m/usr/local/lib/python3.7/site-packages/cobamp/core/models.py\u001b[0m in \u001b[0;36m__adjust_objective_to_irreversible\u001b[0;34m(self, objective_dict)\u001b[0m\n\u001b[1;32m    457\u001b[0m         \u001b[0;32mdef\u001b[0m \u001b[0m__adjust_objective_to_irreversible\u001b[0m\u001b[0;34m(\u001b[0m\u001b[0mself\u001b[0m\u001b[0;34m,\u001b[0m \u001b[0mobjective_dict\u001b[0m\u001b[0;34m)\u001b[0m\u001b[0;34m:\u001b[0m\u001b[0;34m\u001b[0m\u001b[0;34m\u001b[0m\u001b[0m\n\u001b[1;32m    458\u001b[0m                 \u001b[0mobj_dict\u001b[0m \u001b[0;34m=\u001b[0m \u001b[0;34m{\u001b[0m\u001b[0;34m}\u001b[0m\u001b[0;34m\u001b[0m\u001b[0;34m\u001b[0m\u001b[0m\n\u001b[0;32m--> 459\u001b[0;31m                 \u001b[0;32mfor\u001b[0m \u001b[0mk\u001b[0m\u001b[0;34m,\u001b[0m \u001b[0mv\u001b[0m \u001b[0;32min\u001b[0m \u001b[0mobjective_dict\u001b[0m\u001b[0;34m.\u001b[0m\u001b[0mitems\u001b[0m\u001b[0;34m(\u001b[0m\u001b[0;34m)\u001b[0m\u001b[0;34m:\u001b[0m\u001b[0;34m\u001b[0m\u001b[0;34m\u001b[0m\u001b[0m\n\u001b[0m\u001b[1;32m    460\u001b[0m                         \u001b[0mirrev_map\u001b[0m \u001b[0;34m=\u001b[0m \u001b[0mself\u001b[0m\u001b[0;34m.\u001b[0m\u001b[0mmapping\u001b[0m\u001b[0;34m[\u001b[0m\u001b[0mself\u001b[0m\u001b[0;34m.\u001b[0m\u001b[0mcbmodel\u001b[0m\u001b[0;34m.\u001b[0m\u001b[0mdecode_index\u001b[0m\u001b[0;34m(\u001b[0m\u001b[0mk\u001b[0m\u001b[0;34m,\u001b[0m \u001b[0;34m'reaction'\u001b[0m\u001b[0;34m)\u001b[0m\u001b[0;34m]\u001b[0m\u001b[0;34m\u001b[0m\u001b[0;34m\u001b[0m\u001b[0m\n\u001b[1;32m    461\u001b[0m                         \u001b[0;32mif\u001b[0m \u001b[0misinstance\u001b[0m\u001b[0;34m(\u001b[0m\u001b[0mirrev_map\u001b[0m\u001b[0;34m,\u001b[0m \u001b[0;34m(\u001b[0m\u001b[0mlist\u001b[0m\u001b[0;34m,\u001b[0m \u001b[0mtuple\u001b[0m\u001b[0;34m)\u001b[0m\u001b[0;34m)\u001b[0m\u001b[0;34m:\u001b[0m\u001b[0;34m\u001b[0m\u001b[0;34m\u001b[0m\u001b[0m\n",
      "\u001b[0;31mAttributeError\u001b[0m: 'numpy.ndarray' object has no attribute 'items'"
     ]
    }
   ],
   "source": [
    "from troppo.methods.gimme import GIMME\n",
    "from troppo.reconstruction_properties import GIMMEProperties\n",
    "\n",
    "import numpy as np\n",
    "\n",
    "S = np.array([[1, -1, 0, 0, -1, 0, -1, 0, 0],\n",
    "              [0, 1, -1, 0, 0, 0, 0, 0, 0],\n",
    "              [0, 1, 0, 1, -1, 0, 0, 0, 0],\n",
    "              [0, 0, 0, 0, 0, 1, -1, 0, 0],\n",
    "              [0, 0, 0, 0, 0, 0, 1, -1, 0],\n",
    "              [0, 0, 0, 0, 1, 0, 0, 1, -1]])\n",
    "M, N = S.shape\n",
    "lb = np.array([0] * N).astype(float)\n",
    "lb[3] = -10\n",
    "ub = np.array([10] * N).astype(float)\n",
    "\n",
    "names = ['R' + str(i + 1) for i in range(N)]\n",
    "exp_vector = np.random.random(N)\n",
    "exp_vector[[0,2,5,8]] = -1\n",
    "properties = GIMMEProperties(\n",
    "    exp_vector=exp_vector,\n",
    "    obj_frac=0.8,\n",
    "    objectives=[np.array([0,0,0,0,0,0,0,0,1])],\n",
    "    preprocess=True,\n",
    "    flux_threshold=0.8\n",
    ")\n",
    "\n",
    "algorithm = GIMME(S, lb, ub, properties)\n",
    "\n",
    "solution = algorithm.run()\n",
    "print(exp_vector.round(1))\n",
    "print(exp_vector > 0.5)\n",
    "print(solution)\n",
    "print(['R'+str(i+1) for i,v in enumerate(solution) if v > 0])"
   ]
  },
  {
   "cell_type": "code",
   "execution_count": 37,
   "metadata": {},
   "outputs": [
    {
     "name": "stdout",
     "output_type": "stream",
     "text": [
      "[-1.   0.4 -1.   1.   0.6 -1.   0.2  0.1 -1. ]\n",
      "[False False False  True  True False False False False]\n"
     ]
    }
   ],
   "source": [
    "print(exp_vector.round(1))\n",
    "print(exp_vector > 0.5)\n"
   ]
  },
  {
   "cell_type": "code",
   "execution_count": null,
   "metadata": {},
   "outputs": [],
   "source": []
  }
 ],
 "metadata": {
  "kernelspec": {
   "display_name": "Python 3",
   "language": "python",
   "name": "python3"
  },
  "language_info": {
   "codemirror_mode": {
    "name": "ipython",
    "version": 3
   },
   "file_extension": ".py",
   "mimetype": "text/x-python",
   "name": "python",
   "nbconvert_exporter": "python",
   "pygments_lexer": "ipython3",
   "version": "3.7.3"
  }
 },
 "nbformat": 4,
 "nbformat_minor": 2
}
