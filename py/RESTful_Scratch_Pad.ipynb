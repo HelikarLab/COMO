{
 "cells": [
  {
   "cell_type": "markdown",
   "metadata": {},
   "source": [
    "# Create a database and Table"
   ]
  },
  {
   "cell_type": "code",
   "execution_count": 16,
   "metadata": {},
   "outputs": [],
   "source": [
    "import sys\n",
    "#for creating the mapper code\n",
    "from sqlalchemy import Column, ForeignKey, Integer, String\n",
    "\n",
    "#for configuration and class code\n",
    "from sqlalchemy.ext.declarative import declarative_base\n",
    "\n",
    "#for creating foreign key relationship between the tables\n",
    "from sqlalchemy.orm import relationship\n",
    "\n",
    "#for configuration\n",
    "from sqlalchemy import create_engine\n",
    "\n",
    "#create declarative_base instance\n",
    "Base = declarative_base()\n",
    "\n",
    "#we'll add classes here\n",
    "\n",
    "#creates a create_engine instance at the bottom of the file\n",
    "engine = create_engine('sqlite:///books-collection.db')\n",
    "\n",
    "# Base.metadata.create_all(engine)\n"
   ]
  },
  {
   "cell_type": "code",
   "execution_count": 17,
   "metadata": {},
   "outputs": [],
   "source": [
    "#we create the class Book and extend it from the Base Class.\n",
    "class Book(Base):\n",
    "    __tablename__ = 'book'\n",
    "\n",
    "    id = Column(Integer, primary_key=True)\n",
    "    title = Column(String(250), nullable=False)\n",
    "    author = Column(String(250), nullable=False)\n",
    "    genre = Column(String(250))"
   ]
  },
  {
   "cell_type": "code",
   "execution_count": 18,
   "metadata": {},
   "outputs": [],
   "source": [
    "Base.metadata.create_all(engine)"
   ]
  },
  {
   "cell_type": "markdown",
   "metadata": {},
   "source": [
    "# Populate the database"
   ]
  },
  {
   "cell_type": "code",
   "execution_count": 19,
   "metadata": {},
   "outputs": [],
   "source": [
    "# from sqlalchemy import create_engine\n",
    "from sqlalchemy.orm import sessionmaker\n",
    "#Let’s import our Book and Base classes from our database_setup.py file\n",
    "# from database_setup import Book, Base\n",
    "\n",
    "# engine = create_engine('sqlite:///books-collection.db')\n",
    "# Bind the engine to the metadata of the Base class so that the\n",
    "# declaratives can be accessed through a DBSession instance\n",
    "Base.metadata.bind = engine\n",
    "\n",
    "DBSession = sessionmaker(bind=engine)\n",
    "# A DBSession() instance establishes all conversations with the database\n",
    "# and represents a \"staging zone\" for all the objects loaded into the\n",
    "# database session object.\n",
    "session = DBSession()"
   ]
  },
  {
   "cell_type": "code",
   "execution_count": 20,
   "metadata": {},
   "outputs": [],
   "source": [
    "bookOne = Book(title=\"The Bell Jar\", author=\"Sylvia Pla\", genre=\"roman à clef\")\n",
    "session.add(bookOne)\n",
    "session.commit()"
   ]
  },
  {
   "cell_type": "code",
   "execution_count": 31,
   "metadata": {},
   "outputs": [
    {
     "data": {
      "text/plain": [
       "[]"
      ]
     },
     "execution_count": 31,
     "metadata": {},
     "output_type": "execute_result"
    }
   ],
   "source": [
    "session.query(Book).all()"
   ]
  },
  {
   "cell_type": "code",
   "execution_count": 30,
   "metadata": {},
   "outputs": [],
   "source": [
    "session.query(Book).first()"
   ]
  },
  {
   "cell_type": "code",
   "execution_count": 23,
   "metadata": {},
   "outputs": [],
   "source": [
    "editedBook = session.query(Book).filter_by(id=1).one()"
   ]
  },
  {
   "cell_type": "code",
   "execution_count": 26,
   "metadata": {},
   "outputs": [
    {
     "data": {
      "text/plain": [
       "'Sylvia Plath'"
      ]
     },
     "execution_count": 26,
     "metadata": {},
     "output_type": "execute_result"
    }
   ],
   "source": [
    "editedBook.author"
   ]
  },
  {
   "cell_type": "code",
   "execution_count": 25,
   "metadata": {},
   "outputs": [],
   "source": [
    "editedBook.author = \"Sylvia Plath\"\n",
    "session.add(editedBook)\n",
    "session.commit()"
   ]
  },
  {
   "cell_type": "code",
   "execution_count": 29,
   "metadata": {},
   "outputs": [],
   "source": [
    "bookToDelete = session.query(Book).filter_by(title='The Bell Jar').one()\n",
    "session.delete(bookToDelete)\n",
    "session.commit()"
   ]
  },
  {
   "cell_type": "code",
   "execution_count": null,
   "metadata": {},
   "outputs": [],
   "source": [
    "from flask import Flask, render_template, request, redirect, url_for\n",
    "app = Flask(__name__)\n"
   ]
  }
 ],
 "metadata": {
  "kernelspec": {
   "display_name": "Python 3",
   "language": "python",
   "name": "python3"
  },
  "language_info": {
   "codemirror_mode": {
    "name": "ipython",
    "version": 3
   },
   "file_extension": ".py",
   "mimetype": "text/x-python",
   "name": "python",
   "nbconvert_exporter": "python",
   "pygments_lexer": "ipython3",
   "version": "3.7.3"
  }
 },
 "nbformat": 4,
 "nbformat_minor": 2
}
