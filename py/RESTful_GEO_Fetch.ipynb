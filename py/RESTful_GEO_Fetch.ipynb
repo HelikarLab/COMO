{
 "cells": [
  {
   "cell_type": "code",
   "execution_count": 1,
   "metadata": {},
   "outputs": [],
   "source": [
    "import sys\n",
    "#for creating the mapper code\n",
    "from sqlalchemy import Column, ForeignKey, Integer, String, Float\n",
    "\n",
    "#for configuration and class code\n",
    "from sqlalchemy.ext.declarative import declarative_base\n",
    "\n",
    "#for creating foreign key relationship between the tables\n",
    "from sqlalchemy.orm import relationship\n",
    "\n",
    "#for configuration\n",
    "from sqlalchemy import create_engine\n",
    "\n",
    "#create declarative_base instance\n",
    "Base = declarative_base()\n",
    "\n",
    "#we'll add classes here\n",
    "\n",
    "#creates a create_engine instance at the bottom of the file\n",
    "engine = create_engine('sqlite:///transcriptomics.db')\n",
    "\n",
    "# Base.metadata.create_all(engine)\n"
   ]
  },
  {
   "cell_type": "code",
   "execution_count": 2,
   "metadata": {},
   "outputs": [],
   "source": [
    "class Book(Base):\n",
    "    __tablename__ = 'gsm'\n",
    "\n",
    "    id = Column(Integer, primary_key=True)\n",
    "    ENTREZ_GENE_ID = Column(String(250), nullable=False)\n",
    "    VALUE = Column(Float, nullable=False)\n",
    "    P_VALUE = Column(Float)\n",
    "    ABS_CALL = Column(String(2))\n",
    "    GSE = Column(String(64))\n",
    "    Sample = Column(String(64))\n",
    "    \n",
    "    \n",
    "class IDMapps(Base):\n",
    "    __tablename__ = 'id_entrez_map'\n",
    "    \n",
    "    idx = Column(Integer, primary_key=True)\n",
    "    ID = Column(String(250))\n",
    "    ENTREZ = Column(String(250))"
   ]
  },
  {
   "cell_type": "code",
   "execution_count": 3,
   "metadata": {},
   "outputs": [],
   "source": [
    "Base.metadata.create_all(engine)"
   ]
  },
  {
   "cell_type": "code",
   "execution_count": null,
   "metadata": {},
   "outputs": [],
   "source": []
  }
 ],
 "metadata": {
  "kernelspec": {
   "display_name": "Python 3",
   "language": "python",
   "name": "python3"
  },
  "language_info": {
   "codemirror_mode": {
    "name": "ipython",
    "version": 3
   },
   "file_extension": ".py",
   "mimetype": "text/x-python",
   "name": "python",
   "nbconvert_exporter": "python",
   "pygments_lexer": "ipython3",
   "version": "3.7.3"
  }
 },
 "nbformat": 4,
 "nbformat_minor": 2
}
