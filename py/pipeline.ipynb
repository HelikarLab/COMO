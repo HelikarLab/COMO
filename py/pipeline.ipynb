{
 "cells": [
  {
   "cell_type": "markdown",
   "metadata": {},
   "source": [
    "Three functional blocks\n",
    "\n",
    "1. Transcriptomics, Proteomics, Active Gene IDs\n",
    "2. Create or load tissue specific model\n",
    "3. Disease Analysis: Differential Expressions\n",
    "4. Knock out simulation: Score Genes, Generate Drug List"
   ]
  },
  {
   "cell_type": "code",
   "execution_count": null,
   "metadata": {},
   "outputs": [],
   "source": [
    "import sys\n",
    "import os\n",
    "import pandas\n",
    "import numpy\n",
    "import json\n",
    "from subprocess import call\n",
    "from project import configs\n",
    "print(configs.rootdir)"
   ]
  },
  {
   "cell_type": "markdown",
   "metadata": {},
   "source": [
    "## Step 1: Transcriptomics and Proteomics Generation"
   ]
  },
  {
   "cell_type": "code",
   "execution_count": null,
   "metadata": {},
   "outputs": [],
   "source": [
    "transcriptomics_config_file = 'GeneExpressionDataUsed.xlsx'\n",
    "proteomics_data_file = 'ni.3693-S5.xlsx'\n",
    "proteomics_supplementary_data_file = 'Supplementary Data 1.xlsx'"
   ]
  },
  {
   "cell_type": "code",
   "execution_count": null,
   "metadata": {
    "scrolled": true
   },
   "outputs": [],
   "source": [
    "cmd = ' '.join(['python3', 'transcriptomic_gen.py', \n",
    "      '-i', '\"{}\"'.format(transcriptomics_config_file)])\n",
    "!{cmd}"
   ]
  },
  {
   "cell_type": "code",
   "execution_count": null,
   "metadata": {},
   "outputs": [],
   "source": [
    "cmd = ' '.join(['python3', 'proteomics_gen.py', \n",
    "      '-d', '\"{}\"'.format(proteomics_data_file), \n",
    "      '-s', '\"{}\"'.format(proteomics_supplementary_data_file)])\n",
    "!{cmd}"
   ]
  },
  {
   "cell_type": "code",
   "execution_count": null,
   "metadata": {
    "scrolled": true
   },
   "outputs": [],
   "source": [
    "cmd = ' '.join(['python3', 'merge_xomics.py', \n",
    "      '-t', '\"{}\"'.format(transcriptomics_config_file), \n",
    "      '-p', '\"{}\"'.format(proteomics_supplementary_data_file)])\n",
    "!{cmd}"
   ]
  },
  {
   "cell_type": "markdown",
   "metadata": {},
   "source": [
    "## Step 1.5 Create Tissue Specific Model"
   ]
  },
  {
   "cell_type": "code",
   "execution_count": null,
   "metadata": {},
   "outputs": [],
   "source": [
    "step1_results_file = os.path.join(configs.datadir, 'step1_results_files.json')\n",
    "with open(step1_results_file) as json_file:\n",
    "    tissue_gene_exp = json.load(json_file)\n",
    "print(tissue_gene_exp)"
   ]
  },
  {
   "cell_type": "code",
   "execution_count": null,
   "metadata": {},
   "outputs": [],
   "source": [
    "# (input) filename of General Model \n",
    "GeneralModelFile = 'GeneralModel.mat'\n",
    "# (input) filename of Tissue Gene Expression\n",
    "genefile = 'merged_Th1.csv'\n",
    "# (output) filename of Tissue Specific Model\n",
    "tissuefile = 'Th1_SpecificModel.mat'"
   ]
  },
  {
   "cell_type": "code",
   "execution_count": null,
   "metadata": {
    "scrolled": true
   },
   "outputs": [],
   "source": [
    "tissue_spec_model = {}\n",
    "for key,value in tissue_gene_exp.items():\n",
    "    tissuefile = '{}_SpecificModel.mat'.format(key)\n",
    "    tissue_spec_model[key] = tissuefile\n",
    "    tissue_gene_file = value.split('/')[-1]\n",
    "    tissue_gene_folder = os.path.join(configs.datadir, key)\n",
    "    os.makedirs(tissue_gene_folder, exist_ok=True)\n",
    "    cmd = ' '.join(['python3', 'create_tissue_specific_model.py', \n",
    "                      '-m', '\"{}\"'.format(GeneralModelFile), \n",
    "                      '-g', '\"{}\"'.format(tissue_gene_file),\n",
    "                      '-o', '\"{}\"'.format(tissuefile)])\n",
    "    !{cmd}\n",
    "\n",
    "print(tissue_spec_model)"
   ]
  },
  {
   "cell_type": "markdown",
   "metadata": {},
   "source": [
    "## Step 2: Disease Gene Analysis\n",
    "Differential Expression Analysis\n",
    "\n",
    "Only 1 disease to be analyzed, output files in data folder"
   ]
  },
  {
   "cell_type": "code",
   "execution_count": null,
   "metadata": {},
   "outputs": [],
   "source": [
    "disease_gene_file = 'Disease_Gene_Analyzed.xlsx'"
   ]
  },
  {
   "cell_type": "code",
   "execution_count": null,
   "metadata": {
    "scrolled": true
   },
   "outputs": [],
   "source": [
    "cmd = ' '.join(['python3', 'disease_analysis.py', \n",
    "              '-i', '\"{}\"'.format(disease_gene_file)])\n",
    "!{cmd}"
   ]
  },
  {
   "cell_type": "code",
   "execution_count": null,
   "metadata": {},
   "outputs": [],
   "source": [
    "step2_results_file = os.path.join(configs.datadir, 'step2_results_files.json')\n",
    "with open(step2_results_file) as json_file:\n",
    "    disease_files = json.load(json_file)\n",
    "print(disease_files)"
   ]
  },
  {
   "cell_type": "markdown",
   "metadata": {},
   "source": [
    "## Step 3: Knock Out Simulation\n",
    "Knock out simulation and repurposing drug List generation\n",
    "\n",
    "Instruction: Download `Repurposing_Hub_export.txt` from [Drug Repurposing Hub](https://clue.io/repurposing-app) to `/pipelines/data/`"
   ]
  },
  {
   "cell_type": "code",
   "execution_count": null,
   "metadata": {},
   "outputs": [],
   "source": [
    "tissue_spec_model"
   ]
  },
  {
   "cell_type": "code",
   "execution_count": null,
   "metadata": {},
   "outputs": [],
   "source": [
    "RA_Down = disease_files['DN_Reg']\n",
    "RA_Up = disease_files['UP_Reg']\n",
    "\n",
    "drug_raw_file = 'Repurposing_Hub_export.txt'"
   ]
  },
  {
   "cell_type": "code",
   "execution_count": null,
   "metadata": {},
   "outputs": [],
   "source": [
    "for key,value in tissue_spec_model.items():\n",
    "    tissueSpecificModelfile = value\n",
    "    tissue_gene_folder = os.path.join(configs.datadir, key)\n",
    "    os.makedirs(tissue_gene_folder, exist_ok=True)\n",
    "    inhibitors_file = '{}_inhibitors_Entrez.txt'.format(key)\n",
    "    cmd = ' '.join(['python3' , 'knock_out_simulation.py',\n",
    "                  '-t', tissueSpecificModelfile,\n",
    "                  '-i', inhibitors_file,\n",
    "                  '-u', RA_Up,\n",
    "                  '-d', RA_Down,\n",
    "                  '-f', key,\n",
    "                  '-r', drug_raw_file])\n",
    "    !{cmd}\n",
    "    \n",
    "    # copy generated output to output folder\n",
    "    cmd = ' '.join(['cp', '-a', os.path.join(configs.datadir, key), configs.outputdir])\n",
    "    !{cmd}\n",
    "    #break\n"
   ]
  },
  {
   "cell_type": "markdown",
   "metadata": {},
   "source": [
    "#### To use customized model, please specify `tissue_spec_model` manually."
   ]
  },
  {
   "cell_type": "code",
   "execution_count": null,
   "metadata": {},
   "outputs": [],
   "source": [
    "# datafolder = 'Th1'\n",
    "# tissueSpecificModelfile = 'Th1_Cell_SpecificModel4manuscript.mat'\n",
    "# inhibitors_file = 'Th1_inhibitors_Entrez.txt'\n",
    "\n",
    "# RA_Down = 'RA_DOWN.txt'\n",
    "# RA_Up = 'RA_UP.txt'\n",
    "# drug_raw_file = 'Repurposing_Hub_export.txt'\n",
    "# # drug_pre_file = 'Repurposing_Hub_Preproc.csv'\n"
   ]
  },
  {
   "cell_type": "code",
   "execution_count": null,
   "metadata": {},
   "outputs": [],
   "source": [
    "# cmd = ' '.join(['python3' , 'knock_out_simulation.py',\n",
    "#               '-t', tissueSpecificModelfile,\n",
    "#               '-i', inhibitors_file,\n",
    "#               '-u', RA_Up,\n",
    "#               '-d', RA_Down,\n",
    "#               '-f', datafolder,\n",
    "#               '-r', drug_raw_file])"
   ]
  },
  {
   "cell_type": "code",
   "execution_count": null,
   "metadata": {},
   "outputs": [],
   "source": []
  }
 ],
 "metadata": {
  "kernelspec": {
   "display_name": "Python 3",
   "language": "python",
   "name": "python3"
  },
  "language_info": {
   "codemirror_mode": {
    "name": "ipython",
    "version": 3
   },
   "file_extension": ".py",
   "mimetype": "text/x-python",
   "name": "python",
   "nbconvert_exporter": "python",
   "pygments_lexer": "ipython3",
   "version": "3.7.3"
  }
 },
 "nbformat": 4,
 "nbformat_minor": 2
}
