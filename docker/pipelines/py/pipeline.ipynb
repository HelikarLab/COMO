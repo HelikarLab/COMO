{
 "cells": [
  {
   "cell_type": "markdown",
   "metadata": {},
   "source": [
    "## Instructions\n",
    "\n",
    "This jupyter notebook run MADRID pipeline to identify drug targets and repurposing drugs for user-defined complex human diseases. The entire process contains four steps:\n",
    "1. Download and analyze transcriptomics and proteomics data, output a list of active genes.\n",
    "2. Create tissue specific models based on the list of active genes. If required the user can manually refine these models and supply them in Step 4. \n",
    "3. Identifying differential gene expressions from disease datasets.\n",
    "4. Identifying drug targets and repruposable drugs. This step consists of four substeps. \n",
    " (i) mapping drugs on automatically created or user-supplied models, (ii) knock-out simulation, (iii) compare simulation results of perturbed and unperturbed models, and (iv) integrate with disease genes and score drug targets.\n",
    "\n",
    "The users needs to create the input files for each step and upload input files to the docker container `/root/pipelines/data/`, and specify the input files in this notebook. In the original docker image, some exemplary input files are included to build metabolic models of naive, Th1, Th2, and Th17 subtypes and identify drug targets for rheumatoid arthritis. User should follow the documentation and the format of the exemplary input files to create your own input files."
   ]
  },
  {
   "cell_type": "code",
   "execution_count": null,
   "metadata": {},
   "outputs": [],
   "source": [
    "# import necessary python packages\n",
    "import sys\n",
    "import os\n",
    "import pandas\n",
    "import numpy\n",
    "import json\n",
    "from subprocess import call\n",
    "from project import configs\n",
    "\n",
    "# print root path of the project\n",
    "print(configs.rootdir) "
   ]
  },
  {
   "cell_type": "markdown",
   "metadata": {},
   "source": [
    "## Step 1: Identifying gene activity by analyzing transcriptomics and proteomics datasets"
   ]
  },
  {
   "cell_type": "markdown",
   "metadata": {},
   "source": [
    "*** Specify input files for step 1 here ***\n",
    "\n",
    "If proteomics data is not availabe, use:\n",
    "\n",
    "proteomics_data_file = 'dummy_proteomics_data.xlsx'\n",
    "\n",
    "proteomics_config_file = 'dummy_proteomics_config.xlsx'"
   ]
  },
  {
   "cell_type": "code",
   "execution_count": null,
   "metadata": {},
   "outputs": [],
   "source": [
    "# Specific input files for step 1\n",
    "\n",
    "# config file for transcriptomics\n",
    "transcriptomics_config_file = 'transcriptomics_data_inputs.xlsx' \n",
    "\n",
    "# data file for proteomics\n",
    "proteomics_data_file = 'ProteomicsDataMatrix.xlsx' \n",
    "\n",
    "# config file for proteomics\n",
    "proteomics_config_file = 'proteomics_data_inputs.xlsx' "
   ]
  },
  {
   "cell_type": "code",
   "execution_count": null,
   "metadata": {
    "scrolled": true
   },
   "outputs": [],
   "source": [
    "# Step 1.1 Download and analyze transcriptomics\n",
    "cmd = ' '.join(['python3', 'transcriptomic_gen.py', \n",
    "      '-i', '\"{}\"'.format(transcriptomics_config_file)])\n",
    "!{cmd}"
   ]
  },
  {
   "cell_type": "code",
   "execution_count": null,
   "metadata": {},
   "outputs": [],
   "source": [
    "# Step 1.2 Analyze proteomics\n",
    "cmd = ' '.join(['python3', 'proteomics_gen.py', \n",
    "      '-d', '\"{}\"'.format(proteomics_data_file), \n",
    "      '-s', '\"{}\"'.format(proteomics_config_file)])\n",
    "!{cmd}"
   ]
  },
  {
   "cell_type": "code",
   "execution_count": null,
   "metadata": {
    "scrolled": true
   },
   "outputs": [],
   "source": [
    "# Step 1.3 Merge the gene lists of transcriptomics and proteomics, create a list of active gene IDs\n",
    "cmd = ' '.join(['python3', 'merge_xomics.py', \n",
    "      '-t', '\"{}\"'.format(transcriptomics_config_file), \n",
    "      '-p', '\"{}\"'.format(proteomics_config_file)])\n",
    "!{cmd}"
   ]
  },
  {
   "cell_type": "markdown",
   "metadata": {},
   "source": [
    "## Step 2: Create tissue-specific or cell-type-specific Models"
   ]
  },
  {
   "cell_type": "code",
   "execution_count": null,
   "metadata": {},
   "outputs": [],
   "source": [
    "# Load the output of step 1, which is a dictionary that specifies the merged list of active Gene IDs for each tissue\n",
    "\n",
    "step1_results_file = os.path.join(configs.datadir, 'step1_results_files.json')\n",
    "with open(step1_results_file) as json_file:\n",
    "    tissue_gene_exp = json.load(json_file)\n",
    "print(tissue_gene_exp)"
   ]
  },
  {
   "cell_type": "markdown",
   "metadata": {},
   "source": [
    "*** Specify input files for step 2 here ***"
   ]
  },
  {
   "cell_type": "code",
   "execution_count": null,
   "metadata": {},
   "outputs": [],
   "source": [
    "# (input) filename of General Model, Recon3D_Teff_ver2\n",
    "GeneralModelFile = 'GeneralModel.mat'\n",
    "\n",
    "# (input) filename of Tissue Gene Expression\n",
    "# genefile = 'merged_Th1.csv'\n",
    "\n",
    "# (output) filename of Tissue Specific Model\n",
    "# tissuefile = 'Th1_SpecificModel.mat'"
   ]
  },
  {
   "cell_type": "code",
   "execution_count": null,
   "metadata": {
    "scrolled": true
   },
   "outputs": [],
   "source": [
    "# create tissue specific model, the names of output files are stored in dictionary tissue_spec_model\n",
    "tissue_spec_model = {}\n",
    "\n",
    "for key,value in tissue_gene_exp.items():\n",
    "    tissuefile = '{}_SpecificModel.json'.format(key)\n",
    "    tissue_spec_model[key] = tissuefile\n",
    "    tissue_gene_file = value.split('/')[-1]\n",
    "    tissue_gene_folder = os.path.join(configs.datadir, key)\n",
    "    os.makedirs(tissue_gene_folder, exist_ok=True)\n",
    "    cmd = ' '.join(['python3', 'create_tissue_specific_model.py', \n",
    "                      '-m', '\"{}\"'.format(GeneralModelFile), \n",
    "                      '-g', '\"{}\"'.format(tissue_gene_file),\n",
    "                      '-o', '\"{}\"'.format(tissuefile)])\n",
    "    !{cmd}\n",
    "\n",
    "print(tissue_spec_model)"
   ]
  },
  {
   "cell_type": "markdown",
   "metadata": {},
   "source": [
    "## Step 3: Identifying disease related genes by analyzing transcriptomics data of patients\n",
    "Differential Expression Analysis\n",
    "\n",
    "Only 1 disease to be analyzed, output files in data folder"
   ]
  },
  {
   "cell_type": "markdown",
   "metadata": {},
   "source": [
    "*** Specify input files for step 3 here ***"
   ]
  },
  {
   "cell_type": "code",
   "execution_count": null,
   "metadata": {},
   "outputs": [],
   "source": [
    "#input filename transcriptomics data of disease\n",
    "disease_gene_file = 'disease_transcriptomics_data_inputs.xlsx'"
   ]
  },
  {
   "cell_type": "code",
   "execution_count": null,
   "metadata": {
    "scrolled": true
   },
   "outputs": [],
   "source": [
    "# Differential gene expression analysis\n",
    "cmd = ' '.join(['python3', 'disease_analysis.py', \n",
    "              '-i', '\"{}\"'.format(disease_gene_file)])\n",
    "!{cmd}"
   ]
  },
  {
   "cell_type": "code",
   "execution_count": null,
   "metadata": {},
   "outputs": [],
   "source": [
    "# load the results of step 3 to dictionary 'disease_files'\n",
    "step3_results_file = os.path.join(configs.datadir, 'step2_results_files.json')\n",
    "with open(step3_results_file) as json_file:\n",
    "    disease_files = json.load(json_file)\n",
    "print(disease_files)"
   ]
  },
  {
   "cell_type": "markdown",
   "metadata": {},
   "source": [
    "## Step 4: Identification of drug targets and repurposable drugs\n",
    "This step maps drug targets in metabolic models,prforms knock out simulation, and compare simulation results with disease genes and identifies drug targets and repurposable drugs\n",
    "\n",
    "*** Specify input files for step 4 here ***\n",
    "\n",
    "1. Instruction: A processed Drug-Target file is included in the `/root/pipelines/data/`. (Optional step) For the updated versions the users can download `Repurposing_Hub_export.txt` from [Drug Repurposing Hub](https://clue.io/repurposing-app). From the downloaded file first remove all the activators, agonists, and withdrawn drugs and then upload to to `/root/pipelines/data/`."
   ]
  },
  {
   "cell_type": "markdown",
   "metadata": {},
   "source": [
    "2. To use automatically created tissue specific models. Note: It is recommended to use refined and validated models for further analysis. User can define cutomized models in next sub-step."
   ]
  },
  {
   "cell_type": "code",
   "execution_count": null,
   "metadata": {},
   "outputs": [],
   "source": [
    "# tissue specific models\n",
    "tissue_spec_model"
   ]
  },
  {
   "cell_type": "code",
   "execution_count": null,
   "metadata": {},
   "outputs": [],
   "source": [
    "Disease_Down = disease_files['DN_Reg']\n",
    "Disease_Up = disease_files['UP_Reg']\n",
    "drug_raw_file = 'Repurposing_Hub_export.txt'"
   ]
  },
  {
   "cell_type": "markdown",
   "metadata": {},
   "source": [
    "3. To use customized model, please specify `tissue_spec_model` manually, e.g. uncomment tissue_spec_model in the following cell."
   ]
  },
  {
   "cell_type": "code",
   "execution_count": null,
   "metadata": {},
   "outputs": [],
   "source": [
    "# Manually specify Up and Down Regulated Genes for Disease. (Please upload manually created files `/pipelines/data/`. Use filenames as given belwo or change them accordingly.)\n",
    "# Disease_Down = 'Disease_DOWN.txt'\n",
    "# Disease_Up = 'Disease_UP.txt'\n",
    "# drug_raw_file = 'Repurposing_Hub_export.txt'\n",
    "\n",
    "# Manually specify tissue specific models fine-tuned by user. Change names of the files accordingly. Users can use single or multiple models here. Using multiple models, simulation time will increase.\n",
    "# tissue_spec_model = {'Th1':'Th1Model.mat',\n",
    "#                      'Th2':'Th2Model.mat',\n",
    "#                      'Th17':'Th17Model.mat',\n",
    "#                      'Naive':'NaiveModel.mat'}\n",
    "\n",
    "# Manually specify tissue specific model created by matlab cobratoolbox. For example run, we have provided four models of CD4+ T cells (niave, Th1, Th2, and Th17) please uncomment all or any specific model\n",
    "# tissue_spec_model = {'Th1':'Th1_SpecificModel_matlab.mat',\n",
    "#                      'Th2':'Th2_SpecificModel_matlab.mat',\n",
    "#                      'Th17':'Th17_SpecificModel_matlab.mat',\n",
    "#                      'Naive':'Naive_SpecificModel_matlab.mat'}\n"
   ]
  },
  {
   "cell_type": "code",
   "execution_count": null,
   "metadata": {
    "scrolled": true
   },
   "outputs": [],
   "source": [
    "# Knock out simulation for the analyzed tissues\n",
    "for key,value in tissue_spec_model.items():\n",
    "    tissueSpecificModelfile = value\n",
    "    tissue_gene_folder = os.path.join(configs.datadir, key)\n",
    "    os.makedirs(tissue_gene_folder, exist_ok=True)\n",
    "    inhibitors_file = '{}_inhibitors_Entrez.txt'.format(key)\n",
    "    cmd = ' '.join(['python3' , 'knock_out_simulation.py',\n",
    "                  '-t', tissueSpecificModelfile,\n",
    "                  '-i', inhibitors_file,\n",
    "                  '-u', Disease_Up,\n",
    "                  '-d', Disease_Down,\n",
    "                  '-f', key,\n",
    "                  '-r', drug_raw_file])\n",
    "    !{cmd}\n",
    "    \n",
    "    # copy generated output to output folder\n",
    "    cmd = ' '.join(['cp', '-a', os.path.join(configs.datadir, key), configs.outputdir])\n",
    "    !{cmd}\n",
    "    #break\n"
   ]
  },
  {
   "cell_type": "code",
   "execution_count": null,
   "metadata": {},
   "outputs": [],
   "source": []
  }
 ],
 "metadata": {
  "kernelspec": {
   "display_name": "Python 3",
   "language": "python",
   "name": "python3"
  },
  "language_info": {
   "codemirror_mode": {
    "name": "ipython",
    "version": 3
   },
   "file_extension": ".py",
   "mimetype": "text/x-python",
   "name": "python",
   "nbconvert_exporter": "python",
   "pygments_lexer": "ipython3",
   "version": "3.7.4"
  }
 },
 "nbformat": 4,
 "nbformat_minor": 2
}
