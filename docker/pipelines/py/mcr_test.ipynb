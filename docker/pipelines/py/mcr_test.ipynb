{
 "cells": [
  {
   "cell_type": "code",
   "execution_count": 1,
   "metadata": {},
   "outputs": [
    {
     "name": "stdout",
     "output_type": "stream",
     "text": [
      "env: XAPPLRESDIR=/home/zzhao/mcr/v94/X11/app-defaults\n",
      "env: LD_LIBRARY_PATH=/home/zzhao/mcr/v94/runtime/glnxa64:/home/zzhao/mcr/v94/bin/glnxa64:/home/zzhao/mcr/v94/sys/os/glnxa64:/home/zzhao/mcr/v94/extern/bin/glnxa64\n"
     ]
    }
   ],
   "source": [
    "%env XAPPLRESDIR=/home/zzhao/mcr/v94/X11/app-defaults\n",
    "\n",
    "%env LD_LIBRARY_PATH=/home/zzhao/mcr/v94/runtime/glnxa64:/home/zzhao/mcr/v94/bin/glnxa64:/home/zzhao/mcr/v94/sys/os/glnxa64:/home/zzhao/mcr/v94/extern/bin/glnxa64\n"
   ]
  },
  {
   "cell_type": "code",
   "execution_count": 2,
   "metadata": {},
   "outputs": [],
   "source": [
    "import os\n",
    "import sys\n",
    "from project import configs"
   ]
  },
  {
   "cell_type": "code",
   "execution_count": 3,
   "metadata": {},
   "outputs": [
    {
     "name": "stdout",
     "output_type": "stream",
     "text": [
      "/home/zzhao/Dropbox/Helikar/pipelines/data/GeneralModel.mat\n",
      "/home/zzhao/Dropbox/Helikar/pipelines/data/GeneExpression_Th1_Merged.csv\n",
      "/home/zzhao/Dropbox/Helikar/pipelines/data/Th1_SpecificModel.mat\n",
      "True\n",
      "True\n",
      "True\n"
     ]
    }
   ],
   "source": [
    "GeneralModelFile = os.path.join(configs.datadir, 'GeneralModel.mat')\n",
    "GeneExpressionFile = os.path.join(configs.datadir, 'GeneExpression_Th1_Merged.csv')\n",
    "OutputFile = os.path.join(configs.datadir, 'Th1_SpecificModel.mat')\n",
    "print(GeneralModelFile)\n",
    "print(GeneExpressionFile)\n",
    "print(OutputFile)\n",
    "print(os.path.isfile(GeneralModelFile))\n",
    "print(os.path.isfile(GeneExpressionFile))\n",
    "print(os.path.isfile(OutputFile))"
   ]
  },
  {
   "cell_type": "code",
   "execution_count": 4,
   "metadata": {},
   "outputs": [],
   "source": [
    "import createTSM_GIMME_pkg as createTSM"
   ]
  },
  {
   "cell_type": "code",
   "execution_count": 5,
   "metadata": {},
   "outputs": [],
   "source": [
    "createTSM_obj = createTSM.initialize()"
   ]
  },
  {
   "cell_type": "code",
   "execution_count": 6,
   "metadata": {},
   "outputs": [
    {
     "ename": "MatlabRuntimeError",
     "evalue": "An error occurred when evaluating the result from a function. Details: \n  File /home/zzhao/.mcrCache9.4/create0/home/zzhao/Dropbox/Helikar/cobratoolbox/initCobraToolbox.m, line 205, in initCobraToolbox\n\n  File /home/zzhao/.mcrCache9.4/create0/home/zzhao/Dropbox/Helikar/cobratoolbox/src/base/solvers/changeCobraSolver.m, line 217, in changeCobraSolver\n\n  File /home/zzhao/.mcrCache9.4/create0/home/zzhao/Dropbox/Helikar/cobratoolbox/createTSM_GIMME.m, line 8, in createTSM_GIMME\nThe submodules could not be initialized.\n",
     "output_type": "error",
     "traceback": [
      "\u001b[0;31m---------------------------------------------------------------------------\u001b[0m",
      "\u001b[0;31mMatlabRuntimeError\u001b[0m                        Traceback (most recent call last)",
      "\u001b[0;32m<ipython-input-6-6b448b7a422c>\u001b[0m in \u001b[0;36m<module>\u001b[0;34m\u001b[0m\n\u001b[0;32m----> 1\u001b[0;31m \u001b[0mtissue_model\u001b[0m \u001b[0;34m=\u001b[0m \u001b[0mcreateTSM_obj\u001b[0m\u001b[0;34m.\u001b[0m\u001b[0mcreateTSM_GIMME\u001b[0m\u001b[0;34m(\u001b[0m\u001b[0mGeneralModelFile\u001b[0m\u001b[0;34m,\u001b[0m \u001b[0mGeneExpressionFile\u001b[0m\u001b[0;34m,\u001b[0m \u001b[0mOutputFile\u001b[0m\u001b[0;34m)\u001b[0m\u001b[0;34m\u001b[0m\u001b[0m\n\u001b[0m",
      "\u001b[0;32m~/mcr/v94/toolbox/compiler_sdk/pysdk_py/matlab_pysdk/runtime/deployablefunc.py\u001b[0m in \u001b[0;36m__call__\u001b[0;34m(self, *args, **kwargs)\u001b[0m\n\u001b[1;32m     78\u001b[0m         \u001b[0;32melse\u001b[0m\u001b[0;34m:\u001b[0m\u001b[0;34m\u001b[0m\u001b[0m\n\u001b[1;32m     79\u001b[0m             ret = futureresult.FutureResult(self._cppext_handle, future_tuple, nlhs, \n\u001b[0;32m---> 80\u001b[0;31m                 nlhsWasSpecified, stdoutObj, stderrObj).result()\n\u001b[0m\u001b[1;32m     81\u001b[0m \u001b[0;34m\u001b[0m\u001b[0m\n\u001b[1;32m     82\u001b[0m         \u001b[0;32mreturn\u001b[0m \u001b[0mret\u001b[0m\u001b[0;34m\u001b[0m\u001b[0m\n",
      "\u001b[0;32m~/mcr/v94/toolbox/compiler_sdk/pysdk_py/matlab_pysdk/runtime/futureresult.py\u001b[0m in \u001b[0;36mresult\u001b[0;34m(self, timeout)\u001b[0m\n\u001b[1;32m    133\u001b[0m         \u001b[0;31m# This clause makes the code easier to debug in the case of an exception.\u001b[0m\u001b[0;34m\u001b[0m\u001b[0;34m\u001b[0m\u001b[0m\n\u001b[1;32m    134\u001b[0m         \u001b[0;32mexcept\u001b[0m \u001b[0mException\u001b[0m \u001b[0;32mas\u001b[0m \u001b[0me\u001b[0m\u001b[0;34m:\u001b[0m\u001b[0;34m\u001b[0m\u001b[0m\n\u001b[0;32m--> 135\u001b[0;31m             \u001b[0;32mraise\u001b[0m \u001b[0me\u001b[0m\u001b[0;34m\u001b[0m\u001b[0m\n\u001b[0m\u001b[1;32m    136\u001b[0m \u001b[0;34m\u001b[0m\u001b[0m\n\u001b[1;32m    137\u001b[0m     \u001b[0;32mdef\u001b[0m \u001b[0mcancel\u001b[0m\u001b[0;34m(\u001b[0m\u001b[0mself\u001b[0m\u001b[0;34m)\u001b[0m\u001b[0;34m:\u001b[0m\u001b[0;34m\u001b[0m\u001b[0m\n",
      "\u001b[0;32m~/mcr/v94/toolbox/compiler_sdk/pysdk_py/matlab_pysdk/runtime/futureresult.py\u001b[0m in \u001b[0;36mresult\u001b[0;34m(self, timeout)\u001b[0m\n\u001b[1;32m    121\u001b[0m             \u001b[0;31m# This clause makes the code easier to debug in the case of an exception.\u001b[0m\u001b[0;34m\u001b[0m\u001b[0;34m\u001b[0m\u001b[0m\n\u001b[1;32m    122\u001b[0m             \u001b[0;32mexcept\u001b[0m \u001b[0mException\u001b[0m \u001b[0;32mas\u001b[0m \u001b[0me\u001b[0m\u001b[0;34m:\u001b[0m\u001b[0;34m\u001b[0m\u001b[0m\n\u001b[0;32m--> 123\u001b[0;31m                 \u001b[0;32mraise\u001b[0m \u001b[0me\u001b[0m\u001b[0;34m\u001b[0m\u001b[0m\n\u001b[0m\u001b[1;32m    124\u001b[0m \u001b[0;34m\u001b[0m\u001b[0m\n\u001b[1;32m    125\u001b[0m             \u001b[0mself\u001b[0m\u001b[0;34m.\u001b[0m\u001b[0m_retrieved\u001b[0m \u001b[0;34m=\u001b[0m \u001b[0;32mTrue\u001b[0m\u001b[0;34m\u001b[0m\u001b[0m\n",
      "\u001b[0;32m~/mcr/v94/toolbox/compiler_sdk/pysdk_py/matlab_pysdk/runtime/futureresult.py\u001b[0m in \u001b[0;36mresult\u001b[0;34m(self, timeout)\u001b[0m\n\u001b[1;32m    111\u001b[0m             \u001b[0;32mtry\u001b[0m\u001b[0;34m:\u001b[0m\u001b[0;34m\u001b[0m\u001b[0m\n\u001b[1;32m    112\u001b[0m                 self._result = self._cppext_handle.getFEvalResult(self._future_tuple, \n\u001b[0;32m--> 113\u001b[0;31m                                                               self._nlhs, out=self._out, err=self._err)\n\u001b[0m\u001b[1;32m    114\u001b[0m             \u001b[0;32mexcept\u001b[0m \u001b[0mNumberOfOutputArgumentsError\u001b[0m \u001b[0;32mas\u001b[0m \u001b[0me\u001b[0m\u001b[0;34m:\u001b[0m\u001b[0;34m\u001b[0m\u001b[0m\n\u001b[1;32m    115\u001b[0m                 \u001b[0;32mif\u001b[0m \u001b[0mself\u001b[0m\u001b[0;34m.\u001b[0m\u001b[0m_nlhsWasSpecified\u001b[0m\u001b[0;34m:\u001b[0m\u001b[0;34m\u001b[0m\u001b[0m\n",
      "\u001b[0;31mMatlabRuntimeError\u001b[0m: An error occurred when evaluating the result from a function. Details: \n  File /home/zzhao/.mcrCache9.4/create0/home/zzhao/Dropbox/Helikar/cobratoolbox/initCobraToolbox.m, line 205, in initCobraToolbox\n\n  File /home/zzhao/.mcrCache9.4/create0/home/zzhao/Dropbox/Helikar/cobratoolbox/src/base/solvers/changeCobraSolver.m, line 217, in changeCobraSolver\n\n  File /home/zzhao/.mcrCache9.4/create0/home/zzhao/Dropbox/Helikar/cobratoolbox/createTSM_GIMME.m, line 8, in createTSM_GIMME\nThe submodules could not be initialized.\n"
     ]
    }
   ],
   "source": [
    "tissue_model = createTSM_obj.createTSM_GIMME(GeneralModelFile, GeneExpressionFile, OutputFile)"
   ]
  },
  {
   "cell_type": "code",
   "execution_count": null,
   "metadata": {},
   "outputs": [],
   "source": []
  }
 ],
 "metadata": {
  "kernelspec": {
   "display_name": "Python 3",
   "language": "python",
   "name": "python3"
  },
  "language_info": {
   "codemirror_mode": {
    "name": "ipython",
    "version": 3
   },
   "file_extension": ".py",
   "mimetype": "text/x-python",
   "name": "python",
   "nbconvert_exporter": "python",
   "pygments_lexer": "ipython3",
   "version": "3.5.2"
  }
 },
 "nbformat": 4,
 "nbformat_minor": 2
}
