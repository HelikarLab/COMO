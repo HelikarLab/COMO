{
 "cells": [
  {
   "cell_type": "markdown",
   "metadata": {},
   "source": [
    "# **MADRID - MetAbolic Drug Repurposing and IDentification** \n",
    "\n",
    "## **Who should use this pipeline?**\n",
    "\n",
    "This Jupyterlab pipeline has everything necessary to build a context-specific constraint-based metabolic model (CBMM) from any single source or combination of sources from the following '-omics' data.\n",
    "- Bulk RNA-seq\n",
    "- Single-cell RNA-seq\n",
    "- Proteomics (specific name???)\n",
    "- Microarray"
   ]
  },
  {
   "cell_type": "markdown",
   "metadata": {},
   "source": [
    "It also serves as a platform to use these models to identify drug targets and potentially repurposable drugs for metabolism-impacting diseases.\n",
    "\n",
    "MADRID does not require any amount of programming experience to create models. However every step of the pipeline is packaged in its own .py file to promote accessible modification, addition, or replacement of analysis steps. The Jupyterlab container comes pre-loaded with the most popular R and Python libraries, however, if you would like to use a library and cannot install it for any reason, please request it on our Github page!<br>\n",
    "https://github.com/HelikarLab/MADRID\n",
    "\n",
    "In this pipeline, **the term \"context\" refers to a specific state that can be subset from a genome-scale metabolic model using experimental data.** This context can be a specific type of cell, or tissue in a specific experimental state such as a control or a disease. For drug perturbation scoring of a specific cell-type or tissue, **it is only necessary to build a CBMM (Steps 1-5) for the healthy control state.** Differential gene expression (Step 6) will be used to for disease analysis so that multiple diseaes can be analyzed using the same CBMM.\n",
    "\n",
    "***Warning! If you terminate your session after running the Docker, any changes you make WILL NOT BE SAVED! Please mount a local directory to the Docker image as instructed on the Github and Dockerhub README's to prevent data loss.**"
   ]
  },
  {
   "cell_type": "markdown",
   "metadata": {
    "tags": []
   },
   "source": [
    "\n",
    "## **Before You Start**\n",
    "\n",
    "### **Before running, you must provide the proper files depending on the types of data you will use for model creation.**\n",
    "- For RNA-seq: Either a correctly formatted folder named \"MADRID_input\" in the the data directory. Proper inputs can be generated using our Snakemake pipeline specifically designed for MADRID: https://github.com/HelikarLab/FastqToGeneCounts.  RNA-seq data can either be single-cell or bulk, but our Snakemake pipeline provided is for bulk only at the time. If processing RNA-seq data with an alternative procedure, or importing a pre-made gene count matrix, follow the instructions in Step 1.\n",
    "\n",
    "- For proteomics. A matrix of measurement ****NEED TO DISCUSS WITH BHANWAR WHAT THESE VAULES MEAN***** where rows are proteins in Entrez format and columns are arbitrary sample names.\n",
    "\n",
    "- For microarray, results must be uploaded to Gene Expression Omnibus, the only thing to provide in MADRID is a configuration file with GSE, GSM, and GPL codes. microarray_data_inputs.xlsx shows a template to use. Note that microarray has become obsolete and it is recomended to use RNA-seq if possible.\n",
    "\n",
    "### **Six steps to identifying drug targets, stop after step 3 if building a context-specific model for other purposes**\n",
    "        \n",
    "1. Preprocess Bulk RNAseq data by converting STAR outputed gene counts files into a unified matrix, fetch necessary info about each gene required for normalization, and generate a configuration sheet.\n",
    "\n",
    "2. Analyze any combination of microarray, RNAseq (total, polyA, single-cell), and proteomics data, output a list of active genes for each strategy.\n",
    "\n",
    "3. Check for consensus amongst strategies according to desired rigor and merge into a singular set of active genes\n",
    "\n",
    "4. Create tissue specific models based on the list of active genes. If required the user can manually refine these models and supply them in Step 4. \n",
    "\n",
    "5. Identify differential gene expressions from disease datasets using either microarray or bulk RNAseq transcriptomics information.\n",
    "\n",
    "6. Identify drug targets and repruposable drugs. This step consists of four substeps. \n",
    "    - mapping drugs on automatically created or user-supplied models\n",
    "    - knock-out simulation\n",
    "    - compare simulation results of perturbed and unperturbed models\n",
    "    - integrate with disease genes and score drug targets.\n",
    "\n",
    "### **Configuration sheet information**\n",
    "The user should upload config .xlsx files to `/work/data/config_sheets`. The sheet names in these config files should correspond to the context (tissue name, cell name, control, etc.) where each sheet contains the sample names to include in that context-specifc model. These sample names should correspond to the sample (column) names in the source data matrix which should be uploaded (or outputed) in `/work/data/data_matrices/<model name>/`\n",
    "    \n",
    "In the original Docker image, some exemplary input files are included to build metabolic models of naive, Th1, Th2, and Th17 subtypes and identify drug targets for rheumatoid arthritis. User can follow the documentation and the format of the exemplary input files and and use the provided template files to create your own input files."
   ]
  },
  {
   "cell_type": "markdown",
   "metadata": {},
   "source": [
    "## **Step 1: Initialize and Preprocess RNA-seq data**\n",
    "**(Skip if not using RNA-seq)**"
   ]
  },
  {
   "cell_type": "markdown",
   "metadata": {},
   "source": [
    "RNA-seq data is read by MADRID as count matrix where each column is a different sample/replicate named 'exampleTissueName_SXRYrZ' where:\n",
    "- X is the study (or batch) number\n",
    "- Y is the replicate number\n",
    "- Z is the run number. If the replicate does not contain multiple runs for a single replicate, then \"rZ\" should be neglected.\n",
    "- exampleTissueName is the name of the model that will be built from this data. It should be consistant with other data sources if they are to be integrated. **Note that this identifier should not have any special characters including \"\\_\" since it may interfere with parsing.**\n",
    "<br>"
   ]
  },
  {
   "cell_type": "markdown",
   "metadata": {},
   "source": [
    "Replicates should come from the same study/batch group and different study/batch numbers can come from different published studies (or batches) as long as the tissue/cell was under similar enough conditions for your modeling purpose. Run numbers in the same replicate will be summed together.\n",
    "<br>\n",
    "<br>\n",
    "#### **Example:**\n",
    "Say S1 represents a study or batch, and S2 represents a different study or batch of RNA-seq data from m0 macrophages whose model we will name m0Macro. The studies were conducted in a different lab, by different researchers at different times using a different library preparation kit. In each study there are two replicates (R1, and R2) obtained for each one. m0Macro_S1R1 and m0Macro_S1R2 will be checked for consensus to generate a list of active genes in both replicates. These active genes will then be checked for consensus with the consensus of m0Macro_S2R1 and m0Macro_S2R2 to output a list of active genes in both studies.\n",
    "<br><br>\n",
    "The reason this system is used is not only to help keep you and MADRID organized. Most types of normalized gene counts are not good for direct comparisons across replicates, and are especially not suitable for comparisons across different experiments. Therefore, MADRID will convert normalized gene counts into a boolean list of active genes. These lists will be compared at the the level of replicates in a batch (or study) and then again at the level of all provided batches (or study). Finally, the active genes will be merged with the outputs of proteomics, microarray and differnt RNA-seq stategies if provided. The rigor used at each level can be easily modified by the user.\n",
    "<br>"
   ]
  },
  {
   "cell_type": "markdown",
   "metadata": {},
   "source": [
    "#### **Two ways to initialize RNA-seq data**\n",
    "\n",
    "1. Import a properly formatted `MADRID_inputs` folder in the `data` directory. \n",
    "<br>\n",
    "\n",
    "> **It is recommended that you use our Snakemake pipeline to align and create a properly formated MADRID_inputs folder.** The pipeline also runs a series of important quality control methods to help determine if any of the provided samples are not suitable for model creation. This pipeline can be found at https://github.com/HelikarLab/FastqToGeneCounts.\n",
    "\n",
    "> Or, **if using your own alignment protocol**, follow this guide to create a `MADRID_inputs` folder.\n",
    "\n",
    "> - The top level of the directory has seperate tissues/cells to create seperate models from. The next level must have a folder called `geneCounts` and optionally a `strandedness` folder. If using zFPKM normalization, there should also be two more folders called `layouts` and `fragmentSizes`. Inside each of these folders should be folders named SX (wherer X is an arbitrary user-defined number that replicates are associated with. \n",
    "<br>    \n",
    "\n",
    "> - Inside these study number folders of `geneCounts` should be outputs of STAR aligner with using --quantMode GeneCounts. To help MADRID (and you!) stay organized, these outputs should be renamed `exampleTissueName_SXRYrZ.tab` where X is the study (or batch) number, Y is the replicate number, and Z is the run number. If the replicate does not contain multiple runs the rZ should be neglected. Replicates should come from the same study/sample group and different samples can come from different published studies (or batches) as long as the tissue/cell was under similar enough conditions for your modeling purpose.\n",
    "<br>\n",
    "\n",
    "> - Inside the study number folders of `strandedness` should be files named `exampleTissue_SXRYrZ_strandedness.txt`. These files must tell the strandedness of the the RNA-seq method used, and must contain one of the following text (and nothing else):\n",
    ">> * NONE\n",
    ">> * FIRST_READ_TRANSCRIPTION_STRAND\n",
    ">> * SECOND_READ_TRANSCRIPTION_STRAND\n",
    "<br>\n",
    "\n",
    "> - Inside the study number folders of `layouts` should be files named `exampleTissue_SXRYrZ_layout.txt` where each file tells the layout of the library used, and must contain one of the following text (and nothing else):\n",
    ">> * paired-end\n",
    ">> * single-end\n",
    "<br>\n",
    "\n",
    "> - Inside the study number folders of `fragmentSizes` should be files named `exampleTissue_SXRYrZ_fragment_sizes.txt` and contain the output of RSeQC's RNA_fragment_size.py function.\n",
    "\n",
    "> - Inside the study number folders of `prepMethods` should be files named `exampleTissue_SXRYrZ_prep_method.txt` where each file tells the library preparation strategy, which must be one of the following.\n",
    ">> * total\n",
    ">> * mRNA\n",
    "<br><br>\n",
    "where 'total' refers to Total RNA and mRNA refers to polyA enriched RNA. Note that these strategies serve only to differentiate the methods in the event that both are used to build a model. If a different library strategy is desired, you can use either one as a placeholder, or will very little Python knowledge, it is easy add a new strategy to `merge_xomics.py`.  \n",
    "\n",
    "2. Import a properly formatted counts matrix in `/work/data/data_matrices/exampleTissue/gene_counts_matrix_exampleTissue.csv` where the rows are name exampleTissue_SXRY (note the lack of run number since runs should be summed into a single set of counts). **If providing the count matrix this way, instead of generating one using method 1, you will also have to create a configuration file** that has each sample's name, study/batch number, and if using zFPKM, layout and mean fragment length. **Use the provided template** to help. Once provided, run rnaseq_preprocess.py with the '--provide-matrix' argument. <br><br> ***This method is best if you are downloading a premade count matrix, or using single-cell data that has already been batch corrected, clustered, and sorted into only the cell type of interest!**"
   ]
  },
  {
   "cell_type": "markdown",
   "metadata": {
    "tags": []
   },
   "source": [
    "#### **Structure of MADRD_input folder**\n",
    "├── STAR_output <br />\n",
    "&emsp;&emsp;&emsp;└── exampleTissue <br />\n",
    "&emsp;&emsp;&emsp;&emsp;&emsp;&emsp;├── geneCounts <br />\n",
    "&emsp;&emsp;&emsp;&emsp;&emsp;&emsp;│&emsp;&emsp;&emsp;├── S1 <br />\n",
    "&emsp;&emsp;&emsp;&emsp;&emsp;&emsp;│&emsp;&emsp;&emsp;│&emsp;&emsp;&emsp;├── exampleTissue_S1R1.tab <br />\n",
    "&emsp;&emsp;&emsp;&emsp;&emsp;&emsp;│&emsp;&emsp;&emsp;│&emsp;&emsp;&emsp;├── exampleTissue_S1R2.tab <br />\n",
    "&emsp;&emsp;&emsp;&emsp;&emsp;&emsp;│&emsp;&emsp;&emsp;│&emsp;&emsp;&emsp;├── exampleTissue_S1R3.tab <br />\n",
    "&emsp;&emsp;&emsp;&emsp;&emsp;&emsp;│&emsp;&emsp;&emsp;│&emsp;&emsp;&emsp;└── exampleTissue_S1R4.tab <br />\n",
    "&emsp;&emsp;&emsp;&emsp;&emsp;&emsp;│&emsp;&emsp;&emsp;├── S2 <br />\n",
    "&emsp;&emsp;&emsp;&emsp;&emsp;&emsp;│&emsp;&emsp;&emsp;│&emsp;&emsp;&emsp;├── exampleTissue_S2R1.tab <br />\n",
    "&emsp;&emsp;&emsp;&emsp;&emsp;&emsp;│&emsp;&emsp;&emsp;│&emsp;&emsp;&emsp;├── exampleTissue_S2R2.tab <br />\n",
    "&emsp;&emsp;&emsp;&emsp;&emsp;&emsp;│&emsp;&emsp;&emsp;│&emsp;&emsp;&emsp;├── exampleTissue_S2R3.tab <br />\n",
    "&emsp;&emsp;&emsp;&emsp;&emsp;&emsp;│&emsp;&emsp;&emsp;│&emsp;&emsp;&emsp;└── exampleTissue_S2R4.tab <br />\n",
    "&emsp;&emsp;&emsp;&emsp;&emsp;&emsp;│&emsp;&emsp;&emsp;│&emsp;&emsp;&emsp;└── exampleTissue_S2R4.tab <br />\n",
    "&nbsp;&emsp;&emsp;&emsp;&emsp;&emsp;&emsp;|&emsp;&emsp;&emsp;&ensp;└── S3 <br />\n",
    "&emsp;&emsp;&emsp;&emsp;&emsp;&emsp;│&emsp;&emsp;&emsp;&emsp;&emsp;&emsp; ├── exampleTissue_S3R1.tab <br />\n",
    "&emsp;&emsp;&emsp;&emsp;&emsp;&emsp;│&emsp;&emsp;&emsp;&emsp;&emsp;&emsp; ├── exampleTissue_S3R2.tab <br />\n",
    "&emsp;&emsp;&emsp;&emsp;&emsp;&emsp;│&emsp;&emsp;&emsp;&emsp;&emsp;&emsp; ├── exampleTissue_S3R3r1.tab <br />\n",
    "&emsp;&emsp;&emsp;&emsp;&emsp;&emsp;│&emsp;&emsp;&emsp;&emsp;&emsp;&emsp; ├── exampleTissue_S3R3r2.tab <br />\n",
    "&emsp;&emsp;&emsp;&emsp;&emsp;&emsp;│&emsp;&emsp;&emsp;&emsp;&emsp;&emsp; ├── exampleTissue_S3R3r3.tab <br />\n",
    "&emsp;&emsp;&emsp;&emsp;&emsp;&emsp;│&emsp;&emsp;&emsp;&emsp;&emsp;&emsp; ├── exampleTissue_S3R4r1.tab <br />\n",
    "&emsp;&emsp;&emsp;&emsp;&emsp;&emsp;│&emsp;&emsp;&emsp;&emsp;&emsp;&emsp; ├── exampleTissue_S3R4r2.tab <br />\n",
    "&emsp;&emsp;&emsp;&emsp;&emsp;&emsp;│&emsp;&emsp;&emsp;&emsp;&emsp;&emsp; ├── exampleTissue_S3R4r3.tab <br />\n",
    "&emsp;&emsp;&emsp;&emsp;&emsp;&emsp;│&emsp;&emsp;&emsp;&emsp;&emsp;&emsp; ├── exampleTissue_S3R5r1.tab <br />\n",
    "&emsp;&emsp;&emsp;&emsp;&emsp;&emsp;│&emsp;&emsp;&emsp;&emsp;&emsp;&emsp; ├── exampleTissue_S3R5r2.tab <br />\n",
    "&emsp;&emsp;&emsp;&emsp;&emsp;&emsp;│&emsp;&emsp;&emsp;&emsp;&emsp;&emsp; ├── exampleTissue_S3R5r3.tab <br />\n",
    "&emsp;&emsp;&emsp;&emsp;&emsp;&emsp;│&emsp;&emsp;&emsp;&emsp;&emsp;&emsp; ├── exampleTissue_S3R6r1.tab <br />\n",
    "&emsp;&emsp;&emsp;&emsp;&emsp;&emsp;│&emsp;&emsp;&emsp;&emsp;&emsp;&emsp; ├── exampleTissue_S3R6r2.tab <br />\n",
    "&emsp;&emsp;&emsp;&emsp;&emsp;&emsp;│&emsp;&emsp;&emsp;&emsp;&emsp;&emsp; └── exampleTissue_S3R6r3.tab <br />\n",
    "&emsp;&emsp;&emsp;&emsp;&emsp;&emsp;├── strandedness <br />\n",
    "&emsp;&emsp;&emsp;&emsp;&emsp;&emsp;│&emsp;&emsp;&emsp;├── S1 <br />\n",
    "&emsp;&emsp;&emsp;&emsp;&emsp;&emsp;│&emsp;&emsp;&emsp;│&emsp;&emsp;&emsp;├──  exampleTissue_S1R1_strandedness.txt <br />\n",
    "&emsp;&emsp;&emsp;&emsp;&emsp;&emsp;│&emsp;&emsp;&emsp;│&emsp;&emsp;&emsp;├── exampleTissue_S1R2_strandedness.txt <br />\n",
    "&emsp;&emsp;&emsp;&emsp;&emsp;&emsp;│&emsp;&emsp;&emsp;│&emsp;&emsp;&emsp;├── exampleTissue_S1R3_strandedness.txt <br />\n",
    "&emsp;&emsp;&emsp;&emsp;&emsp;&emsp;│&emsp;&emsp;&emsp;│&emsp;&emsp;&emsp;└── exampleTissue_S1R4_strandedness.txt <br />\n",
    "&emsp;&emsp;&emsp;&emsp;&emsp;&emsp;│&emsp;&emsp;&emsp;├── S2 <br />\n",
    "&emsp;&emsp;&emsp;&emsp;&emsp;&emsp;│&emsp;&emsp;&emsp;│&emsp;&emsp;&emsp;├── exampleTissue_S2R1_strandedness.txt <br />\n",
    "&emsp;&emsp;&emsp;&emsp;&emsp;&emsp;│&emsp;&emsp;&emsp;│&emsp;&emsp;&emsp;├── exampleTissue_S2R2_strandedness.txt <br />\n",
    "&emsp;&emsp;&emsp;&emsp;&emsp;&emsp;│&emsp;&emsp;&emsp;│&emsp;&emsp;&emsp;├── exampleTissue_S2R3_strandedness.txt <br />\n",
    "&emsp;&emsp;&emsp;&emsp;&emsp;&emsp;│&emsp;&emsp;&emsp;│&emsp;&emsp;&emsp;└── exampleTissue_S2R4_strandedness.txt <br />\n",
    "&emsp;&emsp;&emsp;&emsp;&emsp;&emsp;│&emsp;&emsp;&emsp;└── S3 <br />\n",
    "&emsp;&emsp;&emsp;&emsp;&emsp;&emsp;│&emsp;&emsp;&emsp;&emsp;&emsp;&emsp;├── exampleTissue_S3R1_strandedness.txt <br />\n",
    "&emsp;&emsp;&emsp;&emsp;&emsp;&emsp;│&emsp;&emsp;&emsp;&emsp;&emsp;&emsp;├── exampleTissue_S3R2_strandedness.txt <br />\n",
    "&emsp;&emsp;&emsp;&emsp;&emsp;&emsp;│&emsp;&emsp;&emsp;&emsp;&emsp;&emsp;├── exampleTissue_S3R3r1_strandedness.txt <br />\n",
    "&emsp;&emsp;&emsp;&emsp;&emsp;&emsp;│&emsp;&emsp;&emsp;&emsp;&emsp;&emsp;├── exampleTissue_S3R3r2_strandedness.txt <br />\n",
    "&emsp;&emsp;&emsp;&emsp;&emsp;&emsp;│&emsp;&emsp;&emsp;&emsp;&emsp;&emsp;├── exampleTissue_S3R3r3_strandedness.txt <br />\n",
    "&emsp;&emsp;&emsp;&emsp;&emsp;&emsp;│&emsp;&emsp;&emsp;&emsp;&emsp;&emsp;├── exampleTissue_S3R4r1_strandedness.txt <br />\n",
    "&emsp;&emsp;&emsp;&emsp;&emsp;&emsp;│&emsp;&emsp;&emsp;&emsp;&emsp;&emsp;├── exampleTissue_S3R4r2_strandedness.txt <br />\n",
    "&emsp;&emsp;&emsp;&emsp;&emsp;&emsp;│&emsp;&emsp;&emsp;&emsp;&emsp;&emsp;├── exampleTissue_S3R4r3_strandedness.txt <br />\n",
    "&emsp;&emsp;&emsp;&emsp;&emsp;&emsp;│&emsp;&emsp;&emsp;&emsp;&emsp;&emsp;├── exampleTissue_S3R5r1_strandedness.txt <br />\n",
    "&emsp;&emsp;&emsp;&emsp;&emsp;&emsp;│&emsp;&emsp;&emsp;&emsp;&emsp;&emsp;├── exampleTissue_S3R5r2_strandedness.txt <br />\n",
    "&emsp;&emsp;&emsp;&emsp;&emsp;&emsp;│&emsp;&emsp;&emsp;&emsp;&emsp;&emsp;├── exampleTissue_S3R5r3_strandedness.txt <br />\n",
    "&emsp;&emsp;&emsp;&emsp;&emsp;&emsp;│&emsp;&emsp;&emsp;&emsp;&emsp;&emsp;├── exampleTissue_S3R6r1_strandedness.txt <br />\n",
    "&emsp;&emsp;&emsp;&emsp;&emsp;&emsp;│&emsp;&emsp;&emsp;&emsp;&emsp;&emsp;├── exampleTissue_S3R6r2_strandedness.txt <br />\n",
    "&emsp;&emsp;&emsp;&emsp;&emsp;&emsp;│&emsp;&emsp;&emsp;&emsp;&emsp;&emsp;└── exampleTissue_S3R6r3_strandedness.txt <br />\n",
    "&emsp;&emsp;&emsp;&emsp;&emsp;&emsp;├── layouts <br />\n",
    "&emsp;&emsp;&emsp;&emsp;&emsp;&emsp;│&emsp;&emsp;&emsp;├── S1 <br />\n",
    "&emsp;&emsp;&emsp;&emsp;&emsp;&emsp;│&emsp;&emsp;&emsp;│&emsp;&emsp;&emsp;├── exampleTissue_S1R1_layout.txt <br />\n",
    "&emsp;&emsp;&emsp;&emsp;&emsp;&emsp;│&emsp;&emsp;&emsp;│&emsp;&emsp;&emsp;├── exampleTissue_S1R2_layout.txt <br />\n",
    "&emsp;&emsp;&emsp;&emsp;&emsp;&emsp;│&emsp;&emsp;&emsp;│&emsp;&emsp;&emsp;├── exampleTissue_S1R3_layout.txt <br />\n",
    "&emsp;&emsp;&emsp;&emsp;&emsp;&emsp;│&emsp;&emsp;&emsp;│&emsp;&emsp;&emsp;└── exampleTissue_S1R4_layout.txt <br />\n",
    "&emsp;&emsp;&emsp;&emsp;&emsp;&emsp;│&emsp;&emsp;&emsp;├── S2 <br />\n",
    "&emsp;&emsp;&emsp;&emsp;&emsp;&emsp;│&emsp;&emsp;&emsp;│&emsp;&emsp;&emsp;├── exampleTissue_S2R1_layout.txt <br />\n",
    "&emsp;&emsp;&emsp;&emsp;&emsp;&emsp;│&emsp;&emsp;&emsp;│&emsp;&emsp;&emsp;├── exampleTissue_S2R2_layout.txt <br />\n",
    "&emsp;&emsp;&emsp;&emsp;&emsp;&emsp;│&emsp;&emsp;&emsp;│&emsp;&emsp;&emsp;├── exampleTissue_S2R3_layout.txt <br />\n",
    "&emsp;&emsp;&emsp;&emsp;&emsp;&emsp;│&emsp;&emsp;&emsp;│&emsp;&emsp;&emsp;└── exampleTissue_S2R4_layout.txt <br />\n",
    "&emsp;&emsp;&emsp;&emsp;&emsp;&emsp;│&emsp;&emsp;&emsp;└── S3 <br />\n",
    "&emsp;&emsp;&emsp;&emsp;&emsp;&emsp;│&emsp;&emsp;&emsp;&emsp;&emsp;&emsp;├── exampleTissue_S3R1_layout.txt <br />\n",
    "&emsp;&emsp;&emsp;&emsp;&emsp;&emsp;│&emsp;&emsp;&emsp;&emsp;&emsp;&emsp;├── exampleTissue_S3R2_layout.txt <br />\n",
    "&emsp;&emsp;&emsp;&emsp;&emsp;&emsp;│&emsp;&emsp;&emsp;&emsp;&emsp;&emsp;├── exampleTissue_S3R3r1_layout.txt <br />\n",
    "&emsp;&emsp;&emsp;&emsp;&emsp;&emsp;│&emsp;&emsp;&emsp;&emsp;&emsp;&emsp;├── exampleTissue_S3R3r2_layout.txt <br />\n",
    "&emsp;&emsp;&emsp;&emsp;&emsp;&emsp;│&emsp;&emsp;&emsp;&emsp;&emsp;&emsp;├── exampleTissue_S3R3r3_layout.txt <br />\n",
    "&emsp;&emsp;&emsp;&emsp;&emsp;&emsp;│&emsp;&emsp;&emsp;&emsp;&emsp;&emsp;├── exampleTissue_S3R4r1_layout.txt <br />\n",
    "&emsp;&emsp;&emsp;&emsp;&emsp;&emsp;│&emsp;&emsp;&emsp;&emsp;&emsp;&emsp;├── exampleTissue_S3R4r2_layout.txt <br />\n",
    "&emsp;&emsp;&emsp;&emsp;&emsp;&emsp;│&emsp;&emsp;&emsp;&emsp;&emsp;&emsp;├── exampleTissue_S3R4r3_layout.txt <br />\n",
    "&emsp;&emsp;&emsp;&emsp;&emsp;&emsp;│&emsp;&emsp;&emsp;&emsp;&emsp;&emsp;├── exampleTissue_S3R5r1_layout.txt <br />\n",
    "&emsp;&emsp;&emsp;&emsp;&emsp;&emsp;│&emsp;&emsp;&emsp;&emsp;&emsp;&emsp;├── exampleTissue_S3R5r2_layout.txt <br />\n",
    "&emsp;&emsp;&emsp;&emsp;&emsp;&emsp;│&emsp;&emsp;&emsp;&emsp;&emsp;&emsp;├── exampleTissue_S3R5r3_layout.txt <br />\n",
    "&emsp;&emsp;&emsp;&emsp;&emsp;&emsp;│&emsp;&emsp;&emsp;&emsp;&emsp;&emsp;├── exampleTissue_S3R6r1_layout.txt <br />\n",
    "&emsp;&emsp;&emsp;&emsp;&emsp;&emsp;│&emsp;&emsp;&emsp;&emsp;&emsp;&emsp;├── exampleTissue_S3R6r2_layout.txt <br />\n",
    "&emsp;&emsp;&emsp;&emsp;&emsp;&emsp;│&emsp;&emsp;&emsp;&emsp;&emsp;&emsp;└── exampleTissue_S3R6r3_layout.txt <br />\n",
    "&emsp;&emsp;&emsp;&emsp;&emsp;&emsp;├── prepMethods (Optional, unless using multiple RNA-seq types) <br />\n",
    "&emsp;&emsp;&emsp;&emsp;&emsp;&emsp;│&emsp;&emsp;&emsp;├── S1 <br />\n",
    "&emsp;&emsp;&emsp;&emsp;&emsp;&emsp;│&emsp;&emsp;&emsp;│&emsp;&emsp;&emsp;├── exampleTissue_S1R1_prep_method.txt <br />\n",
    "&emsp;&emsp;&emsp;&emsp;&emsp;&emsp;│&emsp;&emsp;&emsp;│&emsp;&emsp;&emsp;├── exampleTissue_S1R2_prep_method <br />\n",
    "&emsp;&emsp;&emsp;&emsp;&emsp;&emsp;│&emsp;&emsp;&emsp;│&emsp;&emsp;&emsp;├── exampleTissue_S1R3_prep_method.txt <br />\n",
    "&emsp;&emsp;&emsp;&emsp;&emsp;&emsp;│&emsp;&emsp;&emsp;│&emsp;&emsp;&emsp;└── exampleTissue_S1R4_prep_method.txt <br />\n",
    "&emsp;&emsp;&emsp;&emsp;&emsp;&emsp;│&emsp;&emsp;&emsp;├── S2 <br />\n",
    "&emsp;&emsp;&emsp;&emsp;&emsp;&emsp;│&emsp;&emsp;&emsp;│&emsp;&emsp;&emsp;├── exampleTissue_S2R1_prep_method.txt <br />\n",
    "&emsp;&emsp;&emsp;&emsp;&emsp;&emsp;│&emsp;&emsp;&emsp;│&emsp;&emsp;&emsp;├── exampleTissue_S2R2_prep_method.txt <br />\n",
    "&emsp;&emsp;&emsp;&emsp;&emsp;&emsp;│&emsp;&emsp;&emsp;│&emsp;&emsp;&emsp;├── exampleTissue_S2R3_prep_method.txt <br />\n",
    "&emsp;&emsp;&emsp;&emsp;&emsp;&emsp;│&emsp;&emsp;&emsp;│&emsp;&emsp;&emsp;└── exampleTissue_S2R4_prep_method.txt <br />\n",
    "&emsp;&emsp;&emsp;&emsp;&emsp;&emsp;│&emsp;&emsp;&emsp;└── S3 <br />\n",
    "&emsp;&emsp;&emsp;&emsp;&emsp;&emsp;│&emsp;&emsp;&emsp;&emsp;&emsp;&emsp;├── exampleTissue_S3R1_prep_method.txt <br />\n",
    "&emsp;&emsp;&emsp;&emsp;&emsp;&emsp;│&emsp;&emsp;&emsp;&emsp;&emsp;&emsp;├── exampleTissue_S3R2_prep_method.txt <br />\n",
    "&emsp;&emsp;&emsp;&emsp;&emsp;&emsp;│&emsp;&emsp;&emsp;&emsp;&emsp;&emsp;├── exampleTissue_S3R3r1_prep_method.txt <br />\n",
    "&emsp;&emsp;&emsp;&emsp;&emsp;&emsp;│&emsp;&emsp;&emsp;&emsp;&emsp;&emsp;├── exampleTissue_S3R3r2_prep_method.txt <br />\n",
    "&emsp;&emsp;&emsp;&emsp;&emsp;&emsp;│&emsp;&emsp;&emsp;&emsp;&emsp;&emsp;├── exampleTissue_S3R3r3_prep_method.txt <br />\n",
    "&emsp;&emsp;&emsp;&emsp;&emsp;&emsp;│&emsp;&emsp;&emsp;&emsp;&emsp;&emsp;├── exampleTissue_S3R4r1_prep_method.txt <br />\n",
    "&emsp;&emsp;&emsp;&emsp;&emsp;&emsp;│&emsp;&emsp;&emsp;&emsp;&emsp;&emsp;├── exampleTissue_S3R4r2_prep_method.txt <br />\n",
    "&emsp;&emsp;&emsp;&emsp;&emsp;&emsp;│&emsp;&emsp;&emsp;&emsp;&emsp;&emsp;├── exampleTissue_S3R4r3_prep_method.txt <br />\n",
    "&emsp;&emsp;&emsp;&emsp;&emsp;&emsp;│&emsp;&emsp;&emsp;&emsp;&emsp;&emsp;├── exampleTissue_S3R5r1_prep_method.txt <br />\n",
    "&emsp;&emsp;&emsp;&emsp;&emsp;&emsp;│&emsp;&emsp;&emsp;&emsp;&emsp;&emsp;├── exampleTissue_S3R5r2_prep_method.txt <br />\n",
    "&emsp;&emsp;&emsp;&emsp;&emsp;&emsp;│&emsp;&emsp;&emsp;&emsp;&emsp;&emsp;├── exampleTissue_S3R5r3_prep_method.txt <br />\n",
    "&emsp;&emsp;&emsp;&emsp;&emsp;&emsp;│&emsp;&emsp;&emsp;&emsp;&emsp;&emsp;├── exampleTissue_S3R6r1_prep_method.txt <br />\n",
    "&emsp;&emsp;&emsp;&emsp;&emsp;&emsp;│&emsp;&emsp;&emsp;&emsp;&emsp;&emsp;├── exampleTissue_S3R6r2_prep_method.txt <br />\n",
    "&emsp;&emsp;&emsp;&emsp;&emsp;&emsp;│&emsp;&emsp;&emsp;&emsp;&emsp;&emsp;└── exampleTissue_S3R6r3_prep_method.txt <br />\n",
    "&emsp;&emsp;&emsp;&emsp;&emsp;&emsp;└── fragementSizes (optional, for zFPKM only) <br />\n",
    "&emsp;&emsp;&emsp;&emsp;&emsp;&emsp; &emsp;&emsp;&emsp;├── S1 <br />\n",
    "&emsp;&emsp;&emsp;&emsp;&emsp;&emsp; &emsp;&emsp;&emsp;│&emsp;&emsp;&emsp;├── exampleTissue_S1R1_fragment_size.txt <br />\n",
    "&emsp;&emsp;&emsp;&emsp;&emsp;&emsp; &emsp;&emsp;&emsp;│&emsp;&emsp;&emsp;├── exampleTissue_S1R2_fragment_size.txt <br />\n",
    "&emsp;&emsp;&emsp;&emsp;&emsp;&emsp; &emsp;&emsp;&emsp;│&emsp;&emsp;&emsp;├── exampleTissue_S1R3_fragment_size.txt <br />\n",
    "&emsp;&emsp;&emsp;&emsp;&emsp;&emsp; &emsp;&emsp;&emsp;│&emsp;&emsp;&emsp;└── exampleTissue_S1R4_fragment_size.txt <br />\n",
    "&emsp;&emsp;&emsp;&emsp;&emsp;&emsp; &emsp;&emsp;&emsp;├── S2 <br />\n",
    "&emsp;&emsp;&emsp;&emsp;&emsp;&emsp; &emsp;&emsp;&emsp;│&emsp;&emsp;&emsp;├── exampleTissue_S2R1_fragment_size.txt <br />\n",
    "&emsp;&emsp;&emsp;&emsp;&emsp;&emsp; &emsp;&emsp;&emsp;│&emsp;&emsp;&emsp;├── exampleTissue_S2R2_fragment_size.txt <br />\n",
    "&emsp;&emsp;&emsp;&emsp;&emsp;&emsp; &emsp;&emsp;&emsp;│&emsp;&emsp;&emsp;├── exampleTissue_S2R3_fragment_size.txt <br />\n",
    "&emsp;&emsp;&emsp;&emsp;&emsp;&emsp; &emsp;&emsp;&emsp;│&emsp;&emsp;&emsp;└── exampleTissue_S2R4_fragment_size.txt <br />\n",
    "&emsp;&emsp;&emsp;&emsp;&emsp;&emsp; &emsp;&emsp;&emsp;└── S3  <br />\n",
    "&emsp;&emsp;&emsp;&emsp;&emsp;&emsp; &emsp;&emsp;&emsp;&emsp;&emsp;&emsp;├── exampleTissue_S3R2_fragment_size.txt <br />\n",
    "&emsp;&emsp;&emsp;&emsp;&emsp;&emsp; &emsp;&emsp;&emsp;&emsp;&emsp;&emsp;├── exampleTissue_S3R3r1_fragment_size.txt <br />\n",
    "&emsp;&emsp;&emsp;&emsp;&emsp;&emsp; &emsp;&emsp;&emsp;&emsp;&emsp;&emsp;├── exampleTissue_S3R3r2_fragment_size.txt <br />\n",
    "&emsp;&emsp;&emsp;&emsp;&emsp;&emsp; &emsp;&emsp;&emsp;&emsp;&emsp;&emsp;├── exampleTissue_S3R3r3_fragment_size.txt <br />\n",
    "&emsp;&emsp;&emsp;&emsp;&emsp;&emsp; &emsp;&emsp;&emsp;&emsp;&emsp;&emsp;├── exampleTissue_S3R4r1_fragment_size.txt <br />\n",
    "&emsp;&emsp;&emsp;&emsp;&emsp;&emsp; &emsp;&emsp;&emsp;&emsp;&emsp;&emsp;├── exampleTissue_S3R4r2_fragment_size.txt <br />\n",
    "&emsp;&emsp;&emsp;&emsp;&emsp;&emsp; &emsp;&emsp;&emsp;&emsp;&emsp;&emsp;├── exampleTissue_S3R4r3_fragment_size.txt <br />\n",
    "&emsp;&emsp;&emsp;&emsp;&emsp;&emsp; &emsp;&emsp;&emsp;&emsp;&emsp;&emsp;├── exampleTissue_S3R5r1_fragment_size.txt <br />\n",
    "&emsp;&emsp;&emsp;&emsp;&emsp;&emsp; &emsp;&emsp;&emsp;&emsp;&emsp;&emsp;├── exampleTissue_S3R5r2_fragment_size.txt <br />\n",
    "&emsp;&emsp;&emsp;&emsp;&emsp;&emsp; &emsp;&emsp;&emsp;&emsp;&emsp;&emsp;├── exampleTissue_S3R5r3_fragment_size.txt <br />\n",
    "&emsp;&emsp;&emsp;&emsp;&emsp;&emsp; &emsp;&emsp;&emsp;&emsp;&emsp;&emsp;├── exampleTissue_S3R6r1_fragment_size.txt <br />\n",
    "&emsp;&emsp;&emsp;&emsp;&emsp;&emsp; &emsp;&emsp;&emsp;&emsp;&emsp;&emsp;├── exampleTissue_S3R6r2_fragment_size.txt <br />\n",
    "&emsp;&emsp;&emsp;&emsp;&emsp;&emsp; &emsp;&emsp;&emsp;&emsp;&emsp;&emsp;└── exampleTissue_S3R6r3_fragment_size.txt <br />"
   ]
  },
  {
   "cell_type": "markdown",
   "metadata": {},
   "source": [
    "Currently, MADRID can filter raw RNA-seq counts using three normalization techniques.\n",
    "\n",
    "> - TPM Quantile, where each replicate is normalized with Transcripts-per-million and an upper quantile is taken to create a boolean list of active genes for the replicate. Replicates are compared for consensus within the study/batch number according to user-defined ratios and then study/batch numbers are checked for consensus according to different user defined ratios. **Recomended if user wants more control over the size of the model, like a smaller model that allows for only the most expressed reactions, or a larger more encompassing one that contains less essential reactions.\n",
    "\n",
    "> - zFPKM method outlined in: https://pubmed.ncbi.nlm.nih.gov/24215113/ can be used. Counts will be normalized using zFPKM and genes > -3 will be considered expressed per thier recommendation. Expressed genes will be checked for consensus at the replicate and study/batch levels the same as TPM Quantile. **Recommended if user wants to give least input over gene essentially determination and use the most standardized method of active gene determination. \n",
    "\n",
    "> - flat cutoff of CPM (counts per million) normalized values, check for consensus the same as other methods. **Not recommended**\n",
    "\n",
    "Regardless of normalization technique used, or provided files used for RNA-seq, preprocessing is required to fetch relevent gene information needed for harmonization and normalization such as Entrez ID, and the start and end postions.\n"
   ]
  },
  {
   "cell_type": "code",
   "execution_count": 1,
   "metadata": {},
   "outputs": [],
   "source": [
    "# import necessary python packages\n",
    "import sys\n",
    "import os\n",
    "import pandas\n",
    "import numpy\n",
    "import json\n",
    "import re\n",
    "from subprocess import call\n",
    "from project import configs\n",
    "import bioservices\n",
    "import pprint"
   ]
  },
  {
   "cell_type": "code",
   "execution_count": 2,
   "metadata": {},
   "outputs": [
    {
     "name": "stdout",
     "output_type": "stream",
     "text": [
      "Traceback (most recent call last):\r\n",
      "  File \"/Users/joshl/PycharmProjects/MADRID/pipelines/py/rnaseq_preprocess.py\", line 3, in <module>\r\n",
      "    from bioservices import BioDBNet\r\n",
      "ModuleNotFoundError: No module named 'bioservices'\r\n"
     ]
    }
   ],
   "source": [
    "# Step 1: Preprocess RNAseq data by generating a counts matrix, config sheet, and gene file from MADRID_inputs.\n",
    "\n",
    "# tissue name or list of tissue names within a string\n",
    "context_names = \"['m0Macro', 'm1Macro', 'm2Macro', 'naiveB', 'nsmB', 'smB', 'plasmaB']\"\n",
    "create_counts_matrix = True # set to false if using a pregenerated matrix file\n",
    "gene_format = \"Ensembl\"     # accepts 'Entrez', 'Ensembl', and 'Symbol'\n",
    "taxon_id = \"human\" # accepts integer (bioDBnet taxon id) or 'human' or 'mouse'\n",
    "preprocess_mode = \"create-matrix\" # \"create-matrix\" or \"provide-matrix\"\n",
    "    \n",
    "cmd = ' '.join(['python3', 'rnaseq_preprocess.py',\n",
    "                '--context-names', '\"{}\"'.format(context_names),\n",
    "                '--gene-format', '\"{}\"'.format(gene_format),\n",
    "                '--taxon-id', '\"{}\"'.format(taxon_id),\n",
    "                '--{}'.format(preprocess_mode)])\n",
    "!{cmd}"
   ]
  },
  {
   "cell_type": "markdown",
   "metadata": {},
   "source": [
    "## Step 2: Identifying Gene Activity in Transcriptomics and Proteomics Datasets"
   ]
  },
  {
   "cell_type": "markdown",
   "metadata": {},
   "source": [
    "Identify gene activity in the following data sources \n",
    " - RNA-seq (bulk or single-cell)\n",
    " - Proteomics\n",
    " - Microarray\n",
    "\n",
    " Only one sources is required for model generation, multiple can be helpful for additional validation if of high-quality. "
   ]
  },
  {
   "cell_type": "markdown",
   "metadata": {},
   "source": [
    "### Microarrays"
   ]
  },
  {
   "cell_type": "markdown",
   "metadata": {},
   "source": [
    "From wikipedia: A microarray is a multiplex lab-on-a-chip. Its purpose is to simultaneously detect the expression of thousands of genes from a sample (e.g. from a tissue). It is a two-dimensional array on a solid substrate—usually a glass slide or silicon thin-film cell—that assays (tests) large amounts of biological material using high-throughput screening miniaturized, multiplexed and parallel processing and detection methods.\n",
    "\n",
    "MADRID can directly download and analyze microarray data from GEO for Agilent and Affymetrix platoforms. Follow the template and example in `/work/data/config_sheets/` to use microarray data in your analysis.\n",
    "\n",
    "Microarray technology is becoming increasingly obsolete, if possible it is recommended that you use RNA-seq instead. Although different strategies exist for microarrays, MADRID does not distinguish between them nor are  there any plans to in the future due to it's obsoelecense."
   ]
  },
  {
   "cell_type": "code",
   "execution_count": 3,
   "metadata": {
    "scrolled": true
   },
   "outputs": [
    {
     "name": "stdout",
     "output_type": "stream",
     "text": [
      "Traceback (most recent call last):\r\n",
      "  File \"/Users/joshl/PycharmProjects/MADRID/pipelines/py/microarray_gen.py\", line 10, in <module>\r\n",
      "    from scipy import stats\r\n",
      "ModuleNotFoundError: No module named 'scipy'\r\n"
     ]
    }
   ],
   "source": [
    "# Step 2.1 Download and Analyze microarray data\n",
    "\n",
    "# config file for microarray\n",
    "microarray_config_file = 'microarray_data_inputs.xlsx'\n",
    "expression_proportion = 0.5\n",
    "top_proportion = 0.9\n",
    "\n",
    "# execute\n",
    "cmd = ' '.join(['python3', 'microarray_gen.py', \n",
    "      '--config-file', '\"{}\"'.format(microarray_config_file),\n",
    "      '--expression-proportion', '\"{}\"'.format(expression_proportion),\n",
    "      '--top-proportion', '\"{}\"'.format(top_proportion)])\n",
    "!{cmd}"
   ]
  },
  {
   "cell_type": "markdown",
   "metadata": {},
   "source": [
    "### **RNA-seq Analysis**"
   ]
  },
  {
   "cell_type": "markdown",
   "metadata": {},
   "source": [
    "RNA-seq analysis has two primary types, bulk tissue, and single-cell. Bulk RNA-seq also has multiple strategies of library preparation. If using public data, the user may run into a situation where they wish to use a combination of bulk RNA-seq data produced using two very different library preparation strategies. \n",
    "  "
   ]
  },
  {
   "cell_type": "markdown",
   "metadata": {},
   "source": [
    "#### **Bulk RNA-seq**"
   ]
  },
  {
   "cell_type": "markdown",
   "metadata": {},
   "source": [
    "MADRID currently supports the two most common strategies, mRNA (polyA) enriched RNA-seq, and total RNA-seq. \n",
    "\n",
    "Because of expected differences in distribution of transcripts, MADRID is written to handle each strategy seperately before the integration step. The recommended Snakemake alignment pipeline is designed to work with MADRID's preprocessing step (Step 1) to split RNA-seq data from GEO into seperate input matrices and config sheets.\n",
    "\n",
    "**To create a gene expression file for total RNA-seq data, use the \"total\" for the '--library-prep' argument**\n",
    "\n",
    "**To create a gene expression file for mRNA enriched / polA RNA-seq data, use the \"mRNA\" for the '--library-prep' argument.**\n",
    "\n",
    "The analysis of each strategy is identical so specifying the type only serves to ensure MADRID analyzes them seperately."
   ]
  },
  {
   "cell_type": "markdown",
   "metadata": {},
   "source": [
    "#### **Single-cell RNA-seq**"
   ]
  },
  {
   "cell_type": "markdown",
   "metadata": {},
   "source": [
    "While the Snakemake pipeline does not yet support single-cell alignment and MADRID does not yet support automated configuration file and counts-matrix file creation for single-cell alignment output from STAR, it is possible to use single-cell data to create a model with MADRID. \n",
    "\n",
    "Since normalization strategies can be applied to single-cell the same way it is applied to bulk, rnaseq_gen.py can be used with a provided counts matrix and config sheet (see Step 1 to help create it). \n",
    "\n",
    "Just like 'total' and 'mRNA', rnaseq_gen.py can be run with \"SC\" as the '--library-prep' argument to help MADRID differentiate it from the bulk RNA-seq data if using multiple strategies.   "
   ]
  },
  {
   "cell_type": "code",
   "execution_count": 4,
   "metadata": {},
   "outputs": [
    {
     "name": "stdout",
     "output_type": "stream",
     "text": [
      "Traceback (most recent call last):\r\n",
      "  File \"/Users/joshl/PycharmProjects/MADRID/pipelines/py/rnaseq_gen.py\", line 5, in <module>\r\n",
      "    from rpy2.robjects.packages import importr\r\n",
      "ModuleNotFoundError: No module named 'rpy2'\r\n"
     ]
    }
   ],
   "source": [
    "# step 2.2 RNA-seq Analysis for Total RNA-seq library preparation\n",
    "\n",
    "# config for total rna-seq\n",
    "trnaseq_config_file = 'trnaseq_data_inputs_auto.xlsx'\n",
    "\n",
    "rep_ratio = 0.5          # proportion of replicates for a gene to be active in a sample\n",
    "group_ratio = 0.9        # proportion of samples with expression required for gene  \n",
    "rep_ratio_h = 0.5        # proportion of replicates with expression required for high-confidence\n",
    "group_ratio_h = 0.9      # proportion of replicates with expression required for high-confidence\n",
    "technique = \"zFPKM\"      # quantile, cpm, or zfpkm\n",
    "quantile = 50            # cutoff TPM quantile for quantile filtering\n",
    "min_count = \"default\"    # cutoff for CPM filtering\n",
    "prep_method = \"total\"    # library prepartion method ('total', mRNA', or 'SC')\n",
    "\n",
    "cmd = ' '.join(['python3', 'rnaseq_gen.py', \n",
    "      '--config-file', '\"{}\"'.format(trnaseq_config_file), \n",
    "      '--replicate-ratio', '\"{}\"'.format(rep_ratio),   \n",
    "      '--batch-ratio', '\"{}\"'.format(group_ratio),        \n",
    "      '--high-replicate-ratio', '\"{}\"'.format(rep_ratio_h),    \n",
    "      '--high-batch-ratio', '\"{}\"'.format(group_ratio_h),   \n",
    "      '--filt-technique', '\"{}\"'.format(technique),  \n",
    "      '--min-count', '\"{}\"'.format(min_count),\n",
    "      '--quantile', '\"{}\"'.format(quantile),\n",
    "      '--library-prep', '\"{}\"'.format(prep_method)])       \n",
    "                \n",
    "!{cmd}"
   ]
  },
  {
   "cell_type": "code",
   "execution_count": 5,
   "metadata": {},
   "outputs": [
    {
     "name": "stdout",
     "output_type": "stream",
     "text": [
      "Traceback (most recent call last):\r\n",
      "  File \"/Users/joshl/PycharmProjects/MADRID/pipelines/py/rnaseq_gen.py\", line 5, in <module>\r\n",
      "    from rpy2.robjects.packages import importr\r\n",
      "ModuleNotFoundError: No module named 'rpy2'\r\n"
     ]
    }
   ],
   "source": [
    " # step 2.3 mRNA capture (polyA) RNA-seq Analysis\n",
    "\n",
    "# config for mRNA (polyA) enriched RNA-seq \n",
    "mrnaseq_config_file = 'mrnaseq_data_inputs_auto.xlsx'\n",
    "\n",
    "rep_ratio = 0.5          # proportion of replicates for a gene to be active in a sample\n",
    "group_ratio = 0.9        # proportion of samples with expression required for gene  \n",
    "rep_ratio_h = 0.5        # proportion of replicates with expression required for high-confidence\n",
    "group_ratio_h = 0.9      # proportion of replicates with expression required for high-confidence\n",
    "technique = \"zfpkm\"      # quantile-tpm, cpm, or zfpkm\n",
    "min_count = \"default\"    # cutoff for CPM for filtering\n",
    "quantile = 50            # cutoff TPM quantile for filtering\n",
    "prep_method = \"mrna\"     # library preparation method\n",
    "\n",
    "cmd = ' '.join(['python3', 'rnaseq_gen.py', \n",
    "      '--config-file', '\"{}\"'.format(mrnaseq_config_file), \n",
    "      '--replicate-ratio', '\"{}\"'.format(rep_ratio),   \n",
    "      '--batch-ratio', '\"{}\"'.format(group_ratio),        \n",
    "      '--high-replicate-ratio', '\"{}\"'.format(rep_ratio_h),    \n",
    "      '--high-batch-ratio', '\"{}\"'.format(group_ratio_h),   \n",
    "      '--filt-technique', '\"{}\"'.format(technique),  \n",
    "      '--min-count', '\"{}\"'.format(min_count),\n",
    "      '--quantile', '\"{}\"'.format(quantile),\n",
    "      '--library-prep', '\"{}\"'.format(prep_method)])       \n",
    "                \n",
    "!{cmd}"
   ]
  },
  {
   "cell_type": "code",
   "execution_count": 6,
   "metadata": {},
   "outputs": [
    {
     "name": "stdout",
     "output_type": "stream",
     "text": [
      "Traceback (most recent call last):\r\n",
      "  File \"/Users/joshl/PycharmProjects/MADRID/pipelines/py/cluster_rnaseq.py\", line 5, in <module>\r\n",
      "    from rpy2.robjects.packages import importr\r\n",
      "ModuleNotFoundError: No module named 'rpy2'\r\n"
     ]
    }
   ],
   "source": [
    "# Step 2.4 Cluster RNA-seq data for outlier exploration\n",
    "\n",
    "clust_algo = \"umap\"\n",
    "label = \"False\"\n",
    "min_dist = 0.01\n",
    "rep_ratio = 0.99\n",
    "batch_ratio = 0.99\n",
    "n_neigh_rep = 30\n",
    "n_neigh_batch = 15\n",
    "n_neigh_cont = 4\n",
    "\n",
    "\n",
    "cmd = ' '.join(['python3', 'cluster_rnaseq.py', \n",
    "      '--context-names', '\"{}\"'.format(context_names),\n",
    "      '--filt-technique', '\"{}\"'.format(technique), \n",
    "      '--cluster-algorithm', '\"{}\"'.format(clust_algo),\n",
    "      '--label', '\"{}\"'.format(label),\n",
    "      '--min-dist', '\"{}\"'.format(min_dist),\n",
    "      '--replicate-ratio', '\"{}\"'.format(rep_ratio),   \n",
    "      '--batch-ratio', '\"{}\"'.format(batch_ratio), \n",
    "      '--n-neighbors-rep', '\"{}\"'.format(n_neigh_rep),\n",
    "      '--n-neighbors-batch', '\"{}\"'.format(n_neigh_batch),\n",
    "      '--n-neighbors-context', '\"{}\"'.format(n_neigh_cont),\n",
    "      '--min-count', '\"{}\"'.format(min_count),\n",
    "      '--quantile', '\"{}\"'.format(quantile)])       \n",
    "                \n",
    "!{cmd}\n"
   ]
  },
  {
   "cell_type": "code",
   "execution_count": 7,
   "metadata": {},
   "outputs": [
    {
     "data": {
      "text/plain": "'/Users/joshl/PycharmProjects/MADRID/pipelines/data'"
     },
     "execution_count": 7,
     "metadata": {},
     "output_type": "execute_result"
    }
   ],
   "source": [
    "configs.datadir\n",
    "\n"
   ]
  },
  {
   "cell_type": "code",
   "execution_count": 8,
   "metadata": {},
   "outputs": [
    {
     "name": "stdout",
     "output_type": "stream",
     "text": [
      "Traceback (most recent call last):\r\n",
      "  File \"/Users/joshl/PycharmProjects/MADRID/pipelines/py/proteomics_gen.py\", line 7, in <module>\r\n",
      "    import unidecode\r\n",
      "ModuleNotFoundError: No module named 'unidecode'\r\n"
     ]
    }
   ],
   "source": [
    "# Step 2.5 Proteomics Analysis\n",
    "\n",
    "# config file for proteomics\n",
    "proteomics_config_file = 'proteomics_data_inputs.xlsx'\n",
    "\n",
    "# ratio of replicates required for a gene to be considered active in that sample\n",
    "active_ratio = 0.5\n",
    "\n",
    "# Genes can be considered high confidence if they are expressed in a high proportion of samples.\n",
    "# High confidence genes will be considered expressed regardless of agreement with other data sources\n",
    "high_ratio = 0.9\n",
    "\n",
    "quantile = 25\n",
    "\n",
    "cmd = ' '.join(['python3', 'proteomics_gen.py', \n",
    "      '-c', '\"{}\"'.format(proteomics_config_file),\n",
    "      '-e', '\"{}\"'.format(active_ratio),\n",
    "      '-t', '\"{}\"'.format(high_ratio),\n",
    "      '-p', '\"{}\"'.format(quantile)])\n",
    "!{cmd}"
   ]
  },
  {
   "cell_type": "code",
   "execution_count": 8,
   "metadata": {},
   "outputs": [],
   "source": [
    "\n",
    "\n"
   ]
  },
  {
   "cell_type": "markdown",
   "metadata": {},
   "source": [
    "## Step 3: Merge Expression from Different Data Sources"
   ]
  },
  {
   "cell_type": "markdown",
   "metadata": {},
   "source": [
    "So far, active genes have been determined for at least one data source. If using multiple sources of any combination of microarray, bulk RNA-seq of either total RNA or mRNA capture (polyA), proteomics, or single-cell RNA-seq. Now we can merge the active genes from each data source to make a list of active genes that is more comprehenisve or more strict than any individual list. \n",
    "\n",
    "`merge_xomics.py` takes each data source discussed so far as an argument, and it is easy to add new ones to the script if desired. The other arguments to consider are:\n",
    "- **--expression-requirement** which is the number of data souces with expression required for a gene to be considered active if not a high-confidence gene for any source (defaults to the total number of input data sources arguments provided)\n",
    "\n",
    "- **--requirement-adjust** is the method to adjust this requirement in the event that tissues have different numbers of provided data sources. (*Note that this does nothing if there is only one tissue type in the config files). \n",
    "\n",
    "> - \"progressive\" - expression requirement applies to tissue(s) with lowest number of data source types. Tissues with more will require 1 more source to have an active gene per additional source provided for the gene to be active in the model.\n",
    "        \n",
    "> - \"regressive\" - expression requirement applies to the tissue(s) with largest number of data source types. Tissues with less will require 1 less source to have an active gene per missing source for the gene to be active in the model\n",
    "                    \n",
    "> - \"flat\" - (default) expression requirement is used regardless of differences in number of data sources provided for different tissues\n",
    "\n",
    "> - \"custom\" - (Not yet implemented!) an .xlsx file where column one is the tissue type, and column two is the expression requirement. Requires additional argument '--requirements-file' whose value is the filename of this .xlsx file in `/work/data/`\n",
    "                          \n",
    "- **--no-hc** use this flag to prevent high-confidence gene from overiding expression_requirement\n",
    "\n",
    "- **--no-na-adjustment** use this flag to prevent genes that are not a present in one data source, but are present in others from subtracting one from the expression requirement.\n"
   ]
  },
  {
   "cell_type": "markdown",
   "metadata": {},
   "source": [
    "If the '--no-hc' flag is not used, any gene that was determined to be high-confidence in any input data source will cause the gene to be active in the final model, regardless of agreement with other sources.**\n",
    "<br />\n",
    "\n",
    "If the '--no-na-adjustment' flag is not used, any time a gene is NA in a data source, meaning it was not tested for in the library of that data source, but was tested in the library of at least one other, it will subtract one from the expression requirement.\n",
    "\n",
    "***Adjusted expression requirement will never resolve to be < 1 or > the number of data sources that tissue is given**"
   ]
  },
  {
   "cell_type": "code",
   "execution_count": 9,
   "metadata": {},
   "outputs": [
    {
     "name": "stdout",
     "output_type": "stream",
     "text": [
      "  tissue req\n",
      "0  three   3\n",
      "1    two   2\n",
      "2    one   1\n"
     ]
    },
    {
     "data": {
      "text/plain": "3"
     },
     "execution_count": 9,
     "metadata": {},
     "output_type": "execute_result"
    }
   ],
   "source": [
    "import pandas as pd\n",
    "df = pd.DataFrame({\"tissue\": [\"three\", \"two\", \"one\"], \"req\": [\"3\", \"2\", \"1\"]})\n",
    "print(df.head())\n",
    "\n",
    "int(df.loc[df[\"tissue\"] == \"three\", \"req\"].iloc[0])"
   ]
  },
  {
   "cell_type": "code",
   "execution_count": 10,
   "metadata": {
    "scrolled": true
   },
   "outputs": [
    {
     "name": "stdout",
     "output_type": "stream",
     "text": [
      "Traceback (most recent call last):\r\n",
      "  File \"/Users/joshl/PycharmProjects/MADRID/pipelines/py/merge_xomics.py\", line 6, in <module>\r\n",
      "    import unidecode\r\n",
      "ModuleNotFoundError: No module named 'unidecode'\r\n"
     ]
    }
   ],
   "source": [
    "# Step 2.4 Merge the gene lists of data sources, create a list of active gene IDs\n",
    "\n",
    "expression_requirement = 1\n",
    "        \n",
    "requirement_adjust = \"progressive\" \n",
    "\n",
    "\n",
    "cmd = ' '.join(['python3', 'merge_xomics.py', \n",
    "      #'--microarray-config-file', '\"{}\"'.format(microarray_config_file),\n",
    "      '--total-rnaseq-config-file', '\"{}\"'.format(trnaseq_config_file),\n",
    "      '--mrnaseq-config-file', '\"{}\"'.format(mrnaseq_config_file),\n",
    "      #'--proteomics-config-file', '\"{}\"'.format(proteomics_config_file),\n",
    "      '--expression-requirement', '\"{}\"'.format(expression_requirement),\n",
    "      '--requirement-adjust', '\"{}\"'.format(requirement_adjust)])\n",
    "!{cmd}"
   ]
  },
  {
   "cell_type": "markdown",
   "metadata": {
    "tags": []
   },
   "source": [
    "## Step 4: Create Tissue/Cell-Type Specific Models"
   ]
  },
  {
   "cell_type": "code",
   "execution_count": 11,
   "metadata": {},
   "outputs": [
    {
     "ename": "FileNotFoundError",
     "evalue": "[Errno 2] No such file or directory: '/Users/joshl/PycharmProjects/MADRID/pipelines/data/results/step1_results_files.json'",
     "output_type": "error",
     "traceback": [
      "\u001B[0;31m---------------------------------------------------------------------------\u001B[0m",
      "\u001B[0;31mFileNotFoundError\u001B[0m                         Traceback (most recent call last)",
      "Input \u001B[0;32mIn [11]\u001B[0m, in \u001B[0;36m<cell line: 4>\u001B[0;34m()\u001B[0m\n\u001B[1;32m      1\u001B[0m \u001B[38;5;66;03m# Load the output of step 1, which is a dictionary that specifies the merged list of active Gene IDs for each tissue\u001B[39;00m\n\u001B[1;32m      3\u001B[0m step1_results_file \u001B[38;5;241m=\u001B[39m os\u001B[38;5;241m.\u001B[39mpath\u001B[38;5;241m.\u001B[39mjoin(configs\u001B[38;5;241m.\u001B[39mrootdir, \u001B[38;5;124m'\u001B[39m\u001B[38;5;124mdata\u001B[39m\u001B[38;5;124m'\u001B[39m, \u001B[38;5;124m'\u001B[39m\u001B[38;5;124mresults\u001B[39m\u001B[38;5;124m'\u001B[39m, \u001B[38;5;124m'\u001B[39m\u001B[38;5;124mstep1_results_files.json\u001B[39m\u001B[38;5;124m'\u001B[39m)\n\u001B[0;32m----> 4\u001B[0m \u001B[38;5;28;01mwith\u001B[39;00m \u001B[38;5;28;43mopen\u001B[39;49m\u001B[43m(\u001B[49m\u001B[43mstep1_results_file\u001B[49m\u001B[43m)\u001B[49m \u001B[38;5;28;01mas\u001B[39;00m json_file:\n\u001B[1;32m      5\u001B[0m     context_gene_exp \u001B[38;5;241m=\u001B[39m json\u001B[38;5;241m.\u001B[39mload(json_file)\n\u001B[1;32m      6\u001B[0m \u001B[38;5;28mprint\u001B[39m(context_gene_exp)\n",
      "\u001B[0;31mFileNotFoundError\u001B[0m: [Errno 2] No such file or directory: '/Users/joshl/PycharmProjects/MADRID/pipelines/data/results/step1_results_files.json'"
     ]
    }
   ],
   "source": [
    "# Load the output of step 1, which is a dictionary that specifies the merged list of active Gene IDs for each tissue\n",
    "\n",
    "step1_results_file = os.path.join(configs.rootdir, 'data', 'results', 'step1_results_files.json')\n",
    "with open(step1_results_file) as json_file:\n",
    "    context_gene_exp = json.load(json_file)\n",
    "print(context_gene_exp)"
   ]
  },
  {
   "cell_type": "markdown",
   "metadata": {},
   "source": [
    "*** Specify input files for step 2 here ***"
   ]
  },
  {
   "cell_type": "code",
   "execution_count": null,
   "metadata": {
    "scrolled": true
   },
   "outputs": [],
   "source": [
    "# create tissue specific model, the names of output files are stored in dictionary tissue_spec_model\n",
    "\n",
    "general_model_file = \"GeneralModelUpdated.mat\"\n",
    "#exclude_rxns_file = os.path.join(configs.datadir, \"inconsistant_rxns.csv\") # flux inconsistant rxns to remove from core reactions in fastcore\n",
    "#force_rxns_file = os.path.join(configs.datadir, \"lit_core_rxns.csv\") \n",
    "#boundary_rxns_file = os.path.join(configs.datadir, \"exchange_rxns,csv\")\n",
    "recon_algorithm = 'FASTCORE' # troppo reconstruction algorithm to use\n",
    "solver = \"GUROBI\"\n",
    "objective = 'biomass_reaction_Mphage'\n",
    "#objective = 'BIOMASS_reaction'\n",
    "vis_folder = os.path.join(configs.datadir, \"local_files\", \"VIS\")\n",
    "force_rxns_filepath = os.path.join(vis_folder, \"force_rxns\", \"naiveB_force_rxns.csv\")\n",
    "boundary_rxns_filepath = os.path.join(vis_folder, \"boundary_rxns\", \"naiveB_boundary_rxns.csv\")\n",
    "output_filetypes = \"['xml', 'mat', 'json']\"\n",
    "\n",
    "for key,value in context_gene_exp.items():\n",
    "    #contextmodelfile = '{}_SpecificModel.mat'.format(key) # key is == tissue name\n",
    "    active_genes_file = re.split('/|\\\\\\\\', value)[-1]\n",
    "    active_genes_filepath = os.path.join(configs.datadir, \"results\", key, active_genes_file)\n",
    "    general_model_filepath = os.path.join(configs.datadir, general_model_file)\n",
    "    #tissue_gene_folder = os.path.join(configs.rootdir, 'data', key)\n",
    "    #os.makedirs(tissue_gene_folder, exist_ok=True)\n",
    "    cmd = ' '.join(['python3', 'create_context_specific_model.py', \n",
    "                      '--context-name', '\"{}\"'.format(key),\n",
    "                      '--reference-model-file', '\"{}\"'.format(general_model_filepath), \n",
    "                      '--active-genes-filepath', '\"{}\"'.format(active_genes_filepath),\n",
    "                      '--objective', '\"{}\"'.format(objective),\n",
    "                      '--boundary-reactions-filepath', '\"{}\"'.format(boundary_rxns_filepath),\n",
    "                      #'--exclude-reactions-filepath', '\"{}\"'.format(exclude_rxns_file),\n",
    "                      '--force-reactions-filepath', '\"{}\"'.format(force_rxns_filepath),\n",
    "                      '--algorithm', '\"{}\"'.format(recon_algorithm),\n",
    "                      '--solver', '\"{}\"'.format(solver),\n",
    "                      '--output-filetypes', '\"{}\"'.format(output_filetypes)])\n",
    "    !{cmd}"
   ]
  },
  {
   "cell_type": "code",
   "execution_count": null,
   "metadata": {},
   "outputs": [],
   "source": [
    "# generate memote reports for each  model \n",
    "\n",
    "for key,value in context_gene_exp.items():\n",
    "    print(key)\n",
    "    report_file = os.path.join(configs.datadir, \"memote_report_{}.html\".format(key))\n",
    "    model_file = os.path.join(configs.datadir, \"results\", key, \"{}_SpecificModel.xml\".format(key))\n",
    "    log_file = os.path.join(configs.datadir, \"{}_memote.log\".format(key))\n",
    "    \n",
    "    cmd = ' '.join(['memote', 'report', 'snapshot', '--filename',\n",
    "                    '\"{}\"'.format(report_file), '\"{}\"'.format(model_file), \">\", '\"{}\"'.format(log_file)])\n",
    "    !{cmd}\n",
    "    \n",
    "    "
   ]
  },
  {
   "cell_type": "markdown",
   "metadata": {
    "tags": []
   },
   "source": [
    "## Step 5: Identifying disease related genes by analyzing transcriptomics data of patients\n",
    "Differential Expression Analysis\n",
    "\n",
    "In the config_sheets folder, there should be a folder called \"disease\". You can add a spreadsheet for each cell/tissue type called `disease_data_inputs_<tissue_name>`. Each sheet of this file should correspond to a seperate disease to analyze using DGE nfor that tissue. The source data can be either microarray or bulk RNA-seq and is formatted the same as if creating the base tissue model. The sheet names should contain the disease name, an underscore, and than either \"microarray\" or \"bulk\" depending on the source data. For example, if the disease is lupus, and the source data is bulk RNA-seq, the name of the sheet should be \"lupus_bulk\". This can be seen in the example sheet. If using bulk RNA-seq data, there should be a count matrix file in `/work/data/data_matrices/<tissue_name>/disease/` called `BulkRNAseqDataMatrix_<disease name>_<tissue name>`. "
   ]
  },
  {
   "cell_type": "markdown",
   "metadata": {},
   "source": [
    "*** Specify input files for step 3 here ***"
   ]
  },
  {
   "cell_type": "code",
   "execution_count": null,
   "metadata": {},
   "outputs": [],
   "source": [
    "# specify tissue names to perform a disease analysis on. The diseases to analyze should be\n",
    "# specified in `/work/data/config_sheets/disease/diease_data_inputs_<tissue name>`\n",
    "tissue_names = ['Naive']"
   ]
  },
  {
   "cell_type": "code",
   "execution_count": null,
   "metadata": {
    "scrolled": true
   },
   "outputs": [],
   "source": [
    "# Differential gene expression analysis\n",
    "for tissue_name in tissue_names:\n",
    "    disease_config_file = \"\".join([\"disease_data_inputs_\", tissue_name, \".xlsx\"])\n",
    "    cmd = ' '.join(['python3', 'disease_analysis.py',\n",
    "                  '-t', '\"{}\"'.format(tissue_name),\n",
    "                  '-c', '\"{}\"'.format(disease_config_file)])\n",
    "    !{cmd}"
   ]
  },
  {
   "cell_type": "markdown",
   "metadata": {},
   "source": [
    "## Step 6: Identification of drug targets and repurposable drugs\n",
    "This step maps drug targets in metabolic models,prforms knock out simulation, and compare simulation results with disease genes and identifies drug targets and repurposable drugs\n",
    "\n",
    "*** Specify input files for step 4 here ***\n",
    "\n",
    "1. Instruction: A processed Drug-Target file is included in the `/root/pipelines/data/`. (Optional step) For the updated versions the users can download `Repurposing_Hub_export.txt` from [Drug Repurposing Hub](https://clue.io/repurposing-app). From the downloaded file first remove all the activators, agonists, and withdrawn drugs and then upload to to `/root/pipelines/data/`."
   ]
  },
  {
   "cell_type": "markdown",
   "metadata": {},
   "source": [
    "2. To use automatically created tissue specific models. Note: It is recommended to use refined and validated models for further analysis. User can define cutomized models in next sub-step."
   ]
  },
  {
   "cell_type": "code",
   "execution_count": null,
   "metadata": {},
   "outputs": [],
   "source": [
    "# tissue specific models\n",
    "tissue_spec_model "
   ]
  },
  {
   "cell_type": "markdown",
   "metadata": {},
   "source": [
    "3. To use customized model, please specify `tissue_spec_model` manually, e.g. uncomment tissue_spec_model in the following cell."
   ]
  },
  {
   "cell_type": "code",
   "execution_count": null,
   "metadata": {},
   "outputs": [],
   "source": [
    "# Manually specify Up and Down Regulated Genes for Disease. (Please upload manually created files `/pipelines/data/`. Use filenames as given belwo or change them accordingly.)\n",
    "# Disease_Down = 'Disease_DOWN.txt'\n",
    "# Disease_Up = 'Disease_UP.txt'\n",
    "# drug_raw_file = 'Repurposing_Hub_export.txt'\n",
    "\n",
    "# Manually specify tissue specific models fine-tuned by user. Change names of the files accordingly. Users can use single or multiple models here. Using multiple models, simulation time will increase.\n",
    "# tissue_spec_model = {'Th1':'Th1Model.mat',\n",
    "#                      'Th2':'Th2Model.mat',\n",
    "#                      'Th17':'Th17Model.mat',\n",
    "#                      'Naive':'NaiveModel.mat'}\n",
    "\n",
    "# Manually specify tissue specific model created by matlab cobratoolbox. For example run, we have provided four models of CD4+ T cells (niave, Th1, Th2, and Th17) please uncomment all or any specific model\n",
    "# tissue_spec_model = {'Th1':'Th1_SpecificModel_matlab.mat',\n",
    "#                      'Th2':'Th2_SpecificModel_matlab.mat',\n",
    "#                      'Th17':'Th17_SpecificModel_matlab.mat',\n",
    "#                      'Naive':'Naive_SpecificModel_matlab.mat'}\n"
   ]
  },
  {
   "cell_type": "code",
   "execution_count": null,
   "metadata": {
    "scrolled": true
   },
   "outputs": [],
   "source": [
    "# Knock out simulation for the analyzed tissues and diseases\n",
    "diseases = ['lupus', 'arthritis']\n",
    "for key,value in tissue_spec_model.items():\n",
    "    for dis in diseases:\n",
    "        # load the results of step 3 to dictionary 'disease_files'\n",
    "        step3_results_file = os.path.join(configs.datadir, 'results', key, \n",
    "                                          dis, 'step2_results_files.json')\n",
    "        with open(step3_results_file) as json_file:\n",
    "            disease_files = json.load(json_file)\n",
    "        #print(disease_files)\n",
    "        Disease_Down = disease_files['DN_Reg']\n",
    "        Disease_Up = disease_files['UP_Reg']\n",
    "        drug_raw_file = 'Repurposing_Hub_export.txt'\n",
    "        \n",
    "        out_dir = os.path.join(configs.datadir, \"results\", key, dis)\n",
    "        tissueSpecificModelfile  = os.path.join(configs.datadir, \"results\", key, value)\n",
    "        print(tissueSpecificModelfile)\n",
    "        tissue_gene_folder = os.path.join(configs.datadir, key)\n",
    "        os.makedirs(tissue_gene_folder, exist_ok=True)\n",
    "        inhibitors_file = '{}_inhibitors_Entrez.txt'.format(key)\n",
    "        cmd = ' '.join(['python3' , 'knock_out_simulation.py',\n",
    "                      '-t', tissueSpecificModelfile,\n",
    "                      '-i', inhibitors_file,\n",
    "                      '-u', Disease_Up,\n",
    "                      '-d', Disease_Down,\n",
    "                      '-f', out_dir,\n",
    "                      '-r', drug_raw_file])\n",
    "        !{cmd}\n",
    "\n",
    "        # copy generated output to output folder\n",
    "        cmd = ' '.join(['cp', '-a', os.path.join(configs.datadir, key), configs.outputdir])\n",
    "        !{cmd}\n",
    "        #break\n"
   ]
  },
  {
   "cell_type": "code",
   "execution_count": null,
   "metadata": {},
   "outputs": [],
   "source": []
  },
  {
   "cell_type": "code",
   "execution_count": null,
   "metadata": {},
   "outputs": [],
   "source": []
  },
  {
   "cell_type": "code",
   "execution_count": null,
   "metadata": {},
   "outputs": [],
   "source": []
  },
  {
   "cell_type": "code",
   "execution_count": null,
   "metadata": {},
   "outputs": [],
   "source": []
  },
  {
   "cell_type": "code",
   "execution_count": null,
   "metadata": {},
   "outputs": [],
   "source": []
  },
  {
   "cell_type": "code",
   "execution_count": null,
   "metadata": {},
   "outputs": [],
   "source": []
  },
  {
   "cell_type": "code",
   "execution_count": null,
   "metadata": {},
   "outputs": [],
   "source": []
  },
  {
   "cell_type": "code",
   "execution_count": null,
   "metadata": {},
   "outputs": [],
   "source": []
  },
  {
   "cell_type": "code",
   "execution_count": null,
   "metadata": {},
   "outputs": [],
   "source": []
  },
  {
   "cell_type": "code",
   "execution_count": null,
   "metadata": {},
   "outputs": [],
   "source": []
  },
  {
   "cell_type": "code",
   "execution_count": null,
   "metadata": {},
   "outputs": [],
   "source": []
  },
  {
   "cell_type": "code",
   "execution_count": null,
   "metadata": {},
   "outputs": [],
   "source": []
  },
  {
   "cell_type": "code",
   "execution_count": null,
   "metadata": {},
   "outputs": [],
   "source": []
  },
  {
   "cell_type": "code",
   "execution_count": null,
   "metadata": {},
   "outputs": [],
   "source": []
  },
  {
   "cell_type": "code",
   "execution_count": null,
   "metadata": {},
   "outputs": [],
   "source": []
  }
 ],
 "metadata": {
  "kernelspec": {
   "display_name": "Python 3 (ipykernel)",
   "language": "python",
   "name": "python3"
  },
  "language_info": {
   "codemirror_mode": {
    "name": "ipython",
    "version": 3
   },
   "file_extension": ".py",
   "mimetype": "text/x-python",
   "name": "python",
   "nbconvert_exporter": "python",
   "pygments_lexer": "ipython3",
   "version": "3.8.10"
  }
 },
 "nbformat": 4,
 "nbformat_minor": 4
}